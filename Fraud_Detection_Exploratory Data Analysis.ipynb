{
 "cells": [
  {
   "cell_type": "markdown",
   "metadata": {},
   "source": [
    "# Fraud detection in credit transactions\n",
    "\n",
    "https://www.kaggle.com/ntnu-testimon/banksim1"
   ]
  },
  {
   "cell_type": "markdown",
   "metadata": {},
   "source": [
    "## 1. Load Libraries"
   ]
  },
  {
   "cell_type": "code",
   "execution_count": 1,
   "metadata": {},
   "outputs": [],
   "source": [
    "import pandas as pd\n",
    "import numpy as np\n",
    "import matplotlib.pyplot as plt\n",
    "import matplotlib\n",
    "import scipy as sc\n",
    "import seaborn as sns\n",
    "%matplotlib inline\n",
    "from math import sqrt\n",
    "matplotlib.style.use('ggplot')"
   ]
  },
  {
   "cell_type": "markdown",
   "metadata": {},
   "source": [
    "## 2. Read data and preliminary analysis"
   ]
  },
  {
   "cell_type": "code",
   "execution_count": 2,
   "metadata": {},
   "outputs": [],
   "source": [
    "data1 = pd.read_csv('bs140513_032310.csv.zip', compression = 'zip')"
   ]
  },
  {
   "cell_type": "code",
   "execution_count": 3,
   "metadata": {},
   "outputs": [
    {
     "name": "stdout",
     "output_type": "stream",
     "text": [
      "Data shape: rows =594643, columns = 10\n"
     ]
    },
    {
     "data": {
      "text/html": [
       "<div>\n",
       "<style scoped>\n",
       "    .dataframe tbody tr th:only-of-type {\n",
       "        vertical-align: middle;\n",
       "    }\n",
       "\n",
       "    .dataframe tbody tr th {\n",
       "        vertical-align: top;\n",
       "    }\n",
       "\n",
       "    .dataframe thead th {\n",
       "        text-align: right;\n",
       "    }\n",
       "</style>\n",
       "<table border=\"1\" class=\"dataframe\">\n",
       "  <thead>\n",
       "    <tr style=\"text-align: right;\">\n",
       "      <th></th>\n",
       "      <th>step</th>\n",
       "      <th>customer</th>\n",
       "      <th>age</th>\n",
       "      <th>gender</th>\n",
       "      <th>zipcodeOri</th>\n",
       "      <th>merchant</th>\n",
       "      <th>zipMerchant</th>\n",
       "      <th>category</th>\n",
       "      <th>amount</th>\n",
       "      <th>fraud</th>\n",
       "    </tr>\n",
       "  </thead>\n",
       "  <tbody>\n",
       "    <tr>\n",
       "      <th>0</th>\n",
       "      <td>0</td>\n",
       "      <td>'C1093826151'</td>\n",
       "      <td>'4'</td>\n",
       "      <td>'M'</td>\n",
       "      <td>'28007'</td>\n",
       "      <td>'M348934600'</td>\n",
       "      <td>'28007'</td>\n",
       "      <td>'es_transportation'</td>\n",
       "      <td>4.55</td>\n",
       "      <td>0</td>\n",
       "    </tr>\n",
       "    <tr>\n",
       "      <th>1</th>\n",
       "      <td>0</td>\n",
       "      <td>'C352968107'</td>\n",
       "      <td>'2'</td>\n",
       "      <td>'M'</td>\n",
       "      <td>'28007'</td>\n",
       "      <td>'M348934600'</td>\n",
       "      <td>'28007'</td>\n",
       "      <td>'es_transportation'</td>\n",
       "      <td>39.68</td>\n",
       "      <td>0</td>\n",
       "    </tr>\n",
       "    <tr>\n",
       "      <th>2</th>\n",
       "      <td>0</td>\n",
       "      <td>'C2054744914'</td>\n",
       "      <td>'4'</td>\n",
       "      <td>'F'</td>\n",
       "      <td>'28007'</td>\n",
       "      <td>'M1823072687'</td>\n",
       "      <td>'28007'</td>\n",
       "      <td>'es_transportation'</td>\n",
       "      <td>26.89</td>\n",
       "      <td>0</td>\n",
       "    </tr>\n",
       "    <tr>\n",
       "      <th>3</th>\n",
       "      <td>0</td>\n",
       "      <td>'C1760612790'</td>\n",
       "      <td>'3'</td>\n",
       "      <td>'M'</td>\n",
       "      <td>'28007'</td>\n",
       "      <td>'M348934600'</td>\n",
       "      <td>'28007'</td>\n",
       "      <td>'es_transportation'</td>\n",
       "      <td>17.25</td>\n",
       "      <td>0</td>\n",
       "    </tr>\n",
       "    <tr>\n",
       "      <th>4</th>\n",
       "      <td>0</td>\n",
       "      <td>'C757503768'</td>\n",
       "      <td>'5'</td>\n",
       "      <td>'M'</td>\n",
       "      <td>'28007'</td>\n",
       "      <td>'M348934600'</td>\n",
       "      <td>'28007'</td>\n",
       "      <td>'es_transportation'</td>\n",
       "      <td>35.72</td>\n",
       "      <td>0</td>\n",
       "    </tr>\n",
       "  </tbody>\n",
       "</table>\n",
       "</div>"
      ],
      "text/plain": [
       "   step       customer  age gender zipcodeOri       merchant zipMerchant  \\\n",
       "0     0  'C1093826151'  '4'    'M'    '28007'   'M348934600'     '28007'   \n",
       "1     0   'C352968107'  '2'    'M'    '28007'   'M348934600'     '28007'   \n",
       "2     0  'C2054744914'  '4'    'F'    '28007'  'M1823072687'     '28007'   \n",
       "3     0  'C1760612790'  '3'    'M'    '28007'   'M348934600'     '28007'   \n",
       "4     0   'C757503768'  '5'    'M'    '28007'   'M348934600'     '28007'   \n",
       "\n",
       "              category  amount  fraud  \n",
       "0  'es_transportation'    4.55      0  \n",
       "1  'es_transportation'   39.68      0  \n",
       "2  'es_transportation'   26.89      0  \n",
       "3  'es_transportation'   17.25      0  \n",
       "4  'es_transportation'   35.72      0  "
      ]
     },
     "execution_count": 3,
     "metadata": {},
     "output_type": "execute_result"
    }
   ],
   "source": [
    "print('Data shape: rows ={}, columns = {}'.format(data1.shape[0], data1.shape[1]))\n",
    "data1.head()"
   ]
  },
  {
   "cell_type": "code",
   "execution_count": 4,
   "metadata": {},
   "outputs": [],
   "source": [
    "#zipcodeOri and zipMerchant doesn't have any predictive power, zero variance(unique value), so dropping them\n",
    "df=data1.drop(columns=['zipcodeOri', 'zipMerchant'])"
   ]
  },
  {
   "cell_type": "code",
   "execution_count": 5,
   "metadata": {},
   "outputs": [
    {
     "data": {
      "text/plain": [
       "['customer', 'age', 'gender', 'merchant', 'category']"
      ]
     },
     "execution_count": 5,
     "metadata": {},
     "output_type": "execute_result"
    }
   ],
   "source": [
    "cat_cols = [col for col in df.columns if df[col].dtype == 'O']\n",
    "cat_cols"
   ]
  },
  {
   "cell_type": "code",
   "execution_count": 6,
   "metadata": {},
   "outputs": [],
   "source": [
    "for col in cat_cols:\n",
    "        df[col] = df[col].str.replace('\\'', '')"
   ]
  },
  {
   "cell_type": "markdown",
   "metadata": {},
   "source": [
    "## 3. Performing Exploratory Data Analysis"
   ]
  },
  {
   "cell_type": "markdown",
   "metadata": {},
   "source": [
    "### Analyzing distinct values of variables"
   ]
  },
  {
   "cell_type": "code",
   "execution_count": 7,
   "metadata": {},
   "outputs": [
    {
     "data": {
      "text/html": [
       "<div>\n",
       "<style scoped>\n",
       "    .dataframe tbody tr th:only-of-type {\n",
       "        vertical-align: middle;\n",
       "    }\n",
       "\n",
       "    .dataframe tbody tr th {\n",
       "        vertical-align: top;\n",
       "    }\n",
       "\n",
       "    .dataframe thead th {\n",
       "        text-align: right;\n",
       "    }\n",
       "</style>\n",
       "<table border=\"1\" class=\"dataframe\">\n",
       "  <thead>\n",
       "    <tr style=\"text-align: right;\">\n",
       "      <th></th>\n",
       "      <th>merchant</th>\n",
       "      <th>num_frauds</th>\n",
       "      <th>num_transactions</th>\n",
       "    </tr>\n",
       "  </thead>\n",
       "  <tbody>\n",
       "    <tr>\n",
       "      <th>18</th>\n",
       "      <td>M1823072687</td>\n",
       "      <td>0</td>\n",
       "      <td>299693</td>\n",
       "    </tr>\n",
       "    <tr>\n",
       "      <th>30</th>\n",
       "      <td>M348934600</td>\n",
       "      <td>0</td>\n",
       "      <td>205426</td>\n",
       "    </tr>\n",
       "  </tbody>\n",
       "</table>\n",
       "</div>"
      ],
      "text/plain": [
       "       merchant  num_frauds  num_transactions\n",
       "18  M1823072687           0            299693\n",
       "30   M348934600           0            205426"
      ]
     },
     "execution_count": 7,
     "metadata": {},
     "output_type": "execute_result"
    }
   ],
   "source": [
    "#Top 10 Merchant based on number of transaction along with number of fraud\n",
    "mer = df.groupby('merchant').agg({'fraud':'sum','category':'count' }).reset_index().\\\n",
    "rename(columns = {'category':'num_transactions', 'fraud':'num_frauds'}).sort_values(by='num_transactions',ascending=False).head(10)\n",
    "# mer_transactions.to_csv('merchant_transactions.csv', index = False)\n",
    "mer.head(2)"
   ]
  },
  {
   "cell_type": "code",
   "execution_count": 8,
   "metadata": {},
   "outputs": [
    {
     "data": {
      "text/html": [
       "<div>\n",
       "<style scoped>\n",
       "    .dataframe tbody tr th:only-of-type {\n",
       "        vertical-align: middle;\n",
       "    }\n",
       "\n",
       "    .dataframe tbody tr th {\n",
       "        vertical-align: top;\n",
       "    }\n",
       "\n",
       "    .dataframe thead th {\n",
       "        text-align: right;\n",
       "    }\n",
       "</style>\n",
       "<table border=\"1\" class=\"dataframe\">\n",
       "  <thead>\n",
       "    <tr style=\"text-align: right;\">\n",
       "      <th></th>\n",
       "      <th>merchant</th>\n",
       "      <th>num_transactions</th>\n",
       "    </tr>\n",
       "  </thead>\n",
       "  <tbody>\n",
       "    <tr>\n",
       "      <th>18</th>\n",
       "      <td>M1823072687</td>\n",
       "      <td>299693</td>\n",
       "    </tr>\n",
       "    <tr>\n",
       "      <th>30</th>\n",
       "      <td>M348934600</td>\n",
       "      <td>205426</td>\n",
       "    </tr>\n",
       "    <tr>\n",
       "      <th>45</th>\n",
       "      <td>M85975013</td>\n",
       "      <td>26254</td>\n",
       "    </tr>\n",
       "    <tr>\n",
       "      <th>0</th>\n",
       "      <td>M1053599405</td>\n",
       "      <td>6821</td>\n",
       "    </tr>\n",
       "    <tr>\n",
       "      <th>9</th>\n",
       "      <td>M151143676</td>\n",
       "      <td>6373</td>\n",
       "    </tr>\n",
       "  </tbody>\n",
       "</table>\n",
       "</div>"
      ],
      "text/plain": [
       "       merchant  num_transactions\n",
       "18  M1823072687            299693\n",
       "30   M348934600            205426\n",
       "45    M85975013             26254\n",
       "0   M1053599405              6821\n",
       "9    M151143676              6373"
      ]
     },
     "execution_count": 8,
     "metadata": {},
     "output_type": "execute_result"
    }
   ],
   "source": [
    "#Top 10 Merchant based on number of transaction along with number of fraud\n",
    "mer_transactions = df.groupby('merchant').agg({'category':'count' }).reset_index().\\\n",
    "rename(columns = {'category':'num_transactions'}).sort_values(by='num_transactions',ascending=False).head(5)\n",
    "mer_transactions.to_csv('merchant_transactions.csv', index = False)\n",
    "mer_transactions"
   ]
  },
  {
   "cell_type": "code",
   "execution_count": 9,
   "metadata": {},
   "outputs": [
    {
     "data": {
      "text/html": [
       "<div>\n",
       "<style scoped>\n",
       "    .dataframe tbody tr th:only-of-type {\n",
       "        vertical-align: middle;\n",
       "    }\n",
       "\n",
       "    .dataframe tbody tr th {\n",
       "        vertical-align: top;\n",
       "    }\n",
       "\n",
       "    .dataframe thead th {\n",
       "        text-align: right;\n",
       "    }\n",
       "</style>\n",
       "<table border=\"1\" class=\"dataframe\">\n",
       "  <thead>\n",
       "    <tr style=\"text-align: right;\">\n",
       "      <th></th>\n",
       "      <th>merchant</th>\n",
       "      <th>num_frauds</th>\n",
       "    </tr>\n",
       "  </thead>\n",
       "  <tbody>\n",
       "    <tr>\n",
       "      <th>34</th>\n",
       "      <td>M480139044</td>\n",
       "      <td>1634</td>\n",
       "    </tr>\n",
       "    <tr>\n",
       "      <th>49</th>\n",
       "      <td>M980657600</td>\n",
       "      <td>1472</td>\n",
       "    </tr>\n",
       "    <tr>\n",
       "      <th>40</th>\n",
       "      <td>M732195782</td>\n",
       "      <td>518</td>\n",
       "    </tr>\n",
       "    <tr>\n",
       "      <th>2</th>\n",
       "      <td>M1198415165</td>\n",
       "      <td>358</td>\n",
       "    </tr>\n",
       "    <tr>\n",
       "      <th>32</th>\n",
       "      <td>M3697346</td>\n",
       "      <td>290</td>\n",
       "    </tr>\n",
       "  </tbody>\n",
       "</table>\n",
       "</div>"
      ],
      "text/plain": [
       "       merchant  num_frauds\n",
       "34   M480139044        1634\n",
       "49   M980657600        1472\n",
       "40   M732195782         518\n",
       "2   M1198415165         358\n",
       "32     M3697346         290"
      ]
     },
     "execution_count": 9,
     "metadata": {},
     "output_type": "execute_result"
    }
   ],
   "source": [
    "#Top 10 Merchant based on number of transaction along with number of fraud\n",
    "merchant_frauds = df.groupby('merchant').agg({'fraud':'sum'}).reset_index().\\\n",
    "rename(columns = {'fraud':'num_frauds'}).sort_values(by='num_frauds',ascending=False).head(5)\n",
    "merchant_frauds.to_csv('merchant_fraud.csv', index = False)\n",
    "merchant_frauds"
   ]
  },
  {
   "cell_type": "code",
   "execution_count": 10,
   "metadata": {},
   "outputs": [
    {
     "data": {
      "text/plain": [
       "[Text(0, 0, 'M1823072687'),\n",
       " Text(0, 0, 'M348934600'),\n",
       " Text(0, 0, 'M85975013'),\n",
       " Text(0, 0, 'M1053599405'),\n",
       " Text(0, 0, 'M151143676')]"
      ]
     },
     "execution_count": 10,
     "metadata": {},
     "output_type": "execute_result"
    },
    {
     "data": {
      "text/plain": [
       "<Figure size 432x288 with 0 Axes>"
      ]
     },
     "metadata": {},
     "output_type": "display_data"
    },
    {
     "data": {
      "image/png": "[encoded data removed]",
      "text/plain": [
       "<Figure size 1080x288 with 2 Axes>"
      ]
     },
     "metadata": {
      "needs_background": "light"
     },
     "output_type": "display_data"
    }
   ],
   "source": [
    "fig = plt.figure()\n",
    "fig, axes = plt.subplots(1,2, figsize = (15,4))\n",
    "plt.suptitle('Merchants vs fraud', fontsize = 15)\n",
    "\n",
    "fig1 = sns.barplot(data = mer.head(), x = 'merchant', y = 'num_transactions', ax = axes[0], label = 'abc')\n",
    "fig2 = sns.barplot(data = mer.sort_values(by = 'num_frauds', ascending = False).head(), x = 'merchant', y = 'num_frauds', ax = axes[1])\n",
    "axes[0].set_title('Top 5 merchants-transactions')\n",
    "axes[1].set_title('Top 5 merchants-frauds')\n",
    "axes[0].set_xticklabels(axes[0].get_xticklabels(), rotation=40, ha='right')\n",
    "axes[1].set_xticklabels(axes[0].get_xticklabels(), rotation=40, ha='right')\n",
    "# fig.savefig('merchant_fraud.csv.png')  "
   ]
  },
  {
   "cell_type": "code",
   "execution_count": 14,
   "metadata": {},
   "outputs": [
    {
     "data": {
      "text/plain": [
       "<Figure size 432x288 with 0 Axes>"
      ]
     },
     "metadata": {},
     "output_type": "display_data"
    },
    {
     "data": {
      "image/png": "[encoded data removed]",
      "text/plain": [
       "<Figure size 504x288 with 1 Axes>"
      ]
     },
     "metadata": {
      "needs_background": "light"
     },
     "output_type": "display_data"
    }
   ],
   "source": [
    "fig = plt.figure()\n",
    "fig, axes = plt.subplots(1,1, figsize = (7,4))\n",
    "# plt.suptitle('Merchants vs fraud', fontsize = 15)\n",
    "\n",
    "fig1 = sns.barplot(data = mer_transactions, x = 'merchant', y = 'num_transactions', ax = axes, label = 'abc')\n",
    "axes.set_title('Top 5 merchants by number of transactions')\n",
    "axes.set_xlabel('Number of transactions')\n",
    "#axes.set_xticklabels(axes.get_xticklabels(), rotation=40, ha='right')\n",
    "plt.show()\n",
    "fig.savefig('merchant_transactions.csv.png')  "
   ]
  },
  {
   "cell_type": "code",
   "execution_count": 15,
   "metadata": {},
   "outputs": [
    {
     "data": {
      "text/plain": [
       "<Figure size 432x288 with 0 Axes>"
      ]
     },
     "metadata": {},
     "output_type": "display_data"
    },
    {
     "data": {
      "image/png": "[encoded data removed]",
      "text/plain": [
       "<Figure size 504x288 with 1 Axes>"
      ]
     },
     "metadata": {
      "needs_background": "light"
     },
     "output_type": "display_data"
    }
   ],
   "source": [
    "fig = plt.figure()\n",
    "fig, axes = plt.subplots(1,1, figsize = (7,4))\n",
    "# plt.suptitle('Merchants vs fraud', fontsize = 15)\n",
    "\n",
    "fig1 = sns.barplot(data = merchant_frauds.head(), x = 'merchant', y = 'num_frauds', ax = axes, label = 'abc')\n",
    "axes.set_title('Top 5 merchants by number of frauds')\n",
    "axes.set_xlabel('Number of frauds')\n",
    "# axes.set_xticklabels(axes.get_xticklabels(), rotation=40, ha='right')\n",
    "plt.show()\n",
    "fig.savefig('merchant_fraud.csv.png')  "
   ]
  },
  {
   "cell_type": "code",
   "execution_count": 46,
   "metadata": {},
   "outputs": [
    {
     "data": {
      "text/plain": [
       "category\n",
       "es_transportation        505119\n",
       "es_food                   26254\n",
       "es_health                 16133\n",
       "es_wellnessandbeauty      15086\n",
       "es_fashion                 6454\n",
       "es_barsandrestaurants      6373\n",
       "es_hyper                   6098\n",
       "es_sportsandtoys           4002\n",
       "es_tech                    2370\n",
       "es_home                    1986\n",
       "es_hotelservices           1744\n",
       "es_otherservices            912\n",
       "es_contents                 885\n",
       "es_travel                   728\n",
       "es_leisure                  499\n",
       "Name: category, dtype: int64"
      ]
     },
     "execution_count": 46,
     "metadata": {},
     "output_type": "execute_result"
    }
   ],
   "source": [
    "df.groupby('category').category.count().sort_values(ascending = False)"
   ]
  },
  {
   "cell_type": "code",
   "execution_count": 54,
   "metadata": {},
   "outputs": [
    {
     "data": {
      "text/plain": [
       "category\n",
       "es_transportation        505119\n",
       "es_food                   26254\n",
       "es_health                 16133\n",
       "es_wellnessandbeauty      15086\n",
       "es_fashion                 6454\n",
       "es_barsandrestaurants      6373\n",
       "es_hyper                   6098\n",
       "es_sportsandtoys           4002\n",
       "es_tech                    2370\n",
       "es_home                    1986\n",
       "es_hotelservices           1744\n",
       "es_otherservices            912\n",
       "es_contents                 885\n",
       "es_travel                   728\n",
       "es_leisure                  499\n",
       "dtype: int64"
      ]
     },
     "execution_count": 54,
     "metadata": {},
     "output_type": "execute_result"
    }
   ],
   "source": [
    "df.groupby('category').size().sort_values(ascending = False)"
   ]
  },
  {
   "cell_type": "code",
   "execution_count": 16,
   "metadata": {},
   "outputs": [
    {
     "data": {
      "text/html": [
       "<div>\n",
       "<style scoped>\n",
       "    .dataframe tbody tr th:only-of-type {\n",
       "        vertical-align: middle;\n",
       "    }\n",
       "\n",
       "    .dataframe tbody tr th {\n",
       "        vertical-align: top;\n",
       "    }\n",
       "\n",
       "    .dataframe thead th {\n",
       "        text-align: right;\n",
       "    }\n",
       "</style>\n",
       "<table border=\"1\" class=\"dataframe\">\n",
       "  <thead>\n",
       "    <tr style=\"text-align: right;\">\n",
       "      <th></th>\n",
       "      <th>category</th>\n",
       "      <th>num_transactions</th>\n",
       "    </tr>\n",
       "  </thead>\n",
       "  <tbody>\n",
       "    <tr>\n",
       "      <th>12</th>\n",
       "      <td>es_transportation</td>\n",
       "      <td>505119</td>\n",
       "    </tr>\n",
       "    <tr>\n",
       "      <th>3</th>\n",
       "      <td>es_food</td>\n",
       "      <td>26254</td>\n",
       "    </tr>\n",
       "    <tr>\n",
       "      <th>4</th>\n",
       "      <td>es_health</td>\n",
       "      <td>16133</td>\n",
       "    </tr>\n",
       "    <tr>\n",
       "      <th>14</th>\n",
       "      <td>es_wellnessandbeauty</td>\n",
       "      <td>15086</td>\n",
       "    </tr>\n",
       "    <tr>\n",
       "      <th>2</th>\n",
       "      <td>es_fashion</td>\n",
       "      <td>6454</td>\n",
       "    </tr>\n",
       "  </tbody>\n",
       "</table>\n",
       "</div>"
      ],
      "text/plain": [
       "                category  num_transactions\n",
       "12     es_transportation            505119\n",
       "3                es_food             26254\n",
       "4              es_health             16133\n",
       "14  es_wellnessandbeauty             15086\n",
       "2             es_fashion              6454"
      ]
     },
     "execution_count": 16,
     "metadata": {},
     "output_type": "execute_result"
    }
   ],
   "source": [
    "#Top 10 category based on number of transaction along with number of fraud\n",
    "category_transactions = df.groupby('category').agg({'customer':'count' }).reset_index().\\\n",
    "rename(columns = {'customer':'num_transactions'}).sort_values(by='num_transactions',ascending=False).head(5)\n",
    "category_transactions.to_csv('category_transactions.csv', index = False)\n",
    "category_transactions"
   ]
  },
  {
   "cell_type": "code",
   "execution_count": 17,
   "metadata": {},
   "outputs": [
    {
     "data": {
      "text/html": [
       "<div>\n",
       "<style scoped>\n",
       "    .dataframe tbody tr th:only-of-type {\n",
       "        vertical-align: middle;\n",
       "    }\n",
       "\n",
       "    .dataframe tbody tr th {\n",
       "        vertical-align: top;\n",
       "    }\n",
       "\n",
       "    .dataframe thead th {\n",
       "        text-align: right;\n",
       "    }\n",
       "</style>\n",
       "<table border=\"1\" class=\"dataframe\">\n",
       "  <thead>\n",
       "    <tr style=\"text-align: right;\">\n",
       "      <th></th>\n",
       "      <th>category</th>\n",
       "      <th>num_frauds</th>\n",
       "    </tr>\n",
       "  </thead>\n",
       "  <tbody>\n",
       "    <tr>\n",
       "      <th>10</th>\n",
       "      <td>es_sportsandtoys</td>\n",
       "      <td>1982</td>\n",
       "    </tr>\n",
       "    <tr>\n",
       "      <th>4</th>\n",
       "      <td>es_health</td>\n",
       "      <td>1696</td>\n",
       "    </tr>\n",
       "    <tr>\n",
       "      <th>14</th>\n",
       "      <td>es_wellnessandbeauty</td>\n",
       "      <td>718</td>\n",
       "    </tr>\n",
       "    <tr>\n",
       "      <th>13</th>\n",
       "      <td>es_travel</td>\n",
       "      <td>578</td>\n",
       "    </tr>\n",
       "    <tr>\n",
       "      <th>6</th>\n",
       "      <td>es_hotelservices</td>\n",
       "      <td>548</td>\n",
       "    </tr>\n",
       "  </tbody>\n",
       "</table>\n",
       "</div>"
      ],
      "text/plain": [
       "                category  num_frauds\n",
       "10      es_sportsandtoys        1982\n",
       "4              es_health        1696\n",
       "14  es_wellnessandbeauty         718\n",
       "13             es_travel         578\n",
       "6       es_hotelservices         548"
      ]
     },
     "execution_count": 17,
     "metadata": {},
     "output_type": "execute_result"
    }
   ],
   "source": [
    "#Top 10 category based on number of transaction along with number of fraud\n",
    "category_frauds = df.groupby('category').agg({'fraud':'sum' }).reset_index().\\\n",
    "rename(columns = {'fraud':'num_frauds'}).sort_values(by='num_frauds',ascending=False).head(5)\n",
    "category_frauds.to_csv('category_frauds.csv', index = False)\n",
    "category_frauds"
   ]
  },
  {
   "cell_type": "code",
   "execution_count": 22,
   "metadata": {},
   "outputs": [
    {
     "data": {
      "text/plain": [
       "<Figure size 432x288 with 0 Axes>"
      ]
     },
     "metadata": {},
     "output_type": "display_data"
    },
    {
     "data": {
      "image/png": "[encoded data removed]",
      "text/plain": [
       "<Figure size 648x288 with 1 Axes>"
      ]
     },
     "metadata": {
      "needs_background": "light"
     },
     "output_type": "display_data"
    }
   ],
   "source": [
    "fig = plt.figure()\n",
    "fig, axes = plt.subplots(1,1, figsize = (9,4))\n",
    "# plt.suptitle('Categories vs fraud', fontsize = 15)\n",
    "\n",
    "sns.barplot(data = category_frauds, x = 'category', y = 'num_frauds', ax = axes, label = 'abc')\n",
    "axes.set_title('Top 5 category by number of frauds')\n",
    "# axes.set_xticklabels(axes.get_xticklabels(), rotation=40, ha='right')\n",
    "# axes.set_xticklabels(axes.get_xticklabels(), rotation=40, ha='right')\n",
    "plt.show()\n",
    "fig.savefig('category_frauds.csv.png')"
   ]
  },
  {
   "cell_type": "code",
   "execution_count": 66,
   "metadata": {},
   "outputs": [
    {
     "ename": "KeyError",
     "evalue": "'num_frauds'",
     "output_type": "error",
     "traceback": [
      "\u001b[1;31m---------------------------------------------------------------------------\u001b[0m",
      "\u001b[1;31mKeyError\u001b[0m                                  Traceback (most recent call last)",
      "\u001b[1;32m<ipython-input-66-62e5fd5a2e4f>\u001b[0m in \u001b[0;36m<module>\u001b[1;34m\u001b[0m\n\u001b[0;32m      4\u001b[0m \u001b[1;33m\u001b[0m\u001b[0m\n\u001b[0;32m      5\u001b[0m \u001b[0mfig1\u001b[0m \u001b[1;33m=\u001b[0m \u001b[0msns\u001b[0m\u001b[1;33m.\u001b[0m\u001b[0mbarplot\u001b[0m\u001b[1;33m(\u001b[0m\u001b[0mdata\u001b[0m \u001b[1;33m=\u001b[0m \u001b[0mcat\u001b[0m\u001b[1;33m.\u001b[0m\u001b[0mhead\u001b[0m\u001b[1;33m(\u001b[0m\u001b[1;33m)\u001b[0m\u001b[1;33m,\u001b[0m \u001b[0mx\u001b[0m \u001b[1;33m=\u001b[0m \u001b[1;34m'category'\u001b[0m\u001b[1;33m,\u001b[0m \u001b[0my\u001b[0m \u001b[1;33m=\u001b[0m \u001b[1;34m'num_transactions'\u001b[0m\u001b[1;33m,\u001b[0m \u001b[0max\u001b[0m \u001b[1;33m=\u001b[0m \u001b[0maxes\u001b[0m\u001b[1;33m[\u001b[0m\u001b[1;36m0\u001b[0m\u001b[1;33m]\u001b[0m\u001b[1;33m,\u001b[0m \u001b[0mlabel\u001b[0m \u001b[1;33m=\u001b[0m \u001b[1;34m'abc'\u001b[0m\u001b[1;33m)\u001b[0m\u001b[1;33m\u001b[0m\u001b[1;33m\u001b[0m\u001b[0m\n\u001b[1;32m----> 6\u001b[1;33m \u001b[0mfig2\u001b[0m \u001b[1;33m=\u001b[0m \u001b[0msns\u001b[0m\u001b[1;33m.\u001b[0m\u001b[0mbarplot\u001b[0m\u001b[1;33m(\u001b[0m\u001b[0mdata\u001b[0m \u001b[1;33m=\u001b[0m \u001b[0mcat\u001b[0m\u001b[1;33m.\u001b[0m\u001b[0msort_values\u001b[0m\u001b[1;33m(\u001b[0m\u001b[0mby\u001b[0m \u001b[1;33m=\u001b[0m \u001b[1;34m'num_frauds'\u001b[0m\u001b[1;33m,\u001b[0m \u001b[0mascending\u001b[0m \u001b[1;33m=\u001b[0m \u001b[1;32mFalse\u001b[0m\u001b[1;33m)\u001b[0m\u001b[1;33m.\u001b[0m\u001b[0mhead\u001b[0m\u001b[1;33m(\u001b[0m\u001b[1;33m)\u001b[0m\u001b[1;33m,\u001b[0m \u001b[0mx\u001b[0m \u001b[1;33m=\u001b[0m \u001b[1;34m'category'\u001b[0m\u001b[1;33m,\u001b[0m \u001b[0my\u001b[0m \u001b[1;33m=\u001b[0m \u001b[1;34m'num_frauds'\u001b[0m\u001b[1;33m,\u001b[0m \u001b[0max\u001b[0m \u001b[1;33m=\u001b[0m \u001b[0maxes\u001b[0m\u001b[1;33m[\u001b[0m\u001b[1;36m1\u001b[0m\u001b[1;33m]\u001b[0m\u001b[1;33m)\u001b[0m\u001b[1;33m\u001b[0m\u001b[1;33m\u001b[0m\u001b[0m\n\u001b[0m\u001b[0;32m      7\u001b[0m \u001b[0maxes\u001b[0m\u001b[1;33m[\u001b[0m\u001b[1;36m0\u001b[0m\u001b[1;33m]\u001b[0m\u001b[1;33m.\u001b[0m\u001b[0mset_title\u001b[0m\u001b[1;33m(\u001b[0m\u001b[1;34m'Top 5 category-transactions'\u001b[0m\u001b[1;33m)\u001b[0m\u001b[1;33m\u001b[0m\u001b[1;33m\u001b[0m\u001b[0m\n\u001b[0;32m      8\u001b[0m \u001b[0maxes\u001b[0m\u001b[1;33m[\u001b[0m\u001b[1;36m1\u001b[0m\u001b[1;33m]\u001b[0m\u001b[1;33m.\u001b[0m\u001b[0mset_title\u001b[0m\u001b[1;33m(\u001b[0m\u001b[1;34m'Top 5 category-frauds'\u001b[0m\u001b[1;33m)\u001b[0m\u001b[1;33m\u001b[0m\u001b[1;33m\u001b[0m\u001b[0m\n",
      "\u001b[1;32mC:\\Anaconda3\\lib\\site-packages\\pandas\\core\\frame.py\u001b[0m in \u001b[0;36msort_values\u001b[1;34m(self, by, axis, ascending, inplace, kind, na_position)\u001b[0m\n\u001b[0;32m   4419\u001b[0m             \u001b[0mby\u001b[0m \u001b[1;33m=\u001b[0m \u001b[0mby\u001b[0m\u001b[1;33m[\u001b[0m\u001b[1;36m0\u001b[0m\u001b[1;33m]\u001b[0m\u001b[1;33m\u001b[0m\u001b[1;33m\u001b[0m\u001b[0m\n\u001b[0;32m   4420\u001b[0m             k = self._get_label_or_level_values(by, axis=axis,\n\u001b[1;32m-> 4421\u001b[1;33m                                                 stacklevel=stacklevel)\n\u001b[0m\u001b[0;32m   4422\u001b[0m \u001b[1;33m\u001b[0m\u001b[0m\n\u001b[0;32m   4423\u001b[0m             \u001b[1;32mif\u001b[0m \u001b[0misinstance\u001b[0m\u001b[1;33m(\u001b[0m\u001b[0mascending\u001b[0m\u001b[1;33m,\u001b[0m \u001b[1;33m(\u001b[0m\u001b[0mtuple\u001b[0m\u001b[1;33m,\u001b[0m \u001b[0mlist\u001b[0m\u001b[1;33m)\u001b[0m\u001b[1;33m)\u001b[0m\u001b[1;33m:\u001b[0m\u001b[1;33m\u001b[0m\u001b[1;33m\u001b[0m\u001b[0m\n",
      "\u001b[1;32mC:\\Anaconda3\\lib\\site-packages\\pandas\\core\\generic.py\u001b[0m in \u001b[0;36m_get_label_or_level_values\u001b[1;34m(self, key, axis, stacklevel)\u001b[0m\n\u001b[0;32m   1380\u001b[0m             \u001b[0mvalues\u001b[0m \u001b[1;33m=\u001b[0m \u001b[0mself\u001b[0m\u001b[1;33m.\u001b[0m\u001b[0maxes\u001b[0m\u001b[1;33m[\u001b[0m\u001b[0maxis\u001b[0m\u001b[1;33m]\u001b[0m\u001b[1;33m.\u001b[0m\u001b[0mget_level_values\u001b[0m\u001b[1;33m(\u001b[0m\u001b[0mkey\u001b[0m\u001b[1;33m)\u001b[0m\u001b[1;33m.\u001b[0m\u001b[0m_values\u001b[0m\u001b[1;33m\u001b[0m\u001b[1;33m\u001b[0m\u001b[0m\n\u001b[0;32m   1381\u001b[0m         \u001b[1;32melse\u001b[0m\u001b[1;33m:\u001b[0m\u001b[1;33m\u001b[0m\u001b[1;33m\u001b[0m\u001b[0m\n\u001b[1;32m-> 1382\u001b[1;33m             \u001b[1;32mraise\u001b[0m \u001b[0mKeyError\u001b[0m\u001b[1;33m(\u001b[0m\u001b[0mkey\u001b[0m\u001b[1;33m)\u001b[0m\u001b[1;33m\u001b[0m\u001b[1;33m\u001b[0m\u001b[0m\n\u001b[0m\u001b[0;32m   1383\u001b[0m \u001b[1;33m\u001b[0m\u001b[0m\n\u001b[0;32m   1384\u001b[0m         \u001b[1;31m# Check for duplicates\u001b[0m\u001b[1;33m\u001b[0m\u001b[1;33m\u001b[0m\u001b[1;33m\u001b[0m\u001b[0m\n",
      "\u001b[1;31mKeyError\u001b[0m: 'num_frauds'"
     ]
    },
    {
     "data": {
      "text/plain": [
       "<Figure size 432x288 with 0 Axes>"
      ]
     },
     "metadata": {},
     "output_type": "display_data"
    },
    {
     "data": {
      "image/png": "[encoded data removed]",
      "text/plain": [
       "<Figure size 1080x288 with 2 Axes>"
      ]
     },
     "metadata": {
      "needs_background": "light"
     },
     "output_type": "display_data"
    }
   ],
   "source": [
    "fig = plt.figure()\n",
    "fig, axes = plt.subplots(1,2, figsize = (15,4))\n",
    "# plt.suptitle('Categories vs fraud', fontsize = 15)\n",
    "\n",
    "fig1 = sns.barplot(data = cat.head(), x = 'category', y = 'num_transactions', ax = axes[0], label = 'abc')\n",
    "fig2 = sns.barplot(data = cat.sort_values(by = 'num_frauds', ascending = False).head(), x = 'category', y = 'num_frauds', ax = axes[1])\n",
    "axes[0].set_title('Top 5 category-transactions')\n",
    "axes[1].set_title('Top 5 category-frauds')\n",
    "axes[0].set_xticklabels(axes[0].get_xticklabels(), rotation=40, ha='right')\n",
    "axes[1].set_xticklabels(axes[0].get_xticklabels(), rotation=40, ha='right')\n",
    "fig.savefig('cat_fraud.csv.png')"
   ]
  },
  {
   "cell_type": "code",
   "execution_count": 23,
   "metadata": {},
   "outputs": [
    {
     "data": {
      "text/plain": [
       "<Figure size 432x288 with 0 Axes>"
      ]
     },
     "metadata": {},
     "output_type": "display_data"
    },
    {
     "data": {
      "image/png": "[encoded data removed]",
      "text/plain": [
       "<Figure size 648x288 with 1 Axes>"
      ]
     },
     "metadata": {
      "needs_background": "light"
     },
     "output_type": "display_data"
    }
   ],
   "source": [
    "fig = plt.figure()\n",
    "fig, axes = plt.subplots(1,1, figsize = (9,4))\n",
    "# plt.suptitle('Categories vs fraud', fontsize = 15)\n",
    "\n",
    "sns.barplot(data = category_transactions, x = 'category', y = 'num_transactions', ax = axes, label = 'abc')\n",
    "axes.set_title('Top 5 category by number of transactions')\n",
    "# axes.set_xticklabels(axes.get_xticklabels(), rotation=40, ha='right')\n",
    "# axes.set_xticklabels(axes.get_xticklabels(), rotation=40, ha='right')\n",
    "plt.show()\n",
    "fig.savefig('category_transactions.csv.png')"
   ]
  },
  {
   "cell_type": "markdown",
   "metadata": {},
   "source": [
    "## Analyzing the target variable - fraud"
   ]
  },
  {
   "cell_type": "code",
   "execution_count": 106,
   "metadata": {},
   "outputs": [
    {
     "name": "stdout",
     "output_type": "stream",
     "text": [
      "Overall percentage of fraud\n",
      "           amount\n",
      "fraud           \n",
      "0      98.789189\n",
      "1       1.210811\n"
     ]
    }
   ],
   "source": [
    "print('Overall percentage of fraud\\n',df[['amount', 'fraud']].groupby('fraud').count()*100/len(df))"
   ]
  },
  {
   "cell_type": "code",
   "execution_count": 189,
   "metadata": {},
   "outputs": [
    {
     "name": "stdout",
     "output_type": "stream",
     "text": [
      "Mean and median amount of transactions wrt frauds\n"
     ]
    },
    {
     "data": {
      "text/html": [
       "<div>\n",
       "<style scoped>\n",
       "    .dataframe tbody tr th:only-of-type {\n",
       "        vertical-align: middle;\n",
       "    }\n",
       "\n",
       "    .dataframe tbody tr th {\n",
       "        vertical-align: top;\n",
       "    }\n",
       "\n",
       "    .dataframe thead th {\n",
       "        text-align: right;\n",
       "    }\n",
       "</style>\n",
       "<table border=\"1\" class=\"dataframe\">\n",
       "  <thead>\n",
       "    <tr style=\"text-align: right;\">\n",
       "      <th></th>\n",
       "      <th>fraud</th>\n",
       "      <th>amount_mean</th>\n",
       "      <th>amount_median</th>\n",
       "      <th>num_frauds</th>\n",
       "      <th>percent_frauds</th>\n",
       "    </tr>\n",
       "  </thead>\n",
       "  <tbody>\n",
       "    <tr>\n",
       "      <th>0</th>\n",
       "      <td>No</td>\n",
       "      <td>31.847230</td>\n",
       "      <td>26.610</td>\n",
       "      <td>587443</td>\n",
       "      <td>98.789189</td>\n",
       "    </tr>\n",
       "    <tr>\n",
       "      <th>1</th>\n",
       "      <td>Yes</td>\n",
       "      <td>530.926551</td>\n",
       "      <td>319.175</td>\n",
       "      <td>7200</td>\n",
       "      <td>1.210811</td>\n",
       "    </tr>\n",
       "  </tbody>\n",
       "</table>\n",
       "</div>"
      ],
      "text/plain": [
       "  fraud  amount_mean  amount_median  num_frauds  percent_frauds\n",
       "0    No    31.847230         26.610      587443       98.789189\n",
       "1   Yes   530.926551        319.175        7200        1.210811"
      ]
     },
     "execution_count": 189,
     "metadata": {},
     "output_type": "execute_result"
    }
   ],
   "source": [
    "print('Mean and median amount of transactions wrt frauds')\n",
    "f = df.groupby('fraud', as_index = False).agg({'amount':['mean', 'median', 'count']})\n",
    "# f.columns = f.columns.droplevel(0)\n",
    "f.columns = ['_'.join(col) for col in f.columns]\n",
    "f.rename(columns = {'amount_count':'num_frauds','fraud_':'fraud' }, inplace = True)\n",
    "f['percent_frauds'] = 100*f['num_frauds']/len(df)\n",
    "f.apply(lambda x: round(x,2))\n",
    "f['fraud'] = np.where(f['fraud'] == 1, 'Yes', 'No')\n",
    "# f.to_csv('fraud_analysis.csv', index = False)\n",
    "f[['fraud','amount_mean','amount_median']].to_csv('Amount_frauds.csv', index = False)\n",
    "f[['fraud','num_frauds','percent_frauds']].to_csv('frauds_analysis.csv', index = False)\n",
    "f"
   ]
  },
  {
   "cell_type": "code",
   "execution_count": 200,
   "metadata": {},
   "outputs": [
    {
     "data": {
      "image/png": "[encoded data removed]",
      "text/plain": [
       "<Figure size 720x288 with 2 Axes>"
      ]
     },
     "metadata": {
      "needs_background": "light"
     },
     "output_type": "display_data"
    }
   ],
   "source": [
    "fig,axes = plt.subplots(1,2,figsize = (10,4))\n",
    "\n",
    "plt.suptitle('Amount Analysis', fontsize = 15)\n",
    "fig1 = sns.barplot(data = f, x = 'fraud', y = 'amount_mean', ax = axes[0], label = 'abc')\n",
    "fig2 = sns.barplot(data = f, x = 'fraud', y = 'amount_median', ax = axes[1], label = 'abc')\n",
    "\n",
    "axes[0].set_title('Average amount', fontsize = 10)\n",
    "axes[1].set_title('Median amount', fontsize = 10)\n",
    "axes[0].set_xticklabels(axes[0].get_xticklabels(), rotation=0, ha='right')\n",
    "axes[1].set_xticklabels(axes[0].get_xticklabels(), rotation=0, ha='right')\n",
    "# axes[0].set_xlabel('')\n",
    "# axes[1].set_xlabel('')\n",
    "plt.savefig('Amount_frauds.csv.png')"
   ]
  },
  {
   "cell_type": "code",
   "execution_count": 203,
   "metadata": {},
   "outputs": [
    {
     "data": {
      "image/png": "[encoded data removed]",
      "text/plain": [
       "<Figure size 864x288 with 2 Axes>"
      ]
     },
     "metadata": {
      "needs_background": "light"
     },
     "output_type": "display_data"
    }
   ],
   "source": [
    "fig,axes = plt.subplots(1,2,figsize = (12,4))\n",
    "plt.suptitle('Fraud Analysis', fontsize = 15)\n",
    "\n",
    "fig1 = sns.barplot(data = f, x = 'fraud', y = 'num_frauds', ax = axes[0], label = 'abc')\n",
    "fig2 = sns.barplot(data = f, x = 'fraud', y = 'percent_frauds', ax = axes[1], label = 'abc')\n",
    "axes[0].set_title('Number of frauds', fontsize = 10)\n",
    "axes[1].set_title('Percent of frauds', fontsize = 10)\n",
    "axes[0].set_xticklabels(axes[0].get_xticklabels(), rotation=0, ha='right')\n",
    "axes[1].set_xticklabels(axes[0].get_xticklabels(), rotation=0, ha='right')\n",
    "plt.savefig('frauds_analysis.csv.png')"
   ]
  },
  {
   "cell_type": "code",
   "execution_count": 79,
   "metadata": {},
   "outputs": [
    {
     "data": {
      "text/html": [
       "<div>\n",
       "<style scoped>\n",
       "    .dataframe tbody tr th:only-of-type {\n",
       "        vertical-align: middle;\n",
       "    }\n",
       "\n",
       "    .dataframe tbody tr th {\n",
       "        vertical-align: top;\n",
       "    }\n",
       "\n",
       "    .dataframe thead th {\n",
       "        text-align: right;\n",
       "    }\n",
       "</style>\n",
       "<table border=\"1\" class=\"dataframe\">\n",
       "  <thead>\n",
       "    <tr style=\"text-align: right;\">\n",
       "      <th></th>\n",
       "      <th>amount</th>\n",
       "    </tr>\n",
       "    <tr>\n",
       "      <th>fraud</th>\n",
       "      <th></th>\n",
       "    </tr>\n",
       "  </thead>\n",
       "  <tbody>\n",
       "    <tr>\n",
       "      <th>0</th>\n",
       "      <td>98.789189</td>\n",
       "    </tr>\n",
       "    <tr>\n",
       "      <th>1</th>\n",
       "      <td>1.210811</td>\n",
       "    </tr>\n",
       "  </tbody>\n",
       "</table>\n",
       "</div>"
      ],
      "text/plain": [
       "          amount\n",
       "fraud           \n",
       "0      98.789189\n",
       "1       1.210811"
      ]
     },
     "execution_count": 79,
     "metadata": {},
     "output_type": "execute_result"
    }
   ],
   "source": [
    "pd.DataFrame(df[['amount', 'fraud']].groupby('fraud').count()*100/len(df))"
   ]
  },
  {
   "cell_type": "code",
   "execution_count": 84,
   "metadata": {},
   "outputs": [
    {
     "data": {
      "text/html": [
       "<div>\n",
       "<style scoped>\n",
       "    .dataframe tbody tr th:only-of-type {\n",
       "        vertical-align: middle;\n",
       "    }\n",
       "\n",
       "    .dataframe tbody tr th {\n",
       "        vertical-align: top;\n",
       "    }\n",
       "\n",
       "    .dataframe thead th {\n",
       "        text-align: right;\n",
       "    }\n",
       "</style>\n",
       "<table border=\"1\" class=\"dataframe\">\n",
       "  <thead>\n",
       "    <tr style=\"text-align: right;\">\n",
       "      <th></th>\n",
       "      <th>fraud</th>\n",
       "    </tr>\n",
       "  </thead>\n",
       "  <tbody>\n",
       "    <tr>\n",
       "      <th>0</th>\n",
       "      <td>98.789189</td>\n",
       "    </tr>\n",
       "    <tr>\n",
       "      <th>1</th>\n",
       "      <td>1.210811</td>\n",
       "    </tr>\n",
       "  </tbody>\n",
       "</table>\n",
       "</div>"
      ],
      "text/plain": [
       "       fraud\n",
       "0  98.789189\n",
       "1   1.210811"
      ]
     },
     "execution_count": 84,
     "metadata": {},
     "output_type": "execute_result"
    }
   ],
   "source": [
    "df.fraud.value_counts()*100/len(df)"
   ]
  },
  {
   "cell_type": "markdown",
   "metadata": {},
   "source": [
    "#### We can clearly see in case of fraud transactions the mean and median amount is quite high comparatively"
   ]
  },
  {
   "cell_type": "code",
   "execution_count": 78,
   "metadata": {},
   "outputs": [
    {
     "data": {
      "text/plain": [
       "<Figure size 432x288 with 0 Axes>"
      ]
     },
     "metadata": {},
     "output_type": "display_data"
    },
    {
     "data": {
      "image/png": "[encoded data removed]",
      "text/plain": [
       "<Figure size 432x288 with 1 Axes>"
      ]
     },
     "metadata": {
      "needs_background": "light"
     },
     "output_type": "display_data"
    }
   ],
   "source": [
    "plt.figure()\n",
    "#figure.figsize()\n",
    "pd.DataFrame(df[['amount', 'fraud']].groupby('fraud').count()*100/len(df)).plot(kind = 'bar', legend = False)\n",
    "plt.title('Percentage of fraudulent transactions vs non-fraudulent transactions')\n",
    "plt.xlabel('Fraud - 0:No, 1:Yes')\n",
    "plt.ylabel('%Fraud')\n",
    "plt.xticks([0,1], labels = ['Not-Fraud','Fraud'])\n",
    "plt.x\n",
    "plt.show()\n",
    "# plt.savefig('percent of fraud transactions.png')"
   ]
  },
  {
   "cell_type": "code",
   "execution_count": 73,
   "metadata": {},
   "outputs": [],
   "source": [
    "#Creating log amount +1 and plotting histogram\n",
    "df['log_amount'] = np.log(df['amount']+1)"
   ]
  },
  {
   "cell_type": "code",
   "execution_count": 158,
   "metadata": {},
   "outputs": [
    {
     "data": {
      "image/png": "[encoded data removed]",
      "text/plain": [
       "<Figure size 504x288 with 1 Axes>"
      ]
     },
     "metadata": {
      "needs_background": "light"
     },
     "output_type": "display_data"
    }
   ],
   "source": [
    "fig = df.log_amount.plot(kind = 'hist', bins = 100, figsize = (7,4))\n",
    "#df.log_amount.plot(kind = 'kde',figsize = (7,4))\n",
    "df[['log_amount']].to_csv('amount_log_histogram.csv',index = False )\n",
    "fig = fig.get_figure()\n",
    "fig.savefig('amount_log_histogram.csv.png')"
   ]
  },
  {
   "cell_type": "code",
   "execution_count": 163,
   "metadata": {},
   "outputs": [],
   "source": [
    "df[df['fraud']==1].loc[:,['log_amount']].to_csv('amount_log_distplot1.csv',index = False )\n",
    "df[df['fraud']==0].loc[:,['log_amount']].to_csv('amount_log_distplot2.csv',index = False )"
   ]
  },
  {
   "cell_type": "code",
   "execution_count": 164,
   "metadata": {},
   "outputs": [
    {
     "name": "stderr",
     "output_type": "stream",
     "text": [
      "C:\\Anaconda3\\lib\\site-packages\\scipy\\stats\\stats.py:1713: FutureWarning: Using a non-tuple sequence for multidimensional indexing is deprecated; use `arr[tuple(seq)]` instead of `arr[seq]`. In the future this will be interpreted as an array index, `arr[np.array(seq)]`, which will result either in an error or a different result.\n",
      "  return np.add.reduce(sorted[indexer] * weights, axis=axis) / sumval\n"
     ]
    },
    {
     "data": {
      "image/png": "[encoded data removed]",
      "text/plain": [
       "<Figure size 504x288 with 1 Axes>"
      ]
     },
     "metadata": {
      "needs_background": "light"
     },
     "output_type": "display_data"
    }
   ],
   "source": [
    "plt.figure(figsize = (7,4))\n",
    "sns.distplot(df[df['fraud']==1].log_amount)\n",
    "sns.distplot(df[df['fraud']==0].log_amount)\n",
    "plt.legend(labels = ['Fraud', 'NotFraud'])\n",
    "plt.yticks()\n",
    "plt.savefig('amount_log_displot.png')"
   ]
  },
  {
   "cell_type": "code",
   "execution_count": 165,
   "metadata": {},
   "outputs": [
    {
     "ename": "NameError",
     "evalue": "name 'X1' is not defined",
     "output_type": "error",
     "traceback": [
      "\u001b[1;31m---------------------------------------------------------------------------\u001b[0m",
      "\u001b[1;31mNameError\u001b[0m                                 Traceback (most recent call last)",
      "\u001b[1;32m<ipython-input-165-afe41b01b699>\u001b[0m in \u001b[0;36m<module>\u001b[1;34m\u001b[0m\n\u001b[1;32m----> 1\u001b[1;33m \u001b[0mtransactionVsFraud\u001b[0m \u001b[1;33m=\u001b[0m \u001b[0mpd\u001b[0m\u001b[1;33m.\u001b[0m\u001b[0mDataFrame\u001b[0m\u001b[1;33m(\u001b[0m\u001b[0mdata\u001b[0m \u001b[1;33m=\u001b[0m \u001b[1;33m{\u001b[0m\u001b[1;34m'Transactions'\u001b[0m\u001b[1;33m:\u001b[0m \u001b[0mX1\u001b[0m\u001b[1;33m,\u001b[0m \u001b[1;34m'Frauds'\u001b[0m\u001b[1;33m:\u001b[0m \u001b[0mX2\u001b[0m\u001b[1;33m.\u001b[0m\u001b[0mravel\u001b[0m\u001b[1;33m(\u001b[0m\u001b[1;33m)\u001b[0m\u001b[1;33m}\u001b[0m\u001b[1;33m)\u001b[0m\u001b[1;33m\u001b[0m\u001b[1;33m\u001b[0m\u001b[0m\n\u001b[0m\u001b[0;32m      2\u001b[0m \u001b[1;31m# transactionVsFraud.to_csv('transactionVsFraud.csv')\u001b[0m\u001b[1;33m\u001b[0m\u001b[1;33m\u001b[0m\u001b[1;33m\u001b[0m\u001b[0m\n\u001b[0;32m      3\u001b[0m \u001b[0mtransactionVsFraud\u001b[0m\u001b[1;33m\u001b[0m\u001b[1;33m\u001b[0m\u001b[0m\n",
      "\u001b[1;31mNameError\u001b[0m: name 'X1' is not defined"
     ]
    }
   ],
   "source": [
    "transactionVsFraud = pd.DataFrame(data = {'Transactions': X1, 'Frauds': X2.ravel()})\n",
    "# transactionVsFraud.to_csv('transactionVsFraud.csv')\n",
    "transactionVsFraud"
   ]
  },
  {
   "cell_type": "markdown",
   "metadata": {},
   "source": [
    "### Deeper analysis on effect of merchant on frauds"
   ]
  },
  {
   "cell_type": "code",
   "execution_count": 24,
   "metadata": {},
   "outputs": [
    {
     "data": {
      "text/html": [
       "<div>\n",
       "<style scoped>\n",
       "    .dataframe tbody tr th:only-of-type {\n",
       "        vertical-align: middle;\n",
       "    }\n",
       "\n",
       "    .dataframe tbody tr th {\n",
       "        vertical-align: top;\n",
       "    }\n",
       "\n",
       "    .dataframe thead th {\n",
       "        text-align: right;\n",
       "    }\n",
       "</style>\n",
       "<table border=\"1\" class=\"dataframe\">\n",
       "  <thead>\n",
       "    <tr style=\"text-align: right;\">\n",
       "      <th></th>\n",
       "      <th>merchant</th>\n",
       "      <th>Count_transactions</th>\n",
       "      <th>Num_frauds</th>\n",
       "      <th>Median_amount</th>\n",
       "      <th>category</th>\n",
       "      <th>ratio_fraud_transactions</th>\n",
       "    </tr>\n",
       "  </thead>\n",
       "  <tbody>\n",
       "    <tr>\n",
       "      <th>3</th>\n",
       "      <td>M1294758098</td>\n",
       "      <td>191</td>\n",
       "      <td>184</td>\n",
       "      <td>289.440</td>\n",
       "      <td>[es_leisure]</td>\n",
       "      <td>96.335079</td>\n",
       "    </tr>\n",
       "    <tr>\n",
       "      <th>32</th>\n",
       "      <td>M3697346</td>\n",
       "      <td>308</td>\n",
       "      <td>290</td>\n",
       "      <td>300.355</td>\n",
       "      <td>[es_leisure]</td>\n",
       "      <td>94.155844</td>\n",
       "    </tr>\n",
       "    <tr>\n",
       "      <th>21</th>\n",
       "      <td>M1873032707</td>\n",
       "      <td>250</td>\n",
       "      <td>216</td>\n",
       "      <td>291.740</td>\n",
       "      <td>[es_hotelservices]</td>\n",
       "      <td>86.400000</td>\n",
       "    </tr>\n",
       "    <tr>\n",
       "      <th>40</th>\n",
       "      <td>M732195782</td>\n",
       "      <td>608</td>\n",
       "      <td>518</td>\n",
       "      <td>1964.460</td>\n",
       "      <td>[es_travel]</td>\n",
       "      <td>85.197368</td>\n",
       "    </tr>\n",
       "    <tr>\n",
       "      <th>49</th>\n",
       "      <td>M980657600</td>\n",
       "      <td>1769</td>\n",
       "      <td>1472</td>\n",
       "      <td>249.050</td>\n",
       "      <td>[es_sportsandtoys]</td>\n",
       "      <td>83.210854</td>\n",
       "    </tr>\n",
       "    <tr>\n",
       "      <th>6</th>\n",
       "      <td>M1353266412</td>\n",
       "      <td>78</td>\n",
       "      <td>64</td>\n",
       "      <td>308.425</td>\n",
       "      <td>[es_hotelservices]</td>\n",
       "      <td>82.051282</td>\n",
       "    </tr>\n",
       "    <tr>\n",
       "      <th>44</th>\n",
       "      <td>M857378720</td>\n",
       "      <td>122</td>\n",
       "      <td>92</td>\n",
       "      <td>301.455</td>\n",
       "      <td>[es_hotelservices]</td>\n",
       "      <td>75.409836</td>\n",
       "    </tr>\n",
       "    <tr>\n",
       "      <th>26</th>\n",
       "      <td>M2080407379</td>\n",
       "      <td>48</td>\n",
       "      <td>36</td>\n",
       "      <td>2074.950</td>\n",
       "      <td>[es_travel]</td>\n",
       "      <td>75.000000</td>\n",
       "    </tr>\n",
       "    <tr>\n",
       "      <th>25</th>\n",
       "      <td>M2011752106</td>\n",
       "      <td>244</td>\n",
       "      <td>166</td>\n",
       "      <td>222.255</td>\n",
       "      <td>[es_hotelservices]</td>\n",
       "      <td>68.032787</td>\n",
       "    </tr>\n",
       "    <tr>\n",
       "      <th>14</th>\n",
       "      <td>M17379832</td>\n",
       "      <td>282</td>\n",
       "      <td>178</td>\n",
       "      <td>173.300</td>\n",
       "      <td>[es_sportsandtoys]</td>\n",
       "      <td>63.120567</td>\n",
       "    </tr>\n",
       "    <tr>\n",
       "      <th>28</th>\n",
       "      <td>M2122776122</td>\n",
       "      <td>341</td>\n",
       "      <td>200</td>\n",
       "      <td>201.020</td>\n",
       "      <td>[es_home]</td>\n",
       "      <td>58.651026</td>\n",
       "    </tr>\n",
       "    <tr>\n",
       "      <th>34</th>\n",
       "      <td>M480139044</td>\n",
       "      <td>3508</td>\n",
       "      <td>1634</td>\n",
       "      <td>148.545</td>\n",
       "      <td>[es_health]</td>\n",
       "      <td>46.579247</td>\n",
       "    </tr>\n",
       "    <tr>\n",
       "      <th>15</th>\n",
       "      <td>M1741626453</td>\n",
       "      <td>528</td>\n",
       "      <td>196</td>\n",
       "      <td>110.270</td>\n",
       "      <td>[es_sportsandtoys]</td>\n",
       "      <td>37.121212</td>\n",
       "    </tr>\n",
       "    <tr>\n",
       "      <th>35</th>\n",
       "      <td>M495352832</td>\n",
       "      <td>69</td>\n",
       "      <td>24</td>\n",
       "      <td>814.070</td>\n",
       "      <td>[es_travel]</td>\n",
       "      <td>34.782609</td>\n",
       "    </tr>\n",
       "    <tr>\n",
       "      <th>46</th>\n",
       "      <td>M923029380</td>\n",
       "      <td>323</td>\n",
       "      <td>102</td>\n",
       "      <td>120.870</td>\n",
       "      <td>[es_home]</td>\n",
       "      <td>31.578947</td>\n",
       "    </tr>\n",
       "    <tr>\n",
       "      <th>22</th>\n",
       "      <td>M1888755466</td>\n",
       "      <td>912</td>\n",
       "      <td>228</td>\n",
       "      <td>87.280</td>\n",
       "      <td>[es_otherservices]</td>\n",
       "      <td>25.000000</td>\n",
       "    </tr>\n",
       "    <tr>\n",
       "      <th>2</th>\n",
       "      <td>M1198415165</td>\n",
       "      <td>1580</td>\n",
       "      <td>358</td>\n",
       "      <td>59.030</td>\n",
       "      <td>[es_wellnessandbeauty]</td>\n",
       "      <td>22.658228</td>\n",
       "    </tr>\n",
       "    <tr>\n",
       "      <th>47</th>\n",
       "      <td>M933210764</td>\n",
       "      <td>69</td>\n",
       "      <td>12</td>\n",
       "      <td>97.390</td>\n",
       "      <td>[es_sportsandtoys]</td>\n",
       "      <td>17.391304</td>\n",
       "    </tr>\n",
       "    <tr>\n",
       "      <th>16</th>\n",
       "      <td>M1748431652</td>\n",
       "      <td>274</td>\n",
       "      <td>36</td>\n",
       "      <td>59.660</td>\n",
       "      <td>[es_wellnessandbeauty]</td>\n",
       "      <td>13.138686</td>\n",
       "    </tr>\n",
       "    <tr>\n",
       "      <th>37</th>\n",
       "      <td>M547558035</td>\n",
       "      <td>949</td>\n",
       "      <td>116</td>\n",
       "      <td>56.980</td>\n",
       "      <td>[es_fashion]</td>\n",
       "      <td>12.223393</td>\n",
       "    </tr>\n",
       "  </tbody>\n",
       "</table>\n",
       "</div>"
      ],
      "text/plain": [
       "       merchant  Count_transactions  Num_frauds  Median_amount  \\\n",
       "3   M1294758098                 191         184        289.440   \n",
       "32     M3697346                 308         290        300.355   \n",
       "21  M1873032707                 250         216        291.740   \n",
       "40   M732195782                 608         518       1964.460   \n",
       "49   M980657600                1769        1472        249.050   \n",
       "6   M1353266412                  78          64        308.425   \n",
       "44   M857378720                 122          92        301.455   \n",
       "26  M2080407379                  48          36       2074.950   \n",
       "25  M2011752106                 244         166        222.255   \n",
       "14    M17379832                 282         178        173.300   \n",
       "28  M2122776122                 341         200        201.020   \n",
       "34   M480139044                3508        1634        148.545   \n",
       "15  M1741626453                 528         196        110.270   \n",
       "35   M495352832                  69          24        814.070   \n",
       "46   M923029380                 323         102        120.870   \n",
       "22  M1888755466                 912         228         87.280   \n",
       "2   M1198415165                1580         358         59.030   \n",
       "47   M933210764                  69          12         97.390   \n",
       "16  M1748431652                 274          36         59.660   \n",
       "37   M547558035                 949         116         56.980   \n",
       "\n",
       "                  category  ratio_fraud_transactions  \n",
       "3             [es_leisure]                 96.335079  \n",
       "32            [es_leisure]                 94.155844  \n",
       "21      [es_hotelservices]                 86.400000  \n",
       "40             [es_travel]                 85.197368  \n",
       "49      [es_sportsandtoys]                 83.210854  \n",
       "6       [es_hotelservices]                 82.051282  \n",
       "44      [es_hotelservices]                 75.409836  \n",
       "26             [es_travel]                 75.000000  \n",
       "25      [es_hotelservices]                 68.032787  \n",
       "14      [es_sportsandtoys]                 63.120567  \n",
       "28               [es_home]                 58.651026  \n",
       "34             [es_health]                 46.579247  \n",
       "15      [es_sportsandtoys]                 37.121212  \n",
       "35             [es_travel]                 34.782609  \n",
       "46               [es_home]                 31.578947  \n",
       "22      [es_otherservices]                 25.000000  \n",
       "2   [es_wellnessandbeauty]                 22.658228  \n",
       "47      [es_sportsandtoys]                 17.391304  \n",
       "16  [es_wellnessandbeauty]                 13.138686  \n",
       "37            [es_fashion]                 12.223393  "
      ]
     },
     "execution_count": 24,
     "metadata": {},
     "output_type": "execute_result"
    }
   ],
   "source": [
    "#Checking for merchants with the highest number of frauds per number of transactions at them \\\n",
    "# Also checking the median amount of fraud amount at these merchants\n",
    "df2 = df.groupby('merchant', as_index = False).agg({'customer':'count','fraud': 'sum', 'amount':'median','category': 'unique'})\\\n",
    ".rename(columns = {'customer': 'Count_transactions', 'fraud': 'Num_frauds', 'amount': 'Median_amount'})\n",
    "df2['ratio_fraud_transactions']=np.where(df2.Num_frauds ==0,0, df2.Num_frauds/df2.Count_transactions * 100)\n",
    "df2.sort_values(by ='ratio_fraud_transactions', ascending = False, inplace = True )\n",
    "#df2 = df2[df2['Num_frauds'] != 0].reset_index(drop = True)\n",
    "df2.head(20)"
   ]
  },
  {
   "cell_type": "code",
   "execution_count": 26,
   "metadata": {},
   "outputs": [
    {
     "data": {
      "image/png": "[encoded data removed]",
      "text/plain": [
       "<Figure size 1080x288 with 1 Axes>"
      ]
     },
     "metadata": {
      "needs_background": "light"
     },
     "output_type": "display_data"
    }
   ],
   "source": [
    "df2_plot = df2[df2['Num_frauds'] != 0].reset_index(drop = True).head(10)\n",
    "plt.figure(figsize = (15,4))\n",
    "# plt.xticks(rotation = 45, fontsize = 10, ha = 'right')\n",
    "g =sns.barplot(data = df2_plot, x = 'merchant', y = 'ratio_fraud_transactions')\n",
    "for index, row in df2_plot.iterrows():\n",
    "    g.text(row.name,row.ratio_fraud_transactions,round(row.Median_amount), color='g', ha=\"center\")\n",
    "# plt.xticks(rotation = 90)\n",
    "plt.ylabel('% of fraud transactions')\n",
    "plt.suptitle('Merchants with highest percentage of fraud transactions')\n",
    "plt.title('...along with median transaction amount', fontsize = 10)\n",
    "plt.xlabel('Merchants')\n",
    "plt.savefig('merchant_analysis.csv.png')\n",
    "df2_plot[['merchant','Median_amount','ratio_fraud_transactions']].to_csv('merchant_analysis.csv', index = False)"
   ]
  },
  {
   "cell_type": "markdown",
   "metadata": {},
   "source": [
    "### Deepar analysis for effect of category on frauds"
   ]
  },
  {
   "cell_type": "code",
   "execution_count": 27,
   "metadata": {},
   "outputs": [
    {
     "data": {
      "text/html": [
       "<div>\n",
       "<style scoped>\n",
       "    .dataframe tbody tr th:only-of-type {\n",
       "        vertical-align: middle;\n",
       "    }\n",
       "\n",
       "    .dataframe tbody tr th {\n",
       "        vertical-align: top;\n",
       "    }\n",
       "\n",
       "    .dataframe thead th {\n",
       "        text-align: right;\n",
       "    }\n",
       "</style>\n",
       "<table border=\"1\" class=\"dataframe\">\n",
       "  <thead>\n",
       "    <tr style=\"text-align: right;\">\n",
       "      <th></th>\n",
       "      <th>category</th>\n",
       "      <th>Count_transactions</th>\n",
       "      <th>Num_frauds</th>\n",
       "      <th>Median_amount</th>\n",
       "      <th>total_merchants</th>\n",
       "      <th>ratio_fraud_transactions</th>\n",
       "    </tr>\n",
       "  </thead>\n",
       "  <tbody>\n",
       "    <tr>\n",
       "      <th>8</th>\n",
       "      <td>es_leisure</td>\n",
       "      <td>499</td>\n",
       "      <td>474</td>\n",
       "      <td>296.660</td>\n",
       "      <td>[M3697346, M1294758098]</td>\n",
       "      <td>94.989980</td>\n",
       "    </tr>\n",
       "    <tr>\n",
       "      <th>13</th>\n",
       "      <td>es_travel</td>\n",
       "      <td>728</td>\n",
       "      <td>578</td>\n",
       "      <td>1888.460</td>\n",
       "      <td>[M732195782, M495352832, M2080407379, M1726401...</td>\n",
       "      <td>79.395604</td>\n",
       "    </tr>\n",
       "    <tr>\n",
       "      <th>10</th>\n",
       "      <td>es_sportsandtoys</td>\n",
       "      <td>4002</td>\n",
       "      <td>1982</td>\n",
       "      <td>134.175</td>\n",
       "      <td>[M1741626453, M980657600, M17379832, M16491693...</td>\n",
       "      <td>49.525237</td>\n",
       "    </tr>\n",
       "    <tr>\n",
       "      <th>6</th>\n",
       "      <td>es_hotelservices</td>\n",
       "      <td>1744</td>\n",
       "      <td>548</td>\n",
       "      <td>131.940</td>\n",
       "      <td>[M348875670, M1873032707, M2011752106, M857378...</td>\n",
       "      <td>31.422018</td>\n",
       "    </tr>\n",
       "    <tr>\n",
       "      <th>9</th>\n",
       "      <td>es_otherservices</td>\n",
       "      <td>912</td>\n",
       "      <td>228</td>\n",
       "      <td>87.280</td>\n",
       "      <td>[M1888755466]</td>\n",
       "      <td>25.000000</td>\n",
       "    </tr>\n",
       "    <tr>\n",
       "      <th>5</th>\n",
       "      <td>es_home</td>\n",
       "      <td>1986</td>\n",
       "      <td>302</td>\n",
       "      <td>111.310</td>\n",
       "      <td>[M2122776122, M117188757, M923029380, M1872033...</td>\n",
       "      <td>15.206445</td>\n",
       "    </tr>\n",
       "    <tr>\n",
       "      <th>4</th>\n",
       "      <td>es_health</td>\n",
       "      <td>16133</td>\n",
       "      <td>1696</td>\n",
       "      <td>97.890</td>\n",
       "      <td>[M50039827, M1053599405, M480139044, M69289850...</td>\n",
       "      <td>10.512614</td>\n",
       "    </tr>\n",
       "    <tr>\n",
       "      <th>11</th>\n",
       "      <td>es_tech</td>\n",
       "      <td>2370</td>\n",
       "      <td>158</td>\n",
       "      <td>90.390</td>\n",
       "      <td>[M840466850, M1842530320, M1416436880]</td>\n",
       "      <td>6.666667</td>\n",
       "    </tr>\n",
       "    <tr>\n",
       "      <th>14</th>\n",
       "      <td>es_wellnessandbeauty</td>\n",
       "      <td>15086</td>\n",
       "      <td>718</td>\n",
       "      <td>51.895</td>\n",
       "      <td>[M1535107174, M209847108, M1198415165, M174843...</td>\n",
       "      <td>4.759380</td>\n",
       "    </tr>\n",
       "    <tr>\n",
       "      <th>7</th>\n",
       "      <td>es_hyper</td>\n",
       "      <td>6098</td>\n",
       "      <td>280</td>\n",
       "      <td>36.750</td>\n",
       "      <td>[M855959430]</td>\n",
       "      <td>4.591669</td>\n",
       "    </tr>\n",
       "  </tbody>\n",
       "</table>\n",
       "</div>"
      ],
      "text/plain": [
       "                category  Count_transactions  Num_frauds  Median_amount  \\\n",
       "8             es_leisure                 499         474        296.660   \n",
       "13             es_travel                 728         578       1888.460   \n",
       "10      es_sportsandtoys                4002        1982        134.175   \n",
       "6       es_hotelservices                1744         548        131.940   \n",
       "9       es_otherservices                 912         228         87.280   \n",
       "5                es_home                1986         302        111.310   \n",
       "4              es_health               16133        1696         97.890   \n",
       "11               es_tech                2370         158         90.390   \n",
       "14  es_wellnessandbeauty               15086         718         51.895   \n",
       "7               es_hyper                6098         280         36.750   \n",
       "\n",
       "                                      total_merchants  \\\n",
       "8                             [M3697346, M1294758098]   \n",
       "13  [M732195782, M495352832, M2080407379, M1726401...   \n",
       "10  [M1741626453, M980657600, M17379832, M16491693...   \n",
       "6   [M348875670, M1873032707, M2011752106, M857378...   \n",
       "9                                       [M1888755466]   \n",
       "5   [M2122776122, M117188757, M923029380, M1872033...   \n",
       "4   [M50039827, M1053599405, M480139044, M69289850...   \n",
       "11             [M840466850, M1842530320, M1416436880]   \n",
       "14  [M1535107174, M209847108, M1198415165, M174843...   \n",
       "7                                        [M855959430]   \n",
       "\n",
       "    ratio_fraud_transactions  \n",
       "8                  94.989980  \n",
       "13                 79.395604  \n",
       "10                 49.525237  \n",
       "6                  31.422018  \n",
       "9                  25.000000  \n",
       "5                  15.206445  \n",
       "4                  10.512614  \n",
       "11                  6.666667  \n",
       "14                  4.759380  \n",
       "7                   4.591669  "
      ]
     },
     "execution_count": 27,
     "metadata": {},
     "output_type": "execute_result"
    }
   ],
   "source": [
    "#Checking for category with the highest number of frauds per number of transactions at them \\\n",
    "# Also checking the median amount of fraud amount at these category\n",
    "df_category = df.groupby('category', as_index = False).agg({'customer':'count','fraud': 'sum', 'amount':'median', 'merchant': 'unique'})\\\n",
    ".rename(columns = {'customer': 'Count_transactions', 'fraud': 'Num_frauds', 'amount': 'Median_amount', 'merchant': 'total_merchants'})\n",
    "df_category['ratio_fraud_transactions']=np.where(df_category.Num_frauds ==0,0, df_category.Num_frauds/df_category.Count_transactions * 100)\n",
    "df_category.sort_values(by ='ratio_fraud_transactions', ascending = False, inplace = True )\n",
    "#df_category = df_category[df_category['Num_frauds'] != 0].reset_index(drop = True)\n",
    "df_category.head(10)"
   ]
  },
  {
   "cell_type": "code",
   "execution_count": 29,
   "metadata": {},
   "outputs": [
    {
     "data": {
      "image/png": "[encoded data removed]",
      "text/plain": [
       "<Figure size 1224x288 with 1 Axes>"
      ]
     },
     "metadata": {
      "needs_background": "light"
     },
     "output_type": "display_data"
    }
   ],
   "source": [
    "df_category_plot = df_category[df_category['Num_frauds'] != 0].reset_index(drop = True).head(10)\n",
    "plt.figure(figsize = (17,4))\n",
    "g =sns.barplot(data = df_category_plot, x = 'category', y = 'ratio_fraud_transactions')\n",
    "# plt.xticks(rotation = 45, fontsize = 12, ha = 'right')\n",
    "for index, row in df_category_plot.iterrows():\n",
    "    g.text(row.name,row.ratio_fraud_transactions,round(row.Median_amount), color='g', ha=\"center\")\n",
    "plt.ylabel('% of fraud transactions')\n",
    "plt.suptitle('Categories with highest percentage of fraud transactions')\n",
    "plt.title('...along with median transaction amount', fontsize = 10)\n",
    "plt.xlabel('Categories', fontsize = 12)\n",
    "\n",
    "df_category_plot[['category','ratio_fraud_transactions','Median_amount']].to_csv('category_analysis.csv', index = False)\n",
    "plt.savefig('category_analysis.csv.png')"
   ]
  },
  {
   "cell_type": "markdown",
   "metadata": {},
   "source": [
    "## Analysis by customer"
   ]
  },
  {
   "cell_type": "code",
   "execution_count": 6,
   "metadata": {},
   "outputs": [
    {
     "data": {
      "text/html": [
       "<div>\n",
       "<style scoped>\n",
       "    .dataframe tbody tr th:only-of-type {\n",
       "        vertical-align: middle;\n",
       "    }\n",
       "\n",
       "    .dataframe tbody tr th {\n",
       "        vertical-align: top;\n",
       "    }\n",
       "\n",
       "    .dataframe thead th {\n",
       "        text-align: right;\n",
       "    }\n",
       "</style>\n",
       "<table border=\"1\" class=\"dataframe\">\n",
       "  <thead>\n",
       "    <tr style=\"text-align: right;\">\n",
       "      <th></th>\n",
       "      <th>customer</th>\n",
       "      <th>cust_num_transactions</th>\n",
       "      <th>cust_num_frauds</th>\n",
       "      <th>amount_mean</th>\n",
       "      <th>amount_median</th>\n",
       "      <th>amount_min</th>\n",
       "      <th>amount_max</th>\n",
       "      <th>category_nunique</th>\n",
       "      <th>category_count</th>\n",
       "      <th>category_unique</th>\n",
       "      <th>merchant_nunique</th>\n",
       "      <th>merchant_count</th>\n",
       "      <th>merchant_unique</th>\n",
       "      <th>cust_ratio_fraud_transactions</th>\n",
       "    </tr>\n",
       "  </thead>\n",
       "  <tbody>\n",
       "    <tr>\n",
       "      <th>0</th>\n",
       "      <td>'C910454738'</td>\n",
       "      <td>92</td>\n",
       "      <td>87</td>\n",
       "      <td>410.820761</td>\n",
       "      <td>335.995</td>\n",
       "      <td>5.45</td>\n",
       "      <td>4187.09</td>\n",
       "      <td>12</td>\n",
       "      <td>92</td>\n",
       "      <td>['es_travel', 'es_sportsandtoys', 'es_fashion'...</td>\n",
       "      <td>22</td>\n",
       "      <td>92</td>\n",
       "      <td>['M732195782', 'M980657600', 'M547558035', 'M8...</td>\n",
       "      <td>94.565217</td>\n",
       "    </tr>\n",
       "    <tr>\n",
       "      <th>1</th>\n",
       "      <td>'C2004941826'</td>\n",
       "      <td>126</td>\n",
       "      <td>119</td>\n",
       "      <td>513.897460</td>\n",
       "      <td>296.030</td>\n",
       "      <td>4.71</td>\n",
       "      <td>4091.43</td>\n",
       "      <td>12</td>\n",
       "      <td>126</td>\n",
       "      <td>['es_sportsandtoys', 'es_barsandrestaurants', ...</td>\n",
       "      <td>24</td>\n",
       "      <td>126</td>\n",
       "      <td>['M980657600', 'M151143676', 'M480139044', 'M8...</td>\n",
       "      <td>94.444444</td>\n",
       "    </tr>\n",
       "    <tr>\n",
       "      <th>2</th>\n",
       "      <td>'C381007057'</td>\n",
       "      <td>100</td>\n",
       "      <td>89</td>\n",
       "      <td>513.888700</td>\n",
       "      <td>254.180</td>\n",
       "      <td>18.05</td>\n",
       "      <td>6129.63</td>\n",
       "      <td>10</td>\n",
       "      <td>100</td>\n",
       "      <td>['es_sportsandtoys', 'es_health', 'es_leisure'...</td>\n",
       "      <td>22</td>\n",
       "      <td>100</td>\n",
       "      <td>['M980657600', 'M692898500', 'M50039827', 'M93...</td>\n",
       "      <td>89.000000</td>\n",
       "    </tr>\n",
       "    <tr>\n",
       "      <th>3</th>\n",
       "      <td>'C1572610482'</td>\n",
       "      <td>101</td>\n",
       "      <td>89</td>\n",
       "      <td>581.060693</td>\n",
       "      <td>311.040</td>\n",
       "      <td>6.19</td>\n",
       "      <td>4953.41</td>\n",
       "      <td>11</td>\n",
       "      <td>101</td>\n",
       "      <td>['es_health', 'es_wellnessandbeauty', 'es_spor...</td>\n",
       "      <td>23</td>\n",
       "      <td>101</td>\n",
       "      <td>['M480139044', 'M209847108', 'M980657600', 'M8...</td>\n",
       "      <td>88.118812</td>\n",
       "    </tr>\n",
       "  </tbody>\n",
       "</table>\n",
       "</div>"
      ],
      "text/plain": [
       "        customer  cust_num_transactions  cust_num_frauds  amount_mean  \\\n",
       "0   'C910454738'                     92               87   410.820761   \n",
       "1  'C2004941826'                    126              119   513.897460   \n",
       "2   'C381007057'                    100               89   513.888700   \n",
       "3  'C1572610482'                    101               89   581.060693   \n",
       "\n",
       "   amount_median  amount_min  amount_max  category_nunique  category_count  \\\n",
       "0        335.995        5.45     4187.09                12              92   \n",
       "1        296.030        4.71     4091.43                12             126   \n",
       "2        254.180       18.05     6129.63                10             100   \n",
       "3        311.040        6.19     4953.41                11             101   \n",
       "\n",
       "                                     category_unique  merchant_nunique  \\\n",
       "0  ['es_travel', 'es_sportsandtoys', 'es_fashion'...                22   \n",
       "1  ['es_sportsandtoys', 'es_barsandrestaurants', ...                24   \n",
       "2  ['es_sportsandtoys', 'es_health', 'es_leisure'...                22   \n",
       "3  ['es_health', 'es_wellnessandbeauty', 'es_spor...                23   \n",
       "\n",
       "   merchant_count                                    merchant_unique  \\\n",
       "0              92  ['M732195782', 'M980657600', 'M547558035', 'M8...   \n",
       "1             126  ['M980657600', 'M151143676', 'M480139044', 'M8...   \n",
       "2             100  ['M980657600', 'M692898500', 'M50039827', 'M93...   \n",
       "3             101  ['M480139044', 'M209847108', 'M980657600', 'M8...   \n",
       "\n",
       "   cust_ratio_fraud_transactions  \n",
       "0                      94.565217  \n",
       "1                      94.444444  \n",
       "2                      89.000000  \n",
       "3                      88.118812  "
      ]
     },
     "execution_count": 6,
     "metadata": {},
     "output_type": "execute_result"
    }
   ],
   "source": [
    "df_customer = df.groupby('customer', as_index = False).agg({'fraud': ['count','sum'],\\\n",
    "                                                            'amount':['mean','median','min','max'],\n",
    "                                                            'category': ['nunique','count','unique'],\n",
    "                                                            'merchant': ['nunique','count','unique']})\\\n",
    "#.rename(columns = {'customer': 'Count_transactions', 'fraud': 'Num_frauds', 'amount': 'Median_amount', 'merchant': 'total_merchants'})\n",
    "df_customer.columns = ['_'.join(col) for col in df_customer.columns]\n",
    "df_customer.rename(columns = {'customer_':'customer','fraud_count': 'cust_num_transactions', 'fraud_sum': 'cust_num_frauds'}, inplace = True)\n",
    "df_customer['cust_ratio_fraud_transactions']=np.where(df_customer.cust_num_frauds ==0,0, df_customer.cust_num_frauds/df_customer.cust_num_transactions * 100)\n",
    "df_customer.sort_values(by ='cust_ratio_fraud_transactions', ascending = False, inplace = True)\n",
    "#df_customer = df_customer[df_customer['num_frauds'] != 0].reset_index(drop = True)\n",
    "df_customer = df_customer.reset_index(drop = True)\n",
    "df_customer.head(4)\n",
    "#df_customer.shape\n",
    "#add age -"
   ]
  },
  {
   "cell_type": "code",
   "execution_count": 182,
   "metadata": {},
   "outputs": [
    {
     "data": {
      "image/png": "[encoded data removed]",
      "text/plain": [
       "<Figure size 864x288 with 1 Axes>"
      ]
     },
     "metadata": {},
     "output_type": "display_data"
    }
   ],
   "source": [
    "plt.figure(figsize = (12,4))\n",
    "g =sns.barplot(data = df_customer.head(10), x = 'customer', y = 'cust_ratio_fraud_transactions')\n",
    "plt.xticks(rotation = 45, fontsize = 12, ha = 'right')\n",
    "for index, row in df_customer.head(10).iterrows():\n",
    "    g.text(row.name,row.cust_ratio_fraud_transactions,round(row.amount_median), color='black', ha=\"center\")\n",
    "plt.ylabel('% of fraud transactions')\n",
    "plt.suptitle('Customer Fraud Analysis - top 10')\n",
    "plt.title('Percentage of fraud transactions with median transaction amount', fontsize = 10)\n",
    "plt.xlabel('Customers', fontsize = 12)\n",
    "\n",
    "df_customer.head(10).to_csv('customer2.csv', index = False)\n",
    "plt.savefig('customer2.csv.png')"
   ]
  },
  {
   "cell_type": "code",
   "execution_count": 13,
   "metadata": {},
   "outputs": [
    {
     "data": {
      "text/html": [
       "<div>\n",
       "<style scoped>\n",
       "    .dataframe tbody tr th:only-of-type {\n",
       "        vertical-align: middle;\n",
       "    }\n",
       "\n",
       "    .dataframe tbody tr th {\n",
       "        vertical-align: top;\n",
       "    }\n",
       "\n",
       "    .dataframe thead th {\n",
       "        text-align: right;\n",
       "    }\n",
       "</style>\n",
       "<table border=\"1\" class=\"dataframe\">\n",
       "  <thead>\n",
       "    <tr style=\"text-align: right;\">\n",
       "      <th></th>\n",
       "      <th>customer</th>\n",
       "      <th>cust_num_transactions</th>\n",
       "      <th>cust_num_frauds</th>\n",
       "      <th>cust_ratio_fraud_transactions</th>\n",
       "      <th>cust_amount_mean</th>\n",
       "      <th>cust_amount_median</th>\n",
       "      <th>step</th>\n",
       "      <th>merchant</th>\n",
       "      <th>category</th>\n",
       "      <th>log_amount</th>\n",
       "      <th>amount</th>\n",
       "      <th>fraud</th>\n",
       "    </tr>\n",
       "  </thead>\n",
       "  <tbody>\n",
       "    <tr>\n",
       "      <th>0</th>\n",
       "      <td>'C1350963410'</td>\n",
       "      <td>191</td>\n",
       "      <td>144</td>\n",
       "      <td>75.39267</td>\n",
       "      <td>294.331728</td>\n",
       "      <td>179.99</td>\n",
       "      <td>134</td>\n",
       "      <td>'M1294758098'</td>\n",
       "      <td>'es_leisure'</td>\n",
       "      <td>5.861754</td>\n",
       "      <td>350.34</td>\n",
       "      <td>1</td>\n",
       "    </tr>\n",
       "    <tr>\n",
       "      <th>1</th>\n",
       "      <td>'C1350963410'</td>\n",
       "      <td>191</td>\n",
       "      <td>144</td>\n",
       "      <td>75.39267</td>\n",
       "      <td>294.331728</td>\n",
       "      <td>179.99</td>\n",
       "      <td>73</td>\n",
       "      <td>'M732195782'</td>\n",
       "      <td>'es_travel'</td>\n",
       "      <td>7.719263</td>\n",
       "      <td>2250.30</td>\n",
       "      <td>1</td>\n",
       "    </tr>\n",
       "    <tr>\n",
       "      <th>2</th>\n",
       "      <td>'C1350963410'</td>\n",
       "      <td>191</td>\n",
       "      <td>144</td>\n",
       "      <td>75.39267</td>\n",
       "      <td>294.331728</td>\n",
       "      <td>179.99</td>\n",
       "      <td>80</td>\n",
       "      <td>'M1294758098'</td>\n",
       "      <td>'es_leisure'</td>\n",
       "      <td>5.069344</td>\n",
       "      <td>158.07</td>\n",
       "      <td>1</td>\n",
       "    </tr>\n",
       "    <tr>\n",
       "      <th>3</th>\n",
       "      <td>'C1350963410'</td>\n",
       "      <td>191</td>\n",
       "      <td>144</td>\n",
       "      <td>75.39267</td>\n",
       "      <td>294.331728</td>\n",
       "      <td>179.99</td>\n",
       "      <td>80</td>\n",
       "      <td>'M1741626453'</td>\n",
       "      <td>'es_sportsandtoys'</td>\n",
       "      <td>2.891482</td>\n",
       "      <td>17.02</td>\n",
       "      <td>1</td>\n",
       "    </tr>\n",
       "    <tr>\n",
       "      <th>4</th>\n",
       "      <td>'C1350963410'</td>\n",
       "      <td>191</td>\n",
       "      <td>144</td>\n",
       "      <td>75.39267</td>\n",
       "      <td>294.331728</td>\n",
       "      <td>179.99</td>\n",
       "      <td>79</td>\n",
       "      <td>'M857378720'</td>\n",
       "      <td>'es_hotelservices'</td>\n",
       "      <td>5.947669</td>\n",
       "      <td>381.86</td>\n",
       "      <td>1</td>\n",
       "    </tr>\n",
       "  </tbody>\n",
       "</table>\n",
       "</div>"
      ],
      "text/plain": [
       "        customer  cust_num_transactions  cust_num_frauds  \\\n",
       "0  'C1350963410'                    191              144   \n",
       "1  'C1350963410'                    191              144   \n",
       "2  'C1350963410'                    191              144   \n",
       "3  'C1350963410'                    191              144   \n",
       "4  'C1350963410'                    191              144   \n",
       "\n",
       "   cust_ratio_fraud_transactions  cust_amount_mean  cust_amount_median  step  \\\n",
       "0                       75.39267        294.331728              179.99   134   \n",
       "1                       75.39267        294.331728              179.99    73   \n",
       "2                       75.39267        294.331728              179.99    80   \n",
       "3                       75.39267        294.331728              179.99    80   \n",
       "4                       75.39267        294.331728              179.99    79   \n",
       "\n",
       "        merchant            category  log_amount   amount  fraud  \n",
       "0  'M1294758098'        'es_leisure'    5.861754   350.34      1  \n",
       "1   'M732195782'         'es_travel'    7.719263  2250.30      1  \n",
       "2  'M1294758098'        'es_leisure'    5.069344   158.07      1  \n",
       "3  'M1741626453'  'es_sportsandtoys'    2.891482    17.02      1  \n",
       "4   'M857378720'  'es_hotelservices'    5.947669   381.86      1  "
      ]
     },
     "execution_count": 13,
     "metadata": {},
     "output_type": "execute_result"
    }
   ],
   "source": [
    "columnstokeep = ['customer','cust_num_transactions','cust_num_frauds','cust_ratio_fraud_transactions','amount_mean','amount_median','step','merchant','category','log_amount','amount', 'fraud']\n",
    "df_cust2 = pd.merge(df, df_customer, on = 'customer')[columnstokeep]\\\n",
    "    .sort_values(by = 'cust_num_frauds', ascending = False).reset_index(drop = True)\\\n",
    "    .rename(columns = {'amount_mean':'cust_amount_mean', 'amount_median':'cust_amount_median'})\n",
    "df_cust2.head()"
   ]
  }
 ],
 "metadata": {
  "kernelspec": {
   "display_name": "Python 3",
   "language": "python",
   "name": "python3"
  },
  "language_info": {
   "codemirror_mode": {
    "name": "ipython",
    "version": 3
   },
   "file_extension": ".py",
   "mimetype": "text/x-python",
   "name": "python",
   "nbconvert_exporter": "python",
   "pygments_lexer": "ipython3",
   "version": "3.7.1"
  }
 },
 "nbformat": 4,
 "nbformat_minor": 2
}
