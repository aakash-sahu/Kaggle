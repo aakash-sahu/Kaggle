{
 "cells": [
  {
   "cell_type": "code",
   "execution_count": 1,
   "metadata": {},
   "outputs": [],
   "source": [
    "import requests\n",
    "import json"
   ]
  },
  {
   "cell_type": "code",
   "execution_count": 6,
   "metadata": {},
   "outputs": [
    {
     "name": "stdout",
     "output_type": "stream",
     "text": [
      "Return Status:  200\n",
      "Prediction: \n",
      " {'plots': '[{\"plots\":\"<div id=\\'i7BE17CIQJVHGA0KPWIBE\\'><div style=\\'color: #900; text-align: center;\\'>  <b>Visualization omitted, Javascript library not loaded!<\\\\/b><br>  Have you run `initjs()` in this notebook? If this notebook was from another  user you must also trust this notebook (File -> Trust notebook). If you are viewing  this notebook on github the Javascript has been stripped for security. If you are using  JupyterLab this error is because a JupyterLab extension has not yet been written.<\\\\/div><\\\\/div> <script>   if (window.SHAP) SHAP.ReactDom.render(    SHAP.React.createElement(SHAP.AdditiveForceVisualizer, {\\\\\"outNames\\\\\": [\\\\\"output value\\\\\"], \\\\\"baseValue\\\\\": -5.485230922698975, \\\\\"outValue\\\\\": -10.989492416381836, \\\\\"link\\\\\": \\\\\"identity\\\\\", \\\\\"featureNames\\\\\": [\\\\\"merchant\\\\\", \\\\\"category\\\\\", \\\\\"amount\\\\\"], \\\\\"features\\\\\": {\\\\\"0\\\\\": {\\\\\"effect\\\\\": -1.4188268184661865, \\\\\"value\\\\\": 30.0}, \\\\\"1\\\\\": {\\\\\"effect\\\\\": -2.821880578994751, \\\\\"value\\\\\": 12.0}, \\\\\"2\\\\\": {\\\\\"effect\\\\\": -1.2635539770126343, \\\\\"value\\\\\": 2.827905162910489}}, \\\\\"plot_cmap\\\\\": \\\\\"RdBu\\\\\", \\\\\"labelMargin\\\\\": 20}),    document.getElementById(\\'i7BE17CIQJVHGA0KPWIBE\\')  );<\\\\/script>\"},{\"plots\":\"<div id=\\'iNML02KK79JY1LYNBDLIU\\'><div style=\\'color: #900; text-align: center;\\'>  <b>Visualization omitted, Javascript library not loaded!<\\\\/b><br>  Have you run `initjs()` in this notebook? If this notebook was from another  user you must also trust this notebook (File -> Trust notebook). If you are viewing  this notebook on github the Javascript has been stripped for security. If you are using  JupyterLab this error is because a JupyterLab extension has not yet been written.<\\\\/div><\\\\/div> <script>   if (window.SHAP) SHAP.ReactDom.render(    SHAP.React.createElement(SHAP.AdditiveForceVisualizer, {\\\\\"outNames\\\\\": [\\\\\"output value\\\\\"], \\\\\"baseValue\\\\\": -5.485230922698975, \\\\\"outValue\\\\\": 2.560314655303955, \\\\\"link\\\\\": \\\\\"identity\\\\\", \\\\\"featureNames\\\\\": [\\\\\"merchant\\\\\", \\\\\"category\\\\\", \\\\\"amount\\\\\"], \\\\\"features\\\\\": {\\\\\"0\\\\\": {\\\\\"effect\\\\\": 1.509279489517212, \\\\\"value\\\\\": 34.0}, \\\\\"1\\\\\": {\\\\\"effect\\\\\": 1.1297247409820557, \\\\\"value\\\\\": 4.0}, \\\\\"2\\\\\": {\\\\\"effect\\\\\": 5.40654182434082, \\\\\"value\\\\\": 5.906940982037328}}, \\\\\"plot_cmap\\\\\": \\\\\"RdBu\\\\\", \\\\\"labelMargin\\\\\": 20}),    document.getElementById(\\'iNML02KK79JY1LYNBDLIU\\')  );<\\\\/script>\"}]', 'predictions': '[{\"age\":\"2\",\"amount\":15.91,\"category\":\"es_transportation\",\"customer\":\"C47462628\",\"gender\":\"F\",\"merchant\":\"M348934600\",\"zipMerchant\":\"28007\",\"IsFraud?\":\"Not-fraud\"},{\"age\":\"2\",\"amount\":366.58,\"category\":\"es_health\",\"customer\":\"C218446443\",\"gender\":\"M\",\"merchant\":\"M480139044\",\"zipMerchant\":\"28007\",\"IsFraud?\":\"Fraud\"}]'}\n"
     ]
    }
   ],
   "source": [
    "\n",
    "\n",
    "header = {'Content-Type': 'application/json', \\\n",
    "                  'Accept': 'application/json'}\n",
    "\n",
    "data = '[{\"step\":7,\"customer\":\"\\'C47462628\\'\",\"age\":\"\\'2\\'\",\"gender\":\"\\'F\\'\",\"zipcodeOri\":\"\\'28007\\'\",\"merchant\":\"\\'M348934600\\'\",\"zipMerchant\":\"\\'28007\\'\",\"category\":\"\\'es_transportation\\'\",\"amount\":15.91},{\"step\":74,\"customer\":\"\\'C218446443\\'\",\"age\":\"\\'2\\'\",\"gender\":\"\\'M\\'\",\"zipcodeOri\":\"\\'28007\\'\",\"merchant\":\"\\'M480139044\\'\",\"zipMerchant\":\"\\'28007\\'\",\"category\":\"\\'es_health\\'\",\"amount\":366.58}]'\n",
    "\n",
    "resp = requests.post(\"http://localhost:5000/predict\", \\\n",
    "                    data = json.dumps(data),\\\n",
    "                    headers= header)\n",
    "\n",
    "print(\"Return Status: \",resp.status_code)\n",
    "\n",
    "preds = resp.json()\n",
    "\n",
    "print('Prediction: \\n',preds)\n"
   ]
  },
  {
   "cell_type": "code",
   "execution_count": 3,
   "metadata": {},
   "outputs": [],
   "source": [
    "import pandas as pd\n",
    "test_df = pd.read_csv('test_df_fraudapi.csv')\n",
    "data2 = test_df.to_json(orient = 'records')"
   ]
  },
  {
   "cell_type": "code",
   "execution_count": 60,
   "metadata": {},
   "outputs": [
    {
     "ename": "TypeError",
     "evalue": "dumps() takes 1 positional argument but 2 were given",
     "output_type": "error",
     "traceback": [
      "\u001b[1;31m---------------------------------------------------------------------------\u001b[0m",
      "\u001b[1;31mTypeError\u001b[0m                                 Traceback (most recent call last)",
      "\u001b[1;32m<ipython-input-60-9675aab04ac9>\u001b[0m in \u001b[0;36m<module>\u001b[1;34m\u001b[0m\n\u001b[0;32m      2\u001b[0m \u001b[1;33m\u001b[0m\u001b[0m\n\u001b[0;32m      3\u001b[0m \u001b[1;32mwith\u001b[0m \u001b[0mopen\u001b[0m\u001b[1;33m(\u001b[0m\u001b[1;34m'FraudAPIsample2.json'\u001b[0m\u001b[1;33m,\u001b[0m \u001b[1;34m'w'\u001b[0m\u001b[1;33m)\u001b[0m \u001b[1;32mas\u001b[0m \u001b[0mf\u001b[0m\u001b[1;33m:\u001b[0m\u001b[1;33m\u001b[0m\u001b[1;33m\u001b[0m\u001b[0m\n\u001b[1;32m----> 4\u001b[1;33m     \u001b[0mjson\u001b[0m\u001b[1;33m.\u001b[0m\u001b[0mdumps\u001b[0m\u001b[1;33m(\u001b[0m\u001b[0mdata2\u001b[0m\u001b[1;33m,\u001b[0m \u001b[0mf\u001b[0m\u001b[1;33m)\u001b[0m\u001b[1;33m\u001b[0m\u001b[1;33m\u001b[0m\u001b[0m\n\u001b[0m",
      "\u001b[1;31mTypeError\u001b[0m: dumps() takes 1 positional argument but 2 were given"
     ]
    }
   ],
   "source": [
    "test_df.to_json('FraudAPIsample.json',orient = 'records')"
   ]
  },
  {
   "cell_type": "code",
   "execution_count": 4,
   "metadata": {},
   "outputs": [
    {
     "data": {
      "text/plain": [
       "'[{\"step\":34,\"customer\":\"\\'C2064491438\\'\",\"age\":\"\\'5\\'\",\"gender\":\"\\'F\\'\",\"zipcodeOri\":\"\\'28007\\'\",\"merchant\":\"\\'M348934600\\'\",\"zipMerchant\":\"\\'28007\\'\",\"category\":\"\\'es_transportation\\'\",\"amount\":34.54},{\"step\":152,\"customer\":\"\\'C976232384\\'\",\"age\":\"\\'3\\'\",\"gender\":\"\\'M\\'\",\"zipcodeOri\":\"\\'28007\\'\",\"merchant\":\"\\'M1823072687\\'\",\"zipMerchant\":\"\\'28007\\'\",\"category\":\"\\'es_transportation\\'\",\"amount\":8.07},{\"step\":135,\"customer\":\"\\'C1983995504\\'\",\"age\":\"\\'2\\'\",\"gender\":\"\\'F\\'\",\"zipcodeOri\":\"\\'28007\\'\",\"merchant\":\"\\'M1823072687\\'\",\"zipMerchant\":\"\\'28007\\'\",\"category\":\"\\'es_transportation\\'\",\"amount\":39.3},{\"step\":168,\"customer\":\"\\'C734397713\\'\",\"age\":\"\\'2\\'\",\"gender\":\"\\'M\\'\",\"zipcodeOri\":\"\\'28007\\'\",\"merchant\":\"\\'M348934600\\'\",\"zipMerchant\":\"\\'28007\\'\",\"category\":\"\\'es_transportation\\'\",\"amount\":18.31},{\"step\":7,\"customer\":\"\\'C47462628\\'\",\"age\":\"\\'2\\'\",\"gender\":\"\\'F\\'\",\"zipcodeOri\":\"\\'28007\\'\",\"merchant\":\"\\'M348934600\\'\",\"zipMerchant\":\"\\'28007\\'\",\"category\":\"\\'es_transportation\\'\",\"amount\":15.91},{\"step\":74,\"customer\":\"\\'C218446443\\'\",\"age\":\"\\'2\\'\",\"gender\":\"\\'M\\'\",\"zipcodeOri\":\"\\'28007\\'\",\"merchant\":\"\\'M480139044\\'\",\"zipMerchant\":\"\\'28007\\'\",\"category\":\"\\'es_health\\'\",\"amount\":366.58},{\"step\":31,\"customer\":\"\\'C483485800\\'\",\"age\":\"\\'4\\'\",\"gender\":\"\\'F\\'\",\"zipcodeOri\":\"\\'28007\\'\",\"merchant\":\"\\'M1823072687\\'\",\"zipMerchant\":\"\\'28007\\'\",\"category\":\"\\'es_transportation\\'\",\"amount\":48.43},{\"step\":61,\"customer\":\"\\'C1562991705\\'\",\"age\":\"\\'5\\'\",\"gender\":\"\\'F\\'\",\"zipcodeOri\":\"\\'28007\\'\",\"merchant\":\"\\'M1823072687\\'\",\"zipMerchant\":\"\\'28007\\'\",\"category\":\"\\'es_transportation\\'\",\"amount\":25.57},{\"step\":9,\"customer\":\"\\'C809005315\\'\",\"age\":\"\\'2\\'\",\"gender\":\"\\'F\\'\",\"zipcodeOri\":\"\\'28007\\'\",\"merchant\":\"\\'M980657600\\'\",\"zipMerchant\":\"\\'28007\\'\",\"category\":\"\\'es_sportsandtoys\\'\",\"amount\":2.01},{\"step\":87,\"customer\":\"\\'C731767226\\'\",\"age\":\"\\'6\\'\",\"gender\":\"\\'M\\'\",\"zipcodeOri\":\"\\'28007\\'\",\"merchant\":\"\\'M348934600\\'\",\"zipMerchant\":\"\\'28007\\'\",\"category\":\"\\'es_transportation\\'\",\"amount\":45.07}]'"
      ]
     },
     "execution_count": 4,
     "metadata": {},
     "output_type": "execute_result"
    }
   ],
   "source": [
    "data2"
   ]
  },
  {
   "cell_type": "code",
   "execution_count": 3,
   "metadata": {},
   "outputs": [],
   "source": [
    "with open('FraudAPIsample.json', 'rt') as f:\n",
    "    data = json.load(f)"
   ]
  },
  {
   "cell_type": "code",
   "execution_count": 84,
   "metadata": {},
   "outputs": [
    {
     "data": {
      "text/plain": [
       "'[{\"step\": 34, \"customer\": \"\\'C2064491438\\'\", \"age\": \"\\'5\\'\", \"gender\": \"\\'F\\'\", \"zipcodeOri\": \"\\'28007\\'\", \"merchant\": \"\\'M348934600\\'\", \"zipMerchant\": \"\\'28007\\'\", \"category\": \"\\'es_transportation\\'\", \"amount\": 34.54}, {\"step\": 152, \"customer\": \"\\'C976232384\\'\", \"age\": \"\\'3\\'\", \"gender\": \"\\'M\\'\", \"zipcodeOri\": \"\\'28007\\'\", \"merchant\": \"\\'M1823072687\\'\", \"zipMerchant\": \"\\'28007\\'\", \"category\": \"\\'es_transportation\\'\", \"amount\": 8.07}, {\"step\": 135, \"customer\": \"\\'C1983995504\\'\", \"age\": \"\\'2\\'\", \"gender\": \"\\'F\\'\", \"zipcodeOri\": \"\\'28007\\'\", \"merchant\": \"\\'M1823072687\\'\", \"zipMerchant\": \"\\'28007\\'\", \"category\": \"\\'es_transportation\\'\", \"amount\": 39.3}, {\"step\": 168, \"customer\": \"\\'C734397713\\'\", \"age\": \"\\'2\\'\", \"gender\": \"\\'M\\'\", \"zipcodeOri\": \"\\'28007\\'\", \"merchant\": \"\\'M348934600\\'\", \"zipMerchant\": \"\\'28007\\'\", \"category\": \"\\'es_transportation\\'\", \"amount\": 18.31}, {\"step\": 7, \"customer\": \"\\'C47462628\\'\", \"age\": \"\\'2\\'\", \"gender\": \"\\'F\\'\", \"zipcodeOri\": \"\\'28007\\'\", \"merchant\": \"\\'M348934600\\'\", \"zipMerchant\": \"\\'28007\\'\", \"category\": \"\\'es_transportation\\'\", \"amount\": 15.91}, {\"step\": 74, \"customer\": \"\\'C218446443\\'\", \"age\": \"\\'2\\'\", \"gender\": \"\\'M\\'\", \"zipcodeOri\": \"\\'28007\\'\", \"merchant\": \"\\'M480139044\\'\", \"zipMerchant\": \"\\'28007\\'\", \"category\": \"\\'es_health\\'\", \"amount\": 366.58}, {\"step\": 31, \"customer\": \"\\'C483485800\\'\", \"age\": \"\\'4\\'\", \"gender\": \"\\'F\\'\", \"zipcodeOri\": \"\\'28007\\'\", \"merchant\": \"\\'M1823072687\\'\", \"zipMerchant\": \"\\'28007\\'\", \"category\": \"\\'es_transportation\\'\", \"amount\": 48.43}, {\"step\": 61, \"customer\": \"\\'C1562991705\\'\", \"age\": \"\\'5\\'\", \"gender\": \"\\'F\\'\", \"zipcodeOri\": \"\\'28007\\'\", \"merchant\": \"\\'M1823072687\\'\", \"zipMerchant\": \"\\'28007\\'\", \"category\": \"\\'es_transportation\\'\", \"amount\": 25.57}, {\"step\": 9, \"customer\": \"\\'C809005315\\'\", \"age\": \"\\'2\\'\", \"gender\": \"\\'F\\'\", \"zipcodeOri\": \"\\'28007\\'\", \"merchant\": \"\\'M980657600\\'\", \"zipMerchant\": \"\\'28007\\'\", \"category\": \"\\'es_sportsandtoys\\'\", \"amount\": 2.01}, {\"step\": 87, \"customer\": \"\\'C731767226\\'\", \"age\": \"\\'6\\'\", \"gender\": \"\\'M\\'\", \"zipcodeOri\": \"\\'28007\\'\", \"merchant\": \"\\'M348934600\\'\", \"zipMerchant\": \"\\'28007\\'\", \"category\": \"\\'es_transportation\\'\", \"amount\": 45.07}]'"
      ]
     },
     "execution_count": 84,
     "metadata": {},
     "output_type": "execute_result"
    }
   ],
   "source": [
    "data\n",
    "json.dumps(data)"
   ]
  },
  {
   "cell_type": "code",
   "execution_count": 85,
   "metadata": {},
   "outputs": [
    {
     "data": {
      "text/html": [
       "<div>\n",
       "<style scoped>\n",
       "    .dataframe tbody tr th:only-of-type {\n",
       "        vertical-align: middle;\n",
       "    }\n",
       "\n",
       "    .dataframe tbody tr th {\n",
       "        vertical-align: top;\n",
       "    }\n",
       "\n",
       "    .dataframe thead th {\n",
       "        text-align: right;\n",
       "    }\n",
       "</style>\n",
       "<table border=\"1\" class=\"dataframe\">\n",
       "  <thead>\n",
       "    <tr style=\"text-align: right;\">\n",
       "      <th></th>\n",
       "      <th>age</th>\n",
       "      <th>amount</th>\n",
       "      <th>category</th>\n",
       "      <th>customer</th>\n",
       "      <th>gender</th>\n",
       "      <th>merchant</th>\n",
       "      <th>step</th>\n",
       "      <th>zipMerchant</th>\n",
       "      <th>zipcodeOri</th>\n",
       "    </tr>\n",
       "  </thead>\n",
       "  <tbody>\n",
       "    <tr>\n",
       "      <th>0</th>\n",
       "      <td>'5'</td>\n",
       "      <td>34.54</td>\n",
       "      <td>'es_transportation'</td>\n",
       "      <td>'C2064491438'</td>\n",
       "      <td>'F'</td>\n",
       "      <td>'M348934600'</td>\n",
       "      <td>34</td>\n",
       "      <td>'28007'</td>\n",
       "      <td>'28007'</td>\n",
       "    </tr>\n",
       "    <tr>\n",
       "      <th>1</th>\n",
       "      <td>'3'</td>\n",
       "      <td>8.07</td>\n",
       "      <td>'es_transportation'</td>\n",
       "      <td>'C976232384'</td>\n",
       "      <td>'M'</td>\n",
       "      <td>'M1823072687'</td>\n",
       "      <td>152</td>\n",
       "      <td>'28007'</td>\n",
       "      <td>'28007'</td>\n",
       "    </tr>\n",
       "    <tr>\n",
       "      <th>2</th>\n",
       "      <td>'2'</td>\n",
       "      <td>39.30</td>\n",
       "      <td>'es_transportation'</td>\n",
       "      <td>'C1983995504'</td>\n",
       "      <td>'F'</td>\n",
       "      <td>'M1823072687'</td>\n",
       "      <td>135</td>\n",
       "      <td>'28007'</td>\n",
       "      <td>'28007'</td>\n",
       "    </tr>\n",
       "    <tr>\n",
       "      <th>3</th>\n",
       "      <td>'2'</td>\n",
       "      <td>18.31</td>\n",
       "      <td>'es_transportation'</td>\n",
       "      <td>'C734397713'</td>\n",
       "      <td>'M'</td>\n",
       "      <td>'M348934600'</td>\n",
       "      <td>168</td>\n",
       "      <td>'28007'</td>\n",
       "      <td>'28007'</td>\n",
       "    </tr>\n",
       "    <tr>\n",
       "      <th>4</th>\n",
       "      <td>'2'</td>\n",
       "      <td>15.91</td>\n",
       "      <td>'es_transportation'</td>\n",
       "      <td>'C47462628'</td>\n",
       "      <td>'F'</td>\n",
       "      <td>'M348934600'</td>\n",
       "      <td>7</td>\n",
       "      <td>'28007'</td>\n",
       "      <td>'28007'</td>\n",
       "    </tr>\n",
       "    <tr>\n",
       "      <th>5</th>\n",
       "      <td>'2'</td>\n",
       "      <td>366.58</td>\n",
       "      <td>'es_health'</td>\n",
       "      <td>'C218446443'</td>\n",
       "      <td>'M'</td>\n",
       "      <td>'M480139044'</td>\n",
       "      <td>74</td>\n",
       "      <td>'28007'</td>\n",
       "      <td>'28007'</td>\n",
       "    </tr>\n",
       "    <tr>\n",
       "      <th>6</th>\n",
       "      <td>'4'</td>\n",
       "      <td>48.43</td>\n",
       "      <td>'es_transportation'</td>\n",
       "      <td>'C483485800'</td>\n",
       "      <td>'F'</td>\n",
       "      <td>'M1823072687'</td>\n",
       "      <td>31</td>\n",
       "      <td>'28007'</td>\n",
       "      <td>'28007'</td>\n",
       "    </tr>\n",
       "    <tr>\n",
       "      <th>7</th>\n",
       "      <td>'5'</td>\n",
       "      <td>25.57</td>\n",
       "      <td>'es_transportation'</td>\n",
       "      <td>'C1562991705'</td>\n",
       "      <td>'F'</td>\n",
       "      <td>'M1823072687'</td>\n",
       "      <td>61</td>\n",
       "      <td>'28007'</td>\n",
       "      <td>'28007'</td>\n",
       "    </tr>\n",
       "    <tr>\n",
       "      <th>8</th>\n",
       "      <td>'2'</td>\n",
       "      <td>2.01</td>\n",
       "      <td>'es_sportsandtoys'</td>\n",
       "      <td>'C809005315'</td>\n",
       "      <td>'F'</td>\n",
       "      <td>'M980657600'</td>\n",
       "      <td>9</td>\n",
       "      <td>'28007'</td>\n",
       "      <td>'28007'</td>\n",
       "    </tr>\n",
       "    <tr>\n",
       "      <th>9</th>\n",
       "      <td>'6'</td>\n",
       "      <td>45.07</td>\n",
       "      <td>'es_transportation'</td>\n",
       "      <td>'C731767226'</td>\n",
       "      <td>'M'</td>\n",
       "      <td>'M348934600'</td>\n",
       "      <td>87</td>\n",
       "      <td>'28007'</td>\n",
       "      <td>'28007'</td>\n",
       "    </tr>\n",
       "  </tbody>\n",
       "</table>\n",
       "</div>"
      ],
      "text/plain": [
       "   age  amount             category       customer gender       merchant  \\\n",
       "0  '5'   34.54  'es_transportation'  'C2064491438'    'F'   'M348934600'   \n",
       "1  '3'    8.07  'es_transportation'   'C976232384'    'M'  'M1823072687'   \n",
       "2  '2'   39.30  'es_transportation'  'C1983995504'    'F'  'M1823072687'   \n",
       "3  '2'   18.31  'es_transportation'   'C734397713'    'M'   'M348934600'   \n",
       "4  '2'   15.91  'es_transportation'    'C47462628'    'F'   'M348934600'   \n",
       "5  '2'  366.58          'es_health'   'C218446443'    'M'   'M480139044'   \n",
       "6  '4'   48.43  'es_transportation'   'C483485800'    'F'  'M1823072687'   \n",
       "7  '5'   25.57  'es_transportation'  'C1562991705'    'F'  'M1823072687'   \n",
       "8  '2'    2.01   'es_sportsandtoys'   'C809005315'    'F'   'M980657600'   \n",
       "9  '6'   45.07  'es_transportation'   'C731767226'    'M'   'M348934600'   \n",
       "\n",
       "   step zipMerchant zipcodeOri  \n",
       "0    34     '28007'    '28007'  \n",
       "1   152     '28007'    '28007'  \n",
       "2   135     '28007'    '28007'  \n",
       "3   168     '28007'    '28007'  \n",
       "4     7     '28007'    '28007'  \n",
       "5    74     '28007'    '28007'  \n",
       "6    31     '28007'    '28007'  \n",
       "7    61     '28007'    '28007'  \n",
       "8     9     '28007'    '28007'  \n",
       "9    87     '28007'    '28007'  "
      ]
     },
     "execution_count": 85,
     "metadata": {},
     "output_type": "execute_result"
    }
   ],
   "source": [
    "#data_str = str(data)\n",
    "pd.read_json(json.dumps(data))"
   ]
  },
  {
   "cell_type": "code",
   "execution_count": 86,
   "metadata": {},
   "outputs": [
    {
     "name": "stdout",
     "output_type": "stream",
     "text": [
      "Return Status:  200\n",
      "Prediction: \n",
      " {'plots': '[{\"plots\":\"<div id=\\'i3C26TTJHP1N5EL5GH1X5\\'><div style=\\'color: #900; text-align: center;\\'>  <b>Visualization omitted, Javascript library not loaded!<\\\\/b><br>  Have you run `initjs()` in this notebook? If this notebook was from another  user you must also trust this notebook (File -> Trust notebook). If you are viewing  this notebook on github the Javascript has been stripped for security. If you are using  JupyterLab this error is because a JupyterLab extension has not yet been written.<\\\\/div><\\\\/div> <script>   if (window.SHAP) SHAP.ReactDom.render(    SHAP.React.createElement(SHAP.AdditiveForceVisualizer, {\\\\\"outNames\\\\\": [\\\\\"output value\\\\\"], \\\\\"baseValue\\\\\": -5.485230922698975, \\\\\"outValue\\\\\": -10.571115493774414, \\\\\"link\\\\\": \\\\\"identity\\\\\", \\\\\"featureNames\\\\\": [\\\\\"merchant\\\\\", \\\\\"category\\\\\", \\\\\"amount\\\\\"], \\\\\"features\\\\\": {\\\\\"0\\\\\": {\\\\\"effect\\\\\": -1.4251912832260132, \\\\\"value\\\\\": 30.0}, \\\\\"1\\\\\": {\\\\\"effect\\\\\": -2.819314956665039, \\\\\"value\\\\\": 12.0}, \\\\\"2\\\\\": {\\\\\"effect\\\\\": -0.8413779735565186, \\\\\"value\\\\\": 3.570658822726505}}, \\\\\"plot_cmap\\\\\": \\\\\"RdBu\\\\\", \\\\\"labelMargin\\\\\": 20}),    document.getElementById(\\'i3C26TTJHP1N5EL5GH1X5\\')  );<\\\\/script>\"},{\"plots\":\"<div id=\\'iPLMS5QKP5VVZIHX6NN4X\\'><div style=\\'color: #900; text-align: center;\\'>  <b>Visualization omitted, Javascript library not loaded!<\\\\/b><br>  Have you run `initjs()` in this notebook? If this notebook was from another  user you must also trust this notebook (File -> Trust notebook). If you are viewing  this notebook on github the Javascript has been stripped for security. If you are using  JupyterLab this error is because a JupyterLab extension has not yet been written.<\\\\/div><\\\\/div> <script>   if (window.SHAP) SHAP.ReactDom.render(    SHAP.React.createElement(SHAP.AdditiveForceVisualizer, {\\\\\"outNames\\\\\": [\\\\\"output value\\\\\"], \\\\\"baseValue\\\\\": -5.485230922698975, \\\\\"outValue\\\\\": -11.615196228027344, \\\\\"link\\\\\": \\\\\"identity\\\\\", \\\\\"featureNames\\\\\": [\\\\\"merchant\\\\\", \\\\\"category\\\\\", \\\\\"amount\\\\\"], \\\\\"features\\\\\": {\\\\\"0\\\\\": {\\\\\"effect\\\\\": -2.227097988128662, \\\\\"value\\\\\": 18.0}, \\\\\"1\\\\\": {\\\\\"effect\\\\\": -2.9403810501098633, \\\\\"value\\\\\": 12.0}, \\\\\"2\\\\\": {\\\\\"effect\\\\\": -0.962486982345581, \\\\\"value\\\\\": 2.2049722641270453}}, \\\\\"plot_cmap\\\\\": \\\\\"RdBu\\\\\", \\\\\"labelMargin\\\\\": 20}),    document.getElementById(\\'iPLMS5QKP5VVZIHX6NN4X\\')  );<\\\\/script>\"},{\"plots\":\"<div id=\\'iSHO2NIBKWQMAE8R9CYEG\\'><div style=\\'color: #900; text-align: center;\\'>  <b>Visualization omitted, Javascript library not loaded!<\\\\/b><br>  Have you run `initjs()` in this notebook? If this notebook was from another  user you must also trust this notebook (File -> Trust notebook). If you are viewing  this notebook on github the Javascript has been stripped for security. If you are using  JupyterLab this error is because a JupyterLab extension has not yet been written.<\\\\/div><\\\\/div> <script>   if (window.SHAP) SHAP.ReactDom.render(    SHAP.React.createElement(SHAP.AdditiveForceVisualizer, {\\\\\"outNames\\\\\": [\\\\\"output value\\\\\"], \\\\\"baseValue\\\\\": -5.485230922698975, \\\\\"outValue\\\\\": -11.556407928466797, \\\\\"link\\\\\": \\\\\"identity\\\\\", \\\\\"featureNames\\\\\": [\\\\\"merchant\\\\\", \\\\\"category\\\\\", \\\\\"amount\\\\\"], \\\\\"features\\\\\": {\\\\\"0\\\\\": {\\\\\"effect\\\\\": -2.2213644981384277, \\\\\"value\\\\\": 18.0}, \\\\\"1\\\\\": {\\\\\"effect\\\\\": -2.939432382583618, \\\\\"value\\\\\": 12.0}, \\\\\"2\\\\\": {\\\\\"effect\\\\\": -0.9103801846504211, \\\\\"value\\\\\": 3.696351468952637}}, \\\\\"plot_cmap\\\\\": \\\\\"RdBu\\\\\", \\\\\"labelMargin\\\\\": 20}),    document.getElementById(\\'iSHO2NIBKWQMAE8R9CYEG\\')  );<\\\\/script>\"},{\"plots\":\"<div id=\\'iBHZYEE26JT9BBZWC1R1M\\'><div style=\\'color: #900; text-align: center;\\'>  <b>Visualization omitted, Javascript library not loaded!<\\\\/b><br>  Have you run `initjs()` in this notebook? If this notebook was from another  user you must also trust this notebook (File -> Trust notebook). If you are viewing  this notebook on github the Javascript has been stripped for security. If you are using  JupyterLab this error is because a JupyterLab extension has not yet been written.<\\\\/div><\\\\/div> <script>   if (window.SHAP) SHAP.ReactDom.render(    SHAP.React.createElement(SHAP.AdditiveForceVisualizer, {\\\\\"outNames\\\\\": [\\\\\"output value\\\\\"], \\\\\"baseValue\\\\\": -5.485230922698975, \\\\\"outValue\\\\\": -10.659494400024414, \\\\\"link\\\\\": \\\\\"identity\\\\\", \\\\\"featureNames\\\\\": [\\\\\"merchant\\\\\", \\\\\"category\\\\\", \\\\\"amount\\\\\"], \\\\\"features\\\\\": {\\\\\"0\\\\\": {\\\\\"effect\\\\\": -1.4231528043746948, \\\\\"value\\\\\": 30.0}, \\\\\"1\\\\\": {\\\\\"effect\\\\\": -2.854072332382202, \\\\\"value\\\\\": 12.0}, \\\\\"2\\\\\": {\\\\\"effect\\\\\": -0.8970387578010559, \\\\\"value\\\\\": 2.960623096440423}}, \\\\\"plot_cmap\\\\\": \\\\\"RdBu\\\\\", \\\\\"labelMargin\\\\\": 20}),    document.getElementById(\\'iBHZYEE26JT9BBZWC1R1M\\')  );<\\\\/script>\"},{\"plots\":\"<div id=\\'iVQT9PAGYYW88XP9364HP\\'><div style=\\'color: #900; text-align: center;\\'>  <b>Visualization omitted, Javascript library not loaded!<\\\\/b><br>  Have you run `initjs()` in this notebook? If this notebook was from another  user you must also trust this notebook (File -> Trust notebook). If you are viewing  this notebook on github the Javascript has been stripped for security. If you are using  JupyterLab this error is because a JupyterLab extension has not yet been written.<\\\\/div><\\\\/div> <script>   if (window.SHAP) SHAP.ReactDom.render(    SHAP.React.createElement(SHAP.AdditiveForceVisualizer, {\\\\\"outNames\\\\\": [\\\\\"output value\\\\\"], \\\\\"baseValue\\\\\": -5.485230922698975, \\\\\"outValue\\\\\": -10.989492416381836, \\\\\"link\\\\\": \\\\\"identity\\\\\", \\\\\"featureNames\\\\\": [\\\\\"merchant\\\\\", \\\\\"category\\\\\", \\\\\"amount\\\\\"], \\\\\"features\\\\\": {\\\\\"0\\\\\": {\\\\\"effect\\\\\": -1.4188268184661865, \\\\\"value\\\\\": 30.0}, \\\\\"1\\\\\": {\\\\\"effect\\\\\": -2.821880578994751, \\\\\"value\\\\\": 12.0}, \\\\\"2\\\\\": {\\\\\"effect\\\\\": -1.2635539770126343, \\\\\"value\\\\\": 2.827905162910489}}, \\\\\"plot_cmap\\\\\": \\\\\"RdBu\\\\\", \\\\\"labelMargin\\\\\": 20}),    document.getElementById(\\'iVQT9PAGYYW88XP9364HP\\')  );<\\\\/script>\"},{\"plots\":\"<div id=\\'iWLBI8YVXXTGDBHV7I339\\'><div style=\\'color: #900; text-align: center;\\'>  <b>Visualization omitted, Javascript library not loaded!<\\\\/b><br>  Have you run `initjs()` in this notebook? If this notebook was from another  user you must also trust this notebook (File -> Trust notebook). If you are viewing  this notebook on github the Javascript has been stripped for security. If you are using  JupyterLab this error is because a JupyterLab extension has not yet been written.<\\\\/div><\\\\/div> <script>   if (window.SHAP) SHAP.ReactDom.render(    SHAP.React.createElement(SHAP.AdditiveForceVisualizer, {\\\\\"outNames\\\\\": [\\\\\"output value\\\\\"], \\\\\"baseValue\\\\\": -5.485230922698975, \\\\\"outValue\\\\\": 2.560314655303955, \\\\\"link\\\\\": \\\\\"identity\\\\\", \\\\\"featureNames\\\\\": [\\\\\"merchant\\\\\", \\\\\"category\\\\\", \\\\\"amount\\\\\"], \\\\\"features\\\\\": {\\\\\"0\\\\\": {\\\\\"effect\\\\\": 1.509279489517212, \\\\\"value\\\\\": 34.0}, \\\\\"1\\\\\": {\\\\\"effect\\\\\": 1.1297247409820557, \\\\\"value\\\\\": 4.0}, \\\\\"2\\\\\": {\\\\\"effect\\\\\": 5.40654182434082, \\\\\"value\\\\\": 5.906940982037328}}, \\\\\"plot_cmap\\\\\": \\\\\"RdBu\\\\\", \\\\\"labelMargin\\\\\": 20}),    document.getElementById(\\'iWLBI8YVXXTGDBHV7I339\\')  );<\\\\/script>\"},{\"plots\":\"<div id=\\'iHBFWVZSL4J84KK95JIDL\\'><div style=\\'color: #900; text-align: center;\\'>  <b>Visualization omitted, Javascript library not loaded!<\\\\/b><br>  Have you run `initjs()` in this notebook? If this notebook was from another  user you must also trust this notebook (File -> Trust notebook). If you are viewing  this notebook on github the Javascript has been stripped for security. If you are using  JupyterLab this error is because a JupyterLab extension has not yet been written.<\\\\/div><\\\\/div> <script>   if (window.SHAP) SHAP.ReactDom.render(    SHAP.React.createElement(SHAP.AdditiveForceVisualizer, {\\\\\"outNames\\\\\": [\\\\\"output value\\\\\"], \\\\\"baseValue\\\\\": -5.485230922698975, \\\\\"outValue\\\\\": -11.556408882141113, \\\\\"link\\\\\": \\\\\"identity\\\\\", \\\\\"featureNames\\\\\": [\\\\\"merchant\\\\\", \\\\\"category\\\\\", \\\\\"amount\\\\\"], \\\\\"features\\\\\": {\\\\\"0\\\\\": {\\\\\"effect\\\\\": -2.1828255653381348, \\\\\"value\\\\\": 18.0}, \\\\\"1\\\\\": {\\\\\"effect\\\\\": -2.962045907974243, \\\\\"value\\\\\": 12.0}, \\\\\"2\\\\\": {\\\\\"effect\\\\\": -0.9263060688972473, \\\\\"value\\\\\": 3.9005575273188677}}, \\\\\"plot_cmap\\\\\": \\\\\"RdBu\\\\\", \\\\\"labelMargin\\\\\": 20}),    document.getElementById(\\'iHBFWVZSL4J84KK95JIDL\\')  );<\\\\/script>\"},{\"plots\":\"<div id=\\'iE5JL4SQD4CNF3VE8LXIR\\'><div style=\\'color: #900; text-align: center;\\'>  <b>Visualization omitted, Javascript library not loaded!<\\\\/b><br>  Have you run `initjs()` in this notebook? If this notebook was from another  user you must also trust this notebook (File -> Trust notebook). If you are viewing  this notebook on github the Javascript has been stripped for security. If you are using  JupyterLab this error is because a JupyterLab extension has not yet been written.<\\\\/div><\\\\/div> <script>   if (window.SHAP) SHAP.ReactDom.render(    SHAP.React.createElement(SHAP.AdditiveForceVisualizer, {\\\\\"outNames\\\\\": [\\\\\"output value\\\\\"], \\\\\"baseValue\\\\\": -5.485230922698975, \\\\\"outValue\\\\\": -11.538434982299805, \\\\\"link\\\\\": \\\\\"identity\\\\\", \\\\\"featureNames\\\\\": [\\\\\"merchant\\\\\", \\\\\"category\\\\\", \\\\\"amount\\\\\"], \\\\\"features\\\\\": {\\\\\"0\\\\\": {\\\\\"effect\\\\\": -2.2517812252044678, \\\\\"value\\\\\": 18.0}, \\\\\"1\\\\\": {\\\\\"effect\\\\\": -2.94565749168396, \\\\\"value\\\\\": 12.0}, \\\\\"2\\\\\": {\\\\\"effect\\\\\": -0.8557648062705994, \\\\\"value\\\\\": 3.279782759771722}}, \\\\\"plot_cmap\\\\\": \\\\\"RdBu\\\\\", \\\\\"labelMargin\\\\\": 20}),    document.getElementById(\\'iE5JL4SQD4CNF3VE8LXIR\\')  );<\\\\/script>\"},{\"plots\":\"<div id=\\'iH0U3WEFNFBMPNK2U26PP\\'><div style=\\'color: #900; text-align: center;\\'>  <b>Visualization omitted, Javascript library not loaded!<\\\\/b><br>  Have you run `initjs()` in this notebook? If this notebook was from another  user you must also trust this notebook (File -> Trust notebook). If you are viewing  this notebook on github the Javascript has been stripped for security. If you are using  JupyterLab this error is because a JupyterLab extension has not yet been written.<\\\\/div><\\\\/div> <script>   if (window.SHAP) SHAP.ReactDom.render(    SHAP.React.createElement(SHAP.AdditiveForceVisualizer, {\\\\\"outNames\\\\\": [\\\\\"output value\\\\\"], \\\\\"baseValue\\\\\": -5.485230922698975, \\\\\"outValue\\\\\": -0.7773661613464355, \\\\\"link\\\\\": \\\\\"identity\\\\\", \\\\\"featureNames\\\\\": [\\\\\"merchant\\\\\", \\\\\"category\\\\\", \\\\\"amount\\\\\"], \\\\\"features\\\\\": {\\\\\"0\\\\\": {\\\\\"effect\\\\\": 2.9975037574768066, \\\\\"value\\\\\": 49.0}, \\\\\"1\\\\\": {\\\\\"effect\\\\\": 2.824686288833618, \\\\\"value\\\\\": 10.0}, \\\\\"2\\\\\": {\\\\\"effect\\\\\": -1.1143255233764648, \\\\\"value\\\\\": 1.1019400787607843}}, \\\\\"plot_cmap\\\\\": \\\\\"RdBu\\\\\", \\\\\"labelMargin\\\\\": 20}),    document.getElementById(\\'iH0U3WEFNFBMPNK2U26PP\\')  );<\\\\/script>\"},{\"plots\":\"<div id=\\'i54KXW2T70N1ERQWSFVJL\\'><div style=\\'color: #900; text-align: center;\\'>  <b>Visualization omitted, Javascript library not loaded!<\\\\/b><br>  Have you run `initjs()` in this notebook? If this notebook was from another  user you must also trust this notebook (File -> Trust notebook). If you are viewing  this notebook on github the Javascript has been stripped for security. If you are using  JupyterLab this error is because a JupyterLab extension has not yet been written.<\\\\/div><\\\\/div> <script>   if (window.SHAP) SHAP.ReactDom.render(    SHAP.React.createElement(SHAP.AdditiveForceVisualizer, {\\\\\"outNames\\\\\": [\\\\\"output value\\\\\"], \\\\\"baseValue\\\\\": -5.485230922698975, \\\\\"outValue\\\\\": -10.571115493774414, \\\\\"link\\\\\": \\\\\"identity\\\\\", \\\\\"featureNames\\\\\": [\\\\\"merchant\\\\\", \\\\\"category\\\\\", \\\\\"amount\\\\\"], \\\\\"features\\\\\": {\\\\\"0\\\\\": {\\\\\"effect\\\\\": -1.3925071954727173, \\\\\"value\\\\\": 30.0}, \\\\\"1\\\\\": {\\\\\"effect\\\\\": -2.847076654434204, \\\\\"value\\\\\": 12.0}, \\\\\"2\\\\\": {\\\\\"effect\\\\\": -0.8463008999824524, \\\\\"value\\\\\": 3.830161978947826}}, \\\\\"plot_cmap\\\\\": \\\\\"RdBu\\\\\", \\\\\"labelMargin\\\\\": 20}),    document.getElementById(\\'i54KXW2T70N1ERQWSFVJL\\')  );<\\\\/script>\"}]', 'predictions': '[{\"age\":\"5\",\"amount\":34.54,\"category\":\"es_transportation\",\"customer\":\"C2064491438\",\"gender\":\"F\",\"merchant\":\"M348934600\",\"zipMerchant\":\"28007\",\"IsFraud?\":\"Not-fraud\"},{\"age\":\"3\",\"amount\":8.07,\"category\":\"es_transportation\",\"customer\":\"C976232384\",\"gender\":\"M\",\"merchant\":\"M1823072687\",\"zipMerchant\":\"28007\",\"IsFraud?\":\"Not-fraud\"},{\"age\":\"2\",\"amount\":39.3,\"category\":\"es_transportation\",\"customer\":\"C1983995504\",\"gender\":\"F\",\"merchant\":\"M1823072687\",\"zipMerchant\":\"28007\",\"IsFraud?\":\"Not-fraud\"},{\"age\":\"2\",\"amount\":18.31,\"category\":\"es_transportation\",\"customer\":\"C734397713\",\"gender\":\"M\",\"merchant\":\"M348934600\",\"zipMerchant\":\"28007\",\"IsFraud?\":\"Not-fraud\"},{\"age\":\"2\",\"amount\":15.91,\"category\":\"es_transportation\",\"customer\":\"C47462628\",\"gender\":\"F\",\"merchant\":\"M348934600\",\"zipMerchant\":\"28007\",\"IsFraud?\":\"Not-fraud\"},{\"age\":\"2\",\"amount\":366.58,\"category\":\"es_health\",\"customer\":\"C218446443\",\"gender\":\"M\",\"merchant\":\"M480139044\",\"zipMerchant\":\"28007\",\"IsFraud?\":\"Fraud\"},{\"age\":\"4\",\"amount\":48.43,\"category\":\"es_transportation\",\"customer\":\"C483485800\",\"gender\":\"F\",\"merchant\":\"M1823072687\",\"zipMerchant\":\"28007\",\"IsFraud?\":\"Not-fraud\"},{\"age\":\"5\",\"amount\":25.57,\"category\":\"es_transportation\",\"customer\":\"C1562991705\",\"gender\":\"F\",\"merchant\":\"M1823072687\",\"zipMerchant\":\"28007\",\"IsFraud?\":\"Not-fraud\"},{\"age\":\"2\",\"amount\":2.01,\"category\":\"es_sportsandtoys\",\"customer\":\"C809005315\",\"gender\":\"F\",\"merchant\":\"M980657600\",\"zipMerchant\":\"28007\",\"IsFraud?\":\"Not-fraud\"},{\"age\":\"6\",\"amount\":45.07,\"category\":\"es_transportation\",\"customer\":\"C731767226\",\"gender\":\"M\",\"merchant\":\"M348934600\",\"zipMerchant\":\"28007\",\"IsFraud?\":\"Not-fraud\"}]'}\n"
     ]
    }
   ],
   "source": [
    "resp2 = requests.post(\"http://localhost:5000/predict\", \\\n",
    "                   data = json.dumps(data),\\\n",
    "                    #data = data3,\n",
    "                    headers= header)\n",
    "\n",
    "print(\"Return Status: \",resp2.status_code)\n",
    "\n",
    "preds2 = resp2.json()\n",
    "\n",
    "print('Prediction: \\n',preds2)"
   ]
  },
  {
   "cell_type": "code",
   "execution_count": 9,
   "metadata": {},
   "outputs": [
    {
     "name": "stdout",
     "output_type": "stream",
     "text": [
      "Return Status:  200\n",
      "Prediction: \n",
      " {'combined': '{\"combined\": \"<div id=\\'iENWQLY6TE6Y5NLV3JW0B\\'><div style=\\'color: #900; text-align: center;\\'>  <b>Visualization omitted, Javascript library not loaded!</b><br>  Have you run `initjs()` in this notebook? If this notebook was from another  user you must also trust this notebook (File -> Trust notebook). If you are viewing  this notebook on github the Javascript has been stripped for security. If you are using  JupyterLab this error is because a JupyterLab extension has not yet been written.</div></div> <script>   if (window.SHAP) SHAP.ReactDom.render(    SHAP.React.createElement(SHAP.AdditiveForceArrayVisualizer, {\\\\\"outNames\\\\\": [\\\\\"output value\\\\\"], \\\\\"baseValue\\\\\": -5.485230922698975, \\\\\"link\\\\\": \\\\\"identity\\\\\", \\\\\"featureNames\\\\\": [\\\\\"merchant\\\\\", \\\\\"category\\\\\", \\\\\"amount\\\\\"], \\\\\"explanations\\\\\": [{\\\\\"outValue\\\\\": -10.571115493774414, \\\\\"simIndex\\\\\": 5.0, \\\\\"features\\\\\": {\\\\\"0\\\\\": {\\\\\"effect\\\\\": -1.4251912832260132, \\\\\"value\\\\\": 30.0}, \\\\\"1\\\\\": {\\\\\"effect\\\\\": -2.819314956665039, \\\\\"value\\\\\": 12.0}, \\\\\"2\\\\\": {\\\\\"effect\\\\\": -0.8413779735565186, \\\\\"value\\\\\": 3.570658822726505}}}, {\\\\\"outValue\\\\\": -11.615196228027344, \\\\\"simIndex\\\\\": 4.0, \\\\\"features\\\\\": {\\\\\"0\\\\\": {\\\\\"effect\\\\\": -2.227097988128662, \\\\\"value\\\\\": 18.0}, \\\\\"1\\\\\": {\\\\\"effect\\\\\": -2.9403810501098633, \\\\\"value\\\\\": 12.0}, \\\\\"2\\\\\": {\\\\\"effect\\\\\": -0.962486982345581, \\\\\"value\\\\\": 2.2049722641270453}}}, {\\\\\"outValue\\\\\": -11.556407928466797, \\\\\"simIndex\\\\\": 3.0, \\\\\"features\\\\\": {\\\\\"0\\\\\": {\\\\\"effect\\\\\": -2.2213644981384277, \\\\\"value\\\\\": 18.0}, \\\\\"1\\\\\": {\\\\\"effect\\\\\": -2.939432382583618, \\\\\"value\\\\\": 12.0}, \\\\\"2\\\\\": {\\\\\"effect\\\\\": -0.9103801846504211, \\\\\"value\\\\\": 3.696351468952637}}}, {\\\\\"outValue\\\\\": -10.659494400024414, \\\\\"simIndex\\\\\": 7.0, \\\\\"features\\\\\": {\\\\\"0\\\\\": {\\\\\"effect\\\\\": -1.4231528043746948, \\\\\"value\\\\\": 30.0}, \\\\\"1\\\\\": {\\\\\"effect\\\\\": -2.854072332382202, \\\\\"value\\\\\": 12.0}, \\\\\"2\\\\\": {\\\\\"effect\\\\\": -0.8970387578010559, \\\\\"value\\\\\": 2.960623096440423}}}, {\\\\\"outValue\\\\\": -10.989492416381836, \\\\\"simIndex\\\\\": 8.0, \\\\\"features\\\\\": {\\\\\"0\\\\\": {\\\\\"effect\\\\\": -1.4188268184661865, \\\\\"value\\\\\": 30.0}, \\\\\"1\\\\\": {\\\\\"effect\\\\\": -2.821880578994751, \\\\\"value\\\\\": 12.0}, \\\\\"2\\\\\": {\\\\\"effect\\\\\": -1.2635539770126343, \\\\\"value\\\\\": 2.827905162910489}}}, {\\\\\"outValue\\\\\": 2.560314655303955, \\\\\"simIndex\\\\\": 10.0, \\\\\"features\\\\\": {\\\\\"0\\\\\": {\\\\\"effect\\\\\": 1.509279489517212, \\\\\"value\\\\\": 34.0}, \\\\\"1\\\\\": {\\\\\"effect\\\\\": 1.1297247409820557, \\\\\"value\\\\\": 4.0}, \\\\\"2\\\\\": {\\\\\"effect\\\\\": 5.40654182434082, \\\\\"value\\\\\": 5.906940982037328}}}, {\\\\\"outValue\\\\\": -11.556408882141113, \\\\\"simIndex\\\\\": 2.0, \\\\\"features\\\\\": {\\\\\"0\\\\\": {\\\\\"effect\\\\\": -2.1828255653381348, \\\\\"value\\\\\": 18.0}, \\\\\"1\\\\\": {\\\\\"effect\\\\\": -2.962045907974243, \\\\\"value\\\\\": 12.0}, \\\\\"2\\\\\": {\\\\\"effect\\\\\": -0.9263060688972473, \\\\\"value\\\\\": 3.9005575273188677}}}, {\\\\\"outValue\\\\\": -11.538434982299805, \\\\\"simIndex\\\\\": 1.0, \\\\\"features\\\\\": {\\\\\"0\\\\\": {\\\\\"effect\\\\\": -2.2517812252044678, \\\\\"value\\\\\": 18.0}, \\\\\"1\\\\\": {\\\\\"effect\\\\\": -2.94565749168396, \\\\\"value\\\\\": 12.0}, \\\\\"2\\\\\": {\\\\\"effect\\\\\": -0.8557648062705994, \\\\\"value\\\\\": 3.279782759771722}}}, {\\\\\"outValue\\\\\": -0.7773661613464355, \\\\\"simIndex\\\\\": 9.0, \\\\\"features\\\\\": {\\\\\"0\\\\\": {\\\\\"effect\\\\\": 2.9975037574768066, \\\\\"value\\\\\": 49.0}, \\\\\"1\\\\\": {\\\\\"effect\\\\\": 2.824686288833618, \\\\\"value\\\\\": 10.0}, \\\\\"2\\\\\": {\\\\\"effect\\\\\": -1.1143255233764648, \\\\\"value\\\\\": 1.1019400787607843}}}, {\\\\\"outValue\\\\\": -10.571115493774414, \\\\\"simIndex\\\\\": 6.0, \\\\\"features\\\\\": {\\\\\"0\\\\\": {\\\\\"effect\\\\\": -1.3925071954727173, \\\\\"value\\\\\": 30.0}, \\\\\"1\\\\\": {\\\\\"effect\\\\\": -2.847076654434204, \\\\\"value\\\\\": 12.0}, \\\\\"2\\\\\": {\\\\\"effect\\\\\": -0.8463008999824524, \\\\\"value\\\\\": 3.830161978947826}}}], \\\\\"plot_cmap\\\\\": \\\\\"RdBu\\\\\", \\\\\"ordering_keys\\\\\": null, \\\\\"ordering_keys_time_format\\\\\": null}),    document.getElementById(\\'iENWQLY6TE6Y5NLV3JW0B\\')  );</script>\"}', 'plots': '[{\"plots\":\"<div id=\\'i70DKLU5N61M6N4KTV6B9\\'><div style=\\'color: #900; text-align: center;\\'>  <b>Visualization omitted, Javascript library not loaded!<\\\\/b><br>  Have you run `initjs()` in this notebook? If this notebook was from another  user you must also trust this notebook (File -> Trust notebook). If you are viewing  this notebook on github the Javascript has been stripped for security. If you are using  JupyterLab this error is because a JupyterLab extension has not yet been written.<\\\\/div><\\\\/div> <script>   if (window.SHAP) SHAP.ReactDom.render(    SHAP.React.createElement(SHAP.AdditiveForceVisualizer, {\\\\\"outNames\\\\\": [\\\\\"output value\\\\\"], \\\\\"baseValue\\\\\": -5.485230922698975, \\\\\"outValue\\\\\": -10.571115493774414, \\\\\"link\\\\\": \\\\\"identity\\\\\", \\\\\"featureNames\\\\\": [\\\\\"merchant\\\\\", \\\\\"category\\\\\", \\\\\"amount\\\\\"], \\\\\"features\\\\\": {\\\\\"0\\\\\": {\\\\\"effect\\\\\": -1.4251912832260132, \\\\\"value\\\\\": 30.0}, \\\\\"1\\\\\": {\\\\\"effect\\\\\": -2.819314956665039, \\\\\"value\\\\\": 12.0}, \\\\\"2\\\\\": {\\\\\"effect\\\\\": -0.8413779735565186, \\\\\"value\\\\\": 3.570658822726505}}, \\\\\"plot_cmap\\\\\": \\\\\"RdBu\\\\\", \\\\\"labelMargin\\\\\": 20}),    document.getElementById(\\'i70DKLU5N61M6N4KTV6B9\\')  );<\\\\/script>\"},{\"plots\":\"<div id=\\'i2ZSWCLHT6S1P1QREM1BM\\'><div style=\\'color: #900; text-align: center;\\'>  <b>Visualization omitted, Javascript library not loaded!<\\\\/b><br>  Have you run `initjs()` in this notebook? If this notebook was from another  user you must also trust this notebook (File -> Trust notebook). If you are viewing  this notebook on github the Javascript has been stripped for security. If you are using  JupyterLab this error is because a JupyterLab extension has not yet been written.<\\\\/div><\\\\/div> <script>   if (window.SHAP) SHAP.ReactDom.render(    SHAP.React.createElement(SHAP.AdditiveForceVisualizer, {\\\\\"outNames\\\\\": [\\\\\"output value\\\\\"], \\\\\"baseValue\\\\\": -5.485230922698975, \\\\\"outValue\\\\\": -11.615196228027344, \\\\\"link\\\\\": \\\\\"identity\\\\\", \\\\\"featureNames\\\\\": [\\\\\"merchant\\\\\", \\\\\"category\\\\\", \\\\\"amount\\\\\"], \\\\\"features\\\\\": {\\\\\"0\\\\\": {\\\\\"effect\\\\\": -2.227097988128662, \\\\\"value\\\\\": 18.0}, \\\\\"1\\\\\": {\\\\\"effect\\\\\": -2.9403810501098633, \\\\\"value\\\\\": 12.0}, \\\\\"2\\\\\": {\\\\\"effect\\\\\": -0.962486982345581, \\\\\"value\\\\\": 2.2049722641270453}}, \\\\\"plot_cmap\\\\\": \\\\\"RdBu\\\\\", \\\\\"labelMargin\\\\\": 20}),    document.getElementById(\\'i2ZSWCLHT6S1P1QREM1BM\\')  );<\\\\/script>\"},{\"plots\":\"<div id=\\'iTNOU7L7LK5OYDYYTX7R6\\'><div style=\\'color: #900; text-align: center;\\'>  <b>Visualization omitted, Javascript library not loaded!<\\\\/b><br>  Have you run `initjs()` in this notebook? If this notebook was from another  user you must also trust this notebook (File -> Trust notebook). If you are viewing  this notebook on github the Javascript has been stripped for security. If you are using  JupyterLab this error is because a JupyterLab extension has not yet been written.<\\\\/div><\\\\/div> <script>   if (window.SHAP) SHAP.ReactDom.render(    SHAP.React.createElement(SHAP.AdditiveForceVisualizer, {\\\\\"outNames\\\\\": [\\\\\"output value\\\\\"], \\\\\"baseValue\\\\\": -5.485230922698975, \\\\\"outValue\\\\\": -11.556407928466797, \\\\\"link\\\\\": \\\\\"identity\\\\\", \\\\\"featureNames\\\\\": [\\\\\"merchant\\\\\", \\\\\"category\\\\\", \\\\\"amount\\\\\"], \\\\\"features\\\\\": {\\\\\"0\\\\\": {\\\\\"effect\\\\\": -2.2213644981384277, \\\\\"value\\\\\": 18.0}, \\\\\"1\\\\\": {\\\\\"effect\\\\\": -2.939432382583618, \\\\\"value\\\\\": 12.0}, \\\\\"2\\\\\": {\\\\\"effect\\\\\": -0.9103801846504211, \\\\\"value\\\\\": 3.696351468952637}}, \\\\\"plot_cmap\\\\\": \\\\\"RdBu\\\\\", \\\\\"labelMargin\\\\\": 20}),    document.getElementById(\\'iTNOU7L7LK5OYDYYTX7R6\\')  );<\\\\/script>\"},{\"plots\":\"<div id=\\'i4FN8MXPEVC6QA0F0LHIY\\'><div style=\\'color: #900; text-align: center;\\'>  <b>Visualization omitted, Javascript library not loaded!<\\\\/b><br>  Have you run `initjs()` in this notebook? If this notebook was from another  user you must also trust this notebook (File -> Trust notebook). If you are viewing  this notebook on github the Javascript has been stripped for security. If you are using  JupyterLab this error is because a JupyterLab extension has not yet been written.<\\\\/div><\\\\/div> <script>   if (window.SHAP) SHAP.ReactDom.render(    SHAP.React.createElement(SHAP.AdditiveForceVisualizer, {\\\\\"outNames\\\\\": [\\\\\"output value\\\\\"], \\\\\"baseValue\\\\\": -5.485230922698975, \\\\\"outValue\\\\\": -10.659494400024414, \\\\\"link\\\\\": \\\\\"identity\\\\\", \\\\\"featureNames\\\\\": [\\\\\"merchant\\\\\", \\\\\"category\\\\\", \\\\\"amount\\\\\"], \\\\\"features\\\\\": {\\\\\"0\\\\\": {\\\\\"effect\\\\\": -1.4231528043746948, \\\\\"value\\\\\": 30.0}, \\\\\"1\\\\\": {\\\\\"effect\\\\\": -2.854072332382202, \\\\\"value\\\\\": 12.0}, \\\\\"2\\\\\": {\\\\\"effect\\\\\": -0.8970387578010559, \\\\\"value\\\\\": 2.960623096440423}}, \\\\\"plot_cmap\\\\\": \\\\\"RdBu\\\\\", \\\\\"labelMargin\\\\\": 20}),    document.getElementById(\\'i4FN8MXPEVC6QA0F0LHIY\\')  );<\\\\/script>\"},{\"plots\":\"<div id=\\'iFK6LGPMYULU1GSDR8R2W\\'><div style=\\'color: #900; text-align: center;\\'>  <b>Visualization omitted, Javascript library not loaded!<\\\\/b><br>  Have you run `initjs()` in this notebook? If this notebook was from another  user you must also trust this notebook (File -> Trust notebook). If you are viewing  this notebook on github the Javascript has been stripped for security. If you are using  JupyterLab this error is because a JupyterLab extension has not yet been written.<\\\\/div><\\\\/div> <script>   if (window.SHAP) SHAP.ReactDom.render(    SHAP.React.createElement(SHAP.AdditiveForceVisualizer, {\\\\\"outNames\\\\\": [\\\\\"output value\\\\\"], \\\\\"baseValue\\\\\": -5.485230922698975, \\\\\"outValue\\\\\": -10.989492416381836, \\\\\"link\\\\\": \\\\\"identity\\\\\", \\\\\"featureNames\\\\\": [\\\\\"merchant\\\\\", \\\\\"category\\\\\", \\\\\"amount\\\\\"], \\\\\"features\\\\\": {\\\\\"0\\\\\": {\\\\\"effect\\\\\": -1.4188268184661865, \\\\\"value\\\\\": 30.0}, \\\\\"1\\\\\": {\\\\\"effect\\\\\": -2.821880578994751, \\\\\"value\\\\\": 12.0}, \\\\\"2\\\\\": {\\\\\"effect\\\\\": -1.2635539770126343, \\\\\"value\\\\\": 2.827905162910489}}, \\\\\"plot_cmap\\\\\": \\\\\"RdBu\\\\\", \\\\\"labelMargin\\\\\": 20}),    document.getElementById(\\'iFK6LGPMYULU1GSDR8R2W\\')  );<\\\\/script>\"},{\"plots\":\"<div id=\\'iPW455CUYZLG4Z6FI0GEF\\'><div style=\\'color: #900; text-align: center;\\'>  <b>Visualization omitted, Javascript library not loaded!<\\\\/b><br>  Have you run `initjs()` in this notebook? If this notebook was from another  user you must also trust this notebook (File -> Trust notebook). If you are viewing  this notebook on github the Javascript has been stripped for security. If you are using  JupyterLab this error is because a JupyterLab extension has not yet been written.<\\\\/div><\\\\/div> <script>   if (window.SHAP) SHAP.ReactDom.render(    SHAP.React.createElement(SHAP.AdditiveForceVisualizer, {\\\\\"outNames\\\\\": [\\\\\"output value\\\\\"], \\\\\"baseValue\\\\\": -5.485230922698975, \\\\\"outValue\\\\\": 2.560314655303955, \\\\\"link\\\\\": \\\\\"identity\\\\\", \\\\\"featureNames\\\\\": [\\\\\"merchant\\\\\", \\\\\"category\\\\\", \\\\\"amount\\\\\"], \\\\\"features\\\\\": {\\\\\"0\\\\\": {\\\\\"effect\\\\\": 1.509279489517212, \\\\\"value\\\\\": 34.0}, \\\\\"1\\\\\": {\\\\\"effect\\\\\": 1.1297247409820557, \\\\\"value\\\\\": 4.0}, \\\\\"2\\\\\": {\\\\\"effect\\\\\": 5.40654182434082, \\\\\"value\\\\\": 5.906940982037328}}, \\\\\"plot_cmap\\\\\": \\\\\"RdBu\\\\\", \\\\\"labelMargin\\\\\": 20}),    document.getElementById(\\'iPW455CUYZLG4Z6FI0GEF\\')  );<\\\\/script>\"},{\"plots\":\"<div id=\\'iG1BN8JM4ZJ4L2G4GZB6N\\'><div style=\\'color: #900; text-align: center;\\'>  <b>Visualization omitted, Javascript library not loaded!<\\\\/b><br>  Have you run `initjs()` in this notebook? If this notebook was from another  user you must also trust this notebook (File -> Trust notebook). If you are viewing  this notebook on github the Javascript has been stripped for security. If you are using  JupyterLab this error is because a JupyterLab extension has not yet been written.<\\\\/div><\\\\/div> <script>   if (window.SHAP) SHAP.ReactDom.render(    SHAP.React.createElement(SHAP.AdditiveForceVisualizer, {\\\\\"outNames\\\\\": [\\\\\"output value\\\\\"], \\\\\"baseValue\\\\\": -5.485230922698975, \\\\\"outValue\\\\\": -11.556408882141113, \\\\\"link\\\\\": \\\\\"identity\\\\\", \\\\\"featureNames\\\\\": [\\\\\"merchant\\\\\", \\\\\"category\\\\\", \\\\\"amount\\\\\"], \\\\\"features\\\\\": {\\\\\"0\\\\\": {\\\\\"effect\\\\\": -2.1828255653381348, \\\\\"value\\\\\": 18.0}, \\\\\"1\\\\\": {\\\\\"effect\\\\\": -2.962045907974243, \\\\\"value\\\\\": 12.0}, \\\\\"2\\\\\": {\\\\\"effect\\\\\": -0.9263060688972473, \\\\\"value\\\\\": 3.9005575273188677}}, \\\\\"plot_cmap\\\\\": \\\\\"RdBu\\\\\", \\\\\"labelMargin\\\\\": 20}),    document.getElementById(\\'iG1BN8JM4ZJ4L2G4GZB6N\\')  );<\\\\/script>\"},{\"plots\":\"<div id=\\'i09NIP58I8V6KUDDJI0IT\\'><div style=\\'color: #900; text-align: center;\\'>  <b>Visualization omitted, Javascript library not loaded!<\\\\/b><br>  Have you run `initjs()` in this notebook? If this notebook was from another  user you must also trust this notebook (File -> Trust notebook). If you are viewing  this notebook on github the Javascript has been stripped for security. If you are using  JupyterLab this error is because a JupyterLab extension has not yet been written.<\\\\/div><\\\\/div> <script>   if (window.SHAP) SHAP.ReactDom.render(    SHAP.React.createElement(SHAP.AdditiveForceVisualizer, {\\\\\"outNames\\\\\": [\\\\\"output value\\\\\"], \\\\\"baseValue\\\\\": -5.485230922698975, \\\\\"outValue\\\\\": -11.538434982299805, \\\\\"link\\\\\": \\\\\"identity\\\\\", \\\\\"featureNames\\\\\": [\\\\\"merchant\\\\\", \\\\\"category\\\\\", \\\\\"amount\\\\\"], \\\\\"features\\\\\": {\\\\\"0\\\\\": {\\\\\"effect\\\\\": -2.2517812252044678, \\\\\"value\\\\\": 18.0}, \\\\\"1\\\\\": {\\\\\"effect\\\\\": -2.94565749168396, \\\\\"value\\\\\": 12.0}, \\\\\"2\\\\\": {\\\\\"effect\\\\\": -0.8557648062705994, \\\\\"value\\\\\": 3.279782759771722}}, \\\\\"plot_cmap\\\\\": \\\\\"RdBu\\\\\", \\\\\"labelMargin\\\\\": 20}),    document.getElementById(\\'i09NIP58I8V6KUDDJI0IT\\')  );<\\\\/script>\"},{\"plots\":\"<div id=\\'i20H22CO34MFQNFKXT6GY\\'><div style=\\'color: #900; text-align: center;\\'>  <b>Visualization omitted, Javascript library not loaded!<\\\\/b><br>  Have you run `initjs()` in this notebook? If this notebook was from another  user you must also trust this notebook (File -> Trust notebook). If you are viewing  this notebook on github the Javascript has been stripped for security. If you are using  JupyterLab this error is because a JupyterLab extension has not yet been written.<\\\\/div><\\\\/div> <script>   if (window.SHAP) SHAP.ReactDom.render(    SHAP.React.createElement(SHAP.AdditiveForceVisualizer, {\\\\\"outNames\\\\\": [\\\\\"output value\\\\\"], \\\\\"baseValue\\\\\": -5.485230922698975, \\\\\"outValue\\\\\": -0.7773661613464355, \\\\\"link\\\\\": \\\\\"identity\\\\\", \\\\\"featureNames\\\\\": [\\\\\"merchant\\\\\", \\\\\"category\\\\\", \\\\\"amount\\\\\"], \\\\\"features\\\\\": {\\\\\"0\\\\\": {\\\\\"effect\\\\\": 2.9975037574768066, \\\\\"value\\\\\": 49.0}, \\\\\"1\\\\\": {\\\\\"effect\\\\\": 2.824686288833618, \\\\\"value\\\\\": 10.0}, \\\\\"2\\\\\": {\\\\\"effect\\\\\": -1.1143255233764648, \\\\\"value\\\\\": 1.1019400787607843}}, \\\\\"plot_cmap\\\\\": \\\\\"RdBu\\\\\", \\\\\"labelMargin\\\\\": 20}),    document.getElementById(\\'i20H22CO34MFQNFKXT6GY\\')  );<\\\\/script>\"},{\"plots\":\"<div id=\\'iBKG284R8Z81U3PSVAHYS\\'><div style=\\'color: #900; text-align: center;\\'>  <b>Visualization omitted, Javascript library not loaded!<\\\\/b><br>  Have you run `initjs()` in this notebook? If this notebook was from another  user you must also trust this notebook (File -> Trust notebook). If you are viewing  this notebook on github the Javascript has been stripped for security. If you are using  JupyterLab this error is because a JupyterLab extension has not yet been written.<\\\\/div><\\\\/div> <script>   if (window.SHAP) SHAP.ReactDom.render(    SHAP.React.createElement(SHAP.AdditiveForceVisualizer, {\\\\\"outNames\\\\\": [\\\\\"output value\\\\\"], \\\\\"baseValue\\\\\": -5.485230922698975, \\\\\"outValue\\\\\": -10.571115493774414, \\\\\"link\\\\\": \\\\\"identity\\\\\", \\\\\"featureNames\\\\\": [\\\\\"merchant\\\\\", \\\\\"category\\\\\", \\\\\"amount\\\\\"], \\\\\"features\\\\\": {\\\\\"0\\\\\": {\\\\\"effect\\\\\": -1.3925071954727173, \\\\\"value\\\\\": 30.0}, \\\\\"1\\\\\": {\\\\\"effect\\\\\": -2.847076654434204, \\\\\"value\\\\\": 12.0}, \\\\\"2\\\\\": {\\\\\"effect\\\\\": -0.8463008999824524, \\\\\"value\\\\\": 3.830161978947826}}, \\\\\"plot_cmap\\\\\": \\\\\"RdBu\\\\\", \\\\\"labelMargin\\\\\": 20}),    document.getElementById(\\'iBKG284R8Z81U3PSVAHYS\\')  );<\\\\/script>\"}]', 'predictions': '[{\"age\":\"5\",\"amount\":34.54,\"category\":\"es_transportation\",\"customer\":\"C2064491438\",\"gender\":\"F\",\"merchant\":\"M348934600\",\"zipMerchant\":\"28007\",\"IsFraud?\":\"Not-fraud\"},{\"age\":\"3\",\"amount\":8.07,\"category\":\"es_transportation\",\"customer\":\"C976232384\",\"gender\":\"M\",\"merchant\":\"M1823072687\",\"zipMerchant\":\"28007\",\"IsFraud?\":\"Not-fraud\"},{\"age\":\"2\",\"amount\":39.3,\"category\":\"es_transportation\",\"customer\":\"C1983995504\",\"gender\":\"F\",\"merchant\":\"M1823072687\",\"zipMerchant\":\"28007\",\"IsFraud?\":\"Not-fraud\"},{\"age\":\"2\",\"amount\":18.31,\"category\":\"es_transportation\",\"customer\":\"C734397713\",\"gender\":\"M\",\"merchant\":\"M348934600\",\"zipMerchant\":\"28007\",\"IsFraud?\":\"Not-fraud\"},{\"age\":\"2\",\"amount\":15.91,\"category\":\"es_transportation\",\"customer\":\"C47462628\",\"gender\":\"F\",\"merchant\":\"M348934600\",\"zipMerchant\":\"28007\",\"IsFraud?\":\"Not-fraud\"},{\"age\":\"2\",\"amount\":366.58,\"category\":\"es_health\",\"customer\":\"C218446443\",\"gender\":\"M\",\"merchant\":\"M480139044\",\"zipMerchant\":\"28007\",\"IsFraud?\":\"Fraud\"},{\"age\":\"4\",\"amount\":48.43,\"category\":\"es_transportation\",\"customer\":\"C483485800\",\"gender\":\"F\",\"merchant\":\"M1823072687\",\"zipMerchant\":\"28007\",\"IsFraud?\":\"Not-fraud\"},{\"age\":\"5\",\"amount\":25.57,\"category\":\"es_transportation\",\"customer\":\"C1562991705\",\"gender\":\"F\",\"merchant\":\"M1823072687\",\"zipMerchant\":\"28007\",\"IsFraud?\":\"Not-fraud\"},{\"age\":\"2\",\"amount\":2.01,\"category\":\"es_sportsandtoys\",\"customer\":\"C809005315\",\"gender\":\"F\",\"merchant\":\"M980657600\",\"zipMerchant\":\"28007\",\"IsFraud?\":\"Not-fraud\"},{\"age\":\"6\",\"amount\":45.07,\"category\":\"es_transportation\",\"customer\":\"C731767226\",\"gender\":\"M\",\"merchant\":\"M348934600\",\"zipMerchant\":\"28007\",\"IsFraud?\":\"Not-fraud\"}]'}\n"
     ]
    }
   ],
   "source": [
    "resp2 = requests.post(\"http://34.233.24.110:5000/predict\", \\\n",
    "                   data = json.dumps(data),\\\n",
    "                    #data = data3,\n",
    "                    headers= header)\n",
    "\n",
    "print(\"Return Status: \",resp2.status_code)\n",
    "\n",
    "preds2 = resp2.json()\n",
    "\n",
    "print('Prediction: \\n',preds2)"
   ]
  },
  {
   "cell_type": "code",
   "execution_count": 10,
   "metadata": {},
   "outputs": [
    {
     "data": {
      "text/plain": [
       "'[{\"age\":\"5\",\"amount\":34.54,\"category\":\"es_transportation\",\"customer\":\"C2064491438\",\"gender\":\"F\",\"merchant\":\"M348934600\",\"zipMerchant\":\"28007\",\"IsFraud?\":\"Not-fraud\"},{\"age\":\"3\",\"amount\":8.07,\"category\":\"es_transportation\",\"customer\":\"C976232384\",\"gender\":\"M\",\"merchant\":\"M1823072687\",\"zipMerchant\":\"28007\",\"IsFraud?\":\"Not-fraud\"},{\"age\":\"2\",\"amount\":39.3,\"category\":\"es_transportation\",\"customer\":\"C1983995504\",\"gender\":\"F\",\"merchant\":\"M1823072687\",\"zipMerchant\":\"28007\",\"IsFraud?\":\"Not-fraud\"},{\"age\":\"2\",\"amount\":18.31,\"category\":\"es_transportation\",\"customer\":\"C734397713\",\"gender\":\"M\",\"merchant\":\"M348934600\",\"zipMerchant\":\"28007\",\"IsFraud?\":\"Not-fraud\"},{\"age\":\"2\",\"amount\":15.91,\"category\":\"es_transportation\",\"customer\":\"C47462628\",\"gender\":\"F\",\"merchant\":\"M348934600\",\"zipMerchant\":\"28007\",\"IsFraud?\":\"Not-fraud\"},{\"age\":\"2\",\"amount\":366.58,\"category\":\"es_health\",\"customer\":\"C218446443\",\"gender\":\"M\",\"merchant\":\"M480139044\",\"zipMerchant\":\"28007\",\"IsFraud?\":\"Fraud\"},{\"age\":\"4\",\"amount\":48.43,\"category\":\"es_transportation\",\"customer\":\"C483485800\",\"gender\":\"F\",\"merchant\":\"M1823072687\",\"zipMerchant\":\"28007\",\"IsFraud?\":\"Not-fraud\"},{\"age\":\"5\",\"amount\":25.57,\"category\":\"es_transportation\",\"customer\":\"C1562991705\",\"gender\":\"F\",\"merchant\":\"M1823072687\",\"zipMerchant\":\"28007\",\"IsFraud?\":\"Not-fraud\"},{\"age\":\"2\",\"amount\":2.01,\"category\":\"es_sportsandtoys\",\"customer\":\"C809005315\",\"gender\":\"F\",\"merchant\":\"M980657600\",\"zipMerchant\":\"28007\",\"IsFraud?\":\"Not-fraud\"},{\"age\":\"6\",\"amount\":45.07,\"category\":\"es_transportation\",\"customer\":\"C731767226\",\"gender\":\"M\",\"merchant\":\"M348934600\",\"zipMerchant\":\"28007\",\"IsFraud?\":\"Not-fraud\"}]'"
      ]
     },
     "execution_count": 10,
     "metadata": {},
     "output_type": "execute_result"
    }
   ],
   "source": [
    "preds2['predictions']"
   ]
  },
  {
   "cell_type": "code",
   "execution_count": 20,
   "metadata": {},
   "outputs": [
    {
     "data": {
      "text/plain": [
       "{'plots': '<div id=\\'i70DKLU5N61M6N4KTV6B9\\'><div style=\\'color: #900; text-align: center;\\'>  <b>Visualization omitted, Javascript library not loaded!</b><br>  Have you run `initjs()` in this notebook? If this notebook was from another  user you must also trust this notebook (File -> Trust notebook). If you are viewing  this notebook on github the Javascript has been stripped for security. If you are using  JupyterLab this error is because a JupyterLab extension has not yet been written.</div></div> <script>   if (window.SHAP) SHAP.ReactDom.render(    SHAP.React.createElement(SHAP.AdditiveForceVisualizer, {\"outNames\": [\"output value\"], \"baseValue\": -5.485230922698975, \"outValue\": -10.571115493774414, \"link\": \"identity\", \"featureNames\": [\"merchant\", \"category\", \"amount\"], \"features\": {\"0\": {\"effect\": -1.4251912832260132, \"value\": 30.0}, \"1\": {\"effect\": -2.819314956665039, \"value\": 12.0}, \"2\": {\"effect\": -0.8413779735565186, \"value\": 3.570658822726505}}, \"plot_cmap\": \"RdBu\", \"labelMargin\": 20}),    document.getElementById(\\'i70DKLU5N61M6N4KTV6B9\\')  );</script>'}"
      ]
     },
     "execution_count": 20,
     "metadata": {},
     "output_type": "execute_result"
    }
   ],
   "source": [
    "json.loads(preds2['plots'])[0]"
   ]
  },
  {
   "cell_type": "code",
   "execution_count": 12,
   "metadata": {},
   "outputs": [
    {
     "name": "stdout",
     "output_type": "stream",
     "text": [
      "{\"combined\": \"<div id='iENWQLY6TE6Y5NLV3JW0B'><div style='color: #900; text-align: center;'>  <b>Visualization omitted, Javascript library not loaded!</b><br>  Have you run `initjs()` in this notebook? If this notebook was from another  user you must also trust this notebook (File -> Trust notebook). If you are viewing  this notebook on github the Javascript has been stripped for security. If you are using  JupyterLab this error is because a JupyterLab extension has not yet been written.</div></div> <script>   if (window.SHAP) SHAP.ReactDom.render(    SHAP.React.createElement(SHAP.AdditiveForceArrayVisualizer, {\\\"outNames\\\": [\\\"output value\\\"], \\\"baseValue\\\": -5.485230922698975, \\\"link\\\": \\\"identity\\\", \\\"featureNames\\\": [\\\"merchant\\\", \\\"category\\\", \\\"amount\\\"], \\\"explanations\\\": [{\\\"outValue\\\": -10.571115493774414, \\\"simIndex\\\": 5.0, \\\"features\\\": {\\\"0\\\": {\\\"effect\\\": -1.4251912832260132, \\\"value\\\": 30.0}, \\\"1\\\": {\\\"effect\\\": -2.819314956665039, \\\"value\\\": 12.0}, \\\"2\\\": {\\\"effect\\\": -0.8413779735565186, \\\"value\\\": 3.570658822726505}}}, {\\\"outValue\\\": -11.615196228027344, \\\"simIndex\\\": 4.0, \\\"features\\\": {\\\"0\\\": {\\\"effect\\\": -2.227097988128662, \\\"value\\\": 18.0}, \\\"1\\\": {\\\"effect\\\": -2.9403810501098633, \\\"value\\\": 12.0}, \\\"2\\\": {\\\"effect\\\": -0.962486982345581, \\\"value\\\": 2.2049722641270453}}}, {\\\"outValue\\\": -11.556407928466797, \\\"simIndex\\\": 3.0, \\\"features\\\": {\\\"0\\\": {\\\"effect\\\": -2.2213644981384277, \\\"value\\\": 18.0}, \\\"1\\\": {\\\"effect\\\": -2.939432382583618, \\\"value\\\": 12.0}, \\\"2\\\": {\\\"effect\\\": -0.9103801846504211, \\\"value\\\": 3.696351468952637}}}, {\\\"outValue\\\": -10.659494400024414, \\\"simIndex\\\": 7.0, \\\"features\\\": {\\\"0\\\": {\\\"effect\\\": -1.4231528043746948, \\\"value\\\": 30.0}, \\\"1\\\": {\\\"effect\\\": -2.854072332382202, \\\"value\\\": 12.0}, \\\"2\\\": {\\\"effect\\\": -0.8970387578010559, \\\"value\\\": 2.960623096440423}}}, {\\\"outValue\\\": -10.989492416381836, \\\"simIndex\\\": 8.0, \\\"features\\\": {\\\"0\\\": {\\\"effect\\\": -1.4188268184661865, \\\"value\\\": 30.0}, \\\"1\\\": {\\\"effect\\\": -2.821880578994751, \\\"value\\\": 12.0}, \\\"2\\\": {\\\"effect\\\": -1.2635539770126343, \\\"value\\\": 2.827905162910489}}}, {\\\"outValue\\\": 2.560314655303955, \\\"simIndex\\\": 10.0, \\\"features\\\": {\\\"0\\\": {\\\"effect\\\": 1.509279489517212, \\\"value\\\": 34.0}, \\\"1\\\": {\\\"effect\\\": 1.1297247409820557, \\\"value\\\": 4.0}, \\\"2\\\": {\\\"effect\\\": 5.40654182434082, \\\"value\\\": 5.906940982037328}}}, {\\\"outValue\\\": -11.556408882141113, \\\"simIndex\\\": 2.0, \\\"features\\\": {\\\"0\\\": {\\\"effect\\\": -2.1828255653381348, \\\"value\\\": 18.0}, \\\"1\\\": {\\\"effect\\\": -2.962045907974243, \\\"value\\\": 12.0}, \\\"2\\\": {\\\"effect\\\": -0.9263060688972473, \\\"value\\\": 3.9005575273188677}}}, {\\\"outValue\\\": -11.538434982299805, \\\"simIndex\\\": 1.0, \\\"features\\\": {\\\"0\\\": {\\\"effect\\\": -2.2517812252044678, \\\"value\\\": 18.0}, \\\"1\\\": {\\\"effect\\\": -2.94565749168396, \\\"value\\\": 12.0}, \\\"2\\\": {\\\"effect\\\": -0.8557648062705994, \\\"value\\\": 3.279782759771722}}}, {\\\"outValue\\\": -0.7773661613464355, \\\"simIndex\\\": 9.0, \\\"features\\\": {\\\"0\\\": {\\\"effect\\\": 2.9975037574768066, \\\"value\\\": 49.0}, \\\"1\\\": {\\\"effect\\\": 2.824686288833618, \\\"value\\\": 10.0}, \\\"2\\\": {\\\"effect\\\": -1.1143255233764648, \\\"value\\\": 1.1019400787607843}}}, {\\\"outValue\\\": -10.571115493774414, \\\"simIndex\\\": 6.0, \\\"features\\\": {\\\"0\\\": {\\\"effect\\\": -1.3925071954727173, \\\"value\\\": 30.0}, \\\"1\\\": {\\\"effect\\\": -2.847076654434204, \\\"value\\\": 12.0}, \\\"2\\\": {\\\"effect\\\": -0.8463008999824524, \\\"value\\\": 3.830161978947826}}}], \\\"plot_cmap\\\": \\\"RdBu\\\", \\\"ordering_keys\\\": null, \\\"ordering_keys_time_format\\\": null}),    document.getElementById('iENWQLY6TE6Y5NLV3JW0B')  );</script>\"}\n"
     ]
    }
   ],
   "source": [
    "print(preds2['combined'])"
   ]
  },
  {
   "cell_type": "code",
   "execution_count": 89,
   "metadata": {},
   "outputs": [
    {
     "data": {
      "text/html": [
       "<div>\n",
       "<style scoped>\n",
       "    .dataframe tbody tr th:only-of-type {\n",
       "        vertical-align: middle;\n",
       "    }\n",
       "\n",
       "    .dataframe tbody tr th {\n",
       "        vertical-align: top;\n",
       "    }\n",
       "\n",
       "    .dataframe thead th {\n",
       "        text-align: right;\n",
       "    }\n",
       "</style>\n",
       "<table border=\"1\" class=\"dataframe\">\n",
       "  <thead>\n",
       "    <tr style=\"text-align: right;\">\n",
       "      <th></th>\n",
       "      <th>IsFraud?</th>\n",
       "      <th>age</th>\n",
       "      <th>amount</th>\n",
       "      <th>category</th>\n",
       "      <th>customer</th>\n",
       "      <th>gender</th>\n",
       "      <th>merchant</th>\n",
       "      <th>zipMerchant</th>\n",
       "    </tr>\n",
       "  </thead>\n",
       "  <tbody>\n",
       "    <tr>\n",
       "      <th>0</th>\n",
       "      <td>Not-fraud</td>\n",
       "      <td>5</td>\n",
       "      <td>34.54</td>\n",
       "      <td>es_transportation</td>\n",
       "      <td>C2064491438</td>\n",
       "      <td>F</td>\n",
       "      <td>M348934600</td>\n",
       "      <td>28007</td>\n",
       "    </tr>\n",
       "    <tr>\n",
       "      <th>1</th>\n",
       "      <td>Not-fraud</td>\n",
       "      <td>3</td>\n",
       "      <td>8.07</td>\n",
       "      <td>es_transportation</td>\n",
       "      <td>C976232384</td>\n",
       "      <td>M</td>\n",
       "      <td>M1823072687</td>\n",
       "      <td>28007</td>\n",
       "    </tr>\n",
       "    <tr>\n",
       "      <th>2</th>\n",
       "      <td>Not-fraud</td>\n",
       "      <td>2</td>\n",
       "      <td>39.30</td>\n",
       "      <td>es_transportation</td>\n",
       "      <td>C1983995504</td>\n",
       "      <td>F</td>\n",
       "      <td>M1823072687</td>\n",
       "      <td>28007</td>\n",
       "    </tr>\n",
       "    <tr>\n",
       "      <th>3</th>\n",
       "      <td>Not-fraud</td>\n",
       "      <td>2</td>\n",
       "      <td>18.31</td>\n",
       "      <td>es_transportation</td>\n",
       "      <td>C734397713</td>\n",
       "      <td>M</td>\n",
       "      <td>M348934600</td>\n",
       "      <td>28007</td>\n",
       "    </tr>\n",
       "    <tr>\n",
       "      <th>4</th>\n",
       "      <td>Not-fraud</td>\n",
       "      <td>2</td>\n",
       "      <td>15.91</td>\n",
       "      <td>es_transportation</td>\n",
       "      <td>C47462628</td>\n",
       "      <td>F</td>\n",
       "      <td>M348934600</td>\n",
       "      <td>28007</td>\n",
       "    </tr>\n",
       "    <tr>\n",
       "      <th>5</th>\n",
       "      <td>Fraud</td>\n",
       "      <td>2</td>\n",
       "      <td>366.58</td>\n",
       "      <td>es_health</td>\n",
       "      <td>C218446443</td>\n",
       "      <td>M</td>\n",
       "      <td>M480139044</td>\n",
       "      <td>28007</td>\n",
       "    </tr>\n",
       "    <tr>\n",
       "      <th>6</th>\n",
       "      <td>Not-fraud</td>\n",
       "      <td>4</td>\n",
       "      <td>48.43</td>\n",
       "      <td>es_transportation</td>\n",
       "      <td>C483485800</td>\n",
       "      <td>F</td>\n",
       "      <td>M1823072687</td>\n",
       "      <td>28007</td>\n",
       "    </tr>\n",
       "    <tr>\n",
       "      <th>7</th>\n",
       "      <td>Not-fraud</td>\n",
       "      <td>5</td>\n",
       "      <td>25.57</td>\n",
       "      <td>es_transportation</td>\n",
       "      <td>C1562991705</td>\n",
       "      <td>F</td>\n",
       "      <td>M1823072687</td>\n",
       "      <td>28007</td>\n",
       "    </tr>\n",
       "    <tr>\n",
       "      <th>8</th>\n",
       "      <td>Not-fraud</td>\n",
       "      <td>2</td>\n",
       "      <td>2.01</td>\n",
       "      <td>es_sportsandtoys</td>\n",
       "      <td>C809005315</td>\n",
       "      <td>F</td>\n",
       "      <td>M980657600</td>\n",
       "      <td>28007</td>\n",
       "    </tr>\n",
       "    <tr>\n",
       "      <th>9</th>\n",
       "      <td>Not-fraud</td>\n",
       "      <td>6</td>\n",
       "      <td>45.07</td>\n",
       "      <td>es_transportation</td>\n",
       "      <td>C731767226</td>\n",
       "      <td>M</td>\n",
       "      <td>M348934600</td>\n",
       "      <td>28007</td>\n",
       "    </tr>\n",
       "  </tbody>\n",
       "</table>\n",
       "</div>"
      ],
      "text/plain": [
       "    IsFraud?  age  amount           category     customer gender     merchant  \\\n",
       "0  Not-fraud    5   34.54  es_transportation  C2064491438      F   M348934600   \n",
       "1  Not-fraud    3    8.07  es_transportation   C976232384      M  M1823072687   \n",
       "2  Not-fraud    2   39.30  es_transportation  C1983995504      F  M1823072687   \n",
       "3  Not-fraud    2   18.31  es_transportation   C734397713      M   M348934600   \n",
       "4  Not-fraud    2   15.91  es_transportation    C47462628      F   M348934600   \n",
       "5      Fraud    2  366.58          es_health   C218446443      M   M480139044   \n",
       "6  Not-fraud    4   48.43  es_transportation   C483485800      F  M1823072687   \n",
       "7  Not-fraud    5   25.57  es_transportation  C1562991705      F  M1823072687   \n",
       "8  Not-fraud    2    2.01   es_sportsandtoys   C809005315      F   M980657600   \n",
       "9  Not-fraud    6   45.07  es_transportation   C731767226      M   M348934600   \n",
       "\n",
       "   zipMerchant  \n",
       "0        28007  \n",
       "1        28007  \n",
       "2        28007  \n",
       "3        28007  \n",
       "4        28007  \n",
       "5        28007  \n",
       "6        28007  \n",
       "7        28007  \n",
       "8        28007  \n",
       "9        28007  "
      ]
     },
     "execution_count": 89,
     "metadata": {},
     "output_type": "execute_result"
    }
   ],
   "source": [
    "pd.read_json(preds2['predictions'], orient = 'records')"
   ]
  },
  {
   "cell_type": "code",
   "execution_count": 7,
   "metadata": {},
   "outputs": [],
   "source": [
    "#Running the downloaded image from another ec2 instance\n",
    "\n",
    "# resp3 = requests.post(\"http://52.14.168.26:8888/predict\", \\\n",
    "#                     data = json.dumps(data),\\\n",
    "#                     headers= header)\n",
    "\n",
    "# print(\"Return Status: \",resp3.status_code)\n",
    "\n",
    "# preds3 = resp3.json()\n",
    "\n",
    "# print('Prediction: \\n',preds3)\n",
    "\n",
    "# # 52.14.168.26"
   ]
  },
  {
   "cell_type": "code",
   "execution_count": null,
   "metadata": {},
   "outputs": [],
   "source": []
  }
 ],
 "metadata": {
  "kernelspec": {
   "display_name": "Python 3",
   "language": "python",
   "name": "python3"
  },
  "language_info": {
   "codemirror_mode": {
    "name": "ipython",
    "version": 3
   },
   "file_extension": ".py",
   "mimetype": "text/x-python",
   "name": "python",
   "nbconvert_exporter": "python",
   "pygments_lexer": "ipython3",
   "version": "3.7.1"
  }
 },
 "nbformat": 4,
 "nbformat_minor": 2
}
