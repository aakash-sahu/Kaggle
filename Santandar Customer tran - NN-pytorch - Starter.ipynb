{
 "cells": [
  {
   "cell_type": "code",
   "execution_count": 427,
   "metadata": {},
   "outputs": [],
   "source": [
    "import torch\n",
    "import numpy as np\n",
    "from torch import nn, optim\n",
    "import pandas as pd\n",
    "from sklearn.preprocessing import StandardScaler, RobustScaler\n",
    "from sklearn.model_selection import StratifiedKFold\n",
    "import torch.nn.functional as F\n",
    "import torchvision\n",
    "\n",
    "from sklearn.metrics import accuracy_score, confusion_matrix,f1_score, precision_recall_curve, average_precision_score, roc_auc_score, confusion_matrix\n",
    "import matplotlib.pyplot as plt\n",
    "%matplotlib inline\n",
    "plt.style.use('ggplot')"
   ]
  },
  {
   "cell_type": "code",
   "execution_count": 2,
   "metadata": {},
   "outputs": [
    {
     "name": "stdout",
     "output_type": "stream",
     "text": [
      "cuda available\n"
     ]
    },
    {
     "data": {
      "text/plain": [
       "'Quadro M1000M'"
      ]
     },
     "execution_count": 2,
     "metadata": {},
     "output_type": "execute_result"
    }
   ],
   "source": [
    "cuda = torch.cuda.is_available()\n",
    "if cuda:\n",
    "    device = \"cuda\"\n",
    "    print(\"cuda available\")\n",
    "torch.cuda.get_device_name(0)    "
   ]
  },
  {
   "cell_type": "code",
   "execution_count": 399,
   "metadata": {},
   "outputs": [
    {
     "name": "stdout",
     "output_type": "stream",
     "text": [
      "Wall time: 54.6 s\n"
     ]
    }
   ],
   "source": [
    "%%time\n",
    "df_train = pd.read_csv('train.csv.zip')\n",
    "df_test = pd.read_csv('test.csv.zip')"
   ]
  },
  {
   "cell_type": "code",
   "execution_count": 400,
   "metadata": {},
   "outputs": [],
   "source": [
    "train_cols = [col for col in df_train.columns if col not in ['ID_code', 'target']]\n",
    "y_train = df_train['target']"
   ]
  },
  {
   "cell_type": "code",
   "execution_count": 401,
   "metadata": {},
   "outputs": [
    {
     "data": {
      "text/plain": [
       "(200000, 202)"
      ]
     },
     "execution_count": 401,
     "metadata": {},
     "output_type": "execute_result"
    }
   ],
   "source": [
    "df_train.shape"
   ]
  },
  {
   "cell_type": "code",
   "execution_count": 402,
   "metadata": {},
   "outputs": [],
   "source": [
    "ss = StandardScaler()\n",
    "rs = RobustScaler() \n",
    "df_train[train_cols] = ss.fit_transform(df_train[train_cols])\n",
    "df_test[train_cols] = ss.fit_transform(df_test[train_cols])"
   ]
  },
  {
   "cell_type": "code",
   "execution_count": 403,
   "metadata": {},
   "outputs": [
    {
     "data": {
      "text/html": [
       "<div>\n",
       "<style scoped>\n",
       "    .dataframe tbody tr th:only-of-type {\n",
       "        vertical-align: middle;\n",
       "    }\n",
       "\n",
       "    .dataframe tbody tr th {\n",
       "        vertical-align: top;\n",
       "    }\n",
       "\n",
       "    .dataframe thead th {\n",
       "        text-align: right;\n",
       "    }\n",
       "</style>\n",
       "<table border=\"1\" class=\"dataframe\">\n",
       "  <thead>\n",
       "    <tr style=\"text-align: right;\">\n",
       "      <th></th>\n",
       "      <th>ID_code</th>\n",
       "      <th>target</th>\n",
       "      <th>var_0</th>\n",
       "      <th>var_1</th>\n",
       "      <th>var_2</th>\n",
       "      <th>var_3</th>\n",
       "      <th>var_4</th>\n",
       "      <th>var_5</th>\n",
       "      <th>var_6</th>\n",
       "      <th>var_7</th>\n",
       "      <th>...</th>\n",
       "      <th>var_190</th>\n",
       "      <th>var_191</th>\n",
       "      <th>var_192</th>\n",
       "      <th>var_193</th>\n",
       "      <th>var_194</th>\n",
       "      <th>var_195</th>\n",
       "      <th>var_196</th>\n",
       "      <th>var_197</th>\n",
       "      <th>var_198</th>\n",
       "      <th>var_199</th>\n",
       "    </tr>\n",
       "  </thead>\n",
       "  <tbody>\n",
       "    <tr>\n",
       "      <th>0</th>\n",
       "      <td>train_0</td>\n",
       "      <td>0</td>\n",
       "      <td>-0.577102</td>\n",
       "      <td>-1.273737</td>\n",
       "      <td>0.451707</td>\n",
       "      <td>-0.833709</td>\n",
       "      <td>0.235571</td>\n",
       "      <td>-0.536430</td>\n",
       "      <td>-0.334926</td>\n",
       "      <td>0.608751</td>\n",
       "      <td>...</td>\n",
       "      <td>0.263374</td>\n",
       "      <td>-1.149158</td>\n",
       "      <td>0.817469</td>\n",
       "      <td>-0.411013</td>\n",
       "      <td>0.168705</td>\n",
       "      <td>-1.578117</td>\n",
       "      <td>1.022131</td>\n",
       "      <td>-0.373968</td>\n",
       "      <td>-1.026398</td>\n",
       "      <td>0.214135</td>\n",
       "    </tr>\n",
       "    <tr>\n",
       "      <th>1</th>\n",
       "      <td>train_1</td>\n",
       "      <td>0</td>\n",
       "      <td>0.269959</td>\n",
       "      <td>-0.622138</td>\n",
       "      <td>1.190360</td>\n",
       "      <td>-0.688846</td>\n",
       "      <td>0.790975</td>\n",
       "      <td>1.539900</td>\n",
       "      <td>0.244461</td>\n",
       "      <td>-0.003525</td>\n",
       "      <td>...</td>\n",
       "      <td>0.966611</td>\n",
       "      <td>0.093605</td>\n",
       "      <td>0.443623</td>\n",
       "      <td>1.908764</td>\n",
       "      <td>-0.817594</td>\n",
       "      <td>1.522342</td>\n",
       "      <td>1.067654</td>\n",
       "      <td>-0.129400</td>\n",
       "      <td>0.825417</td>\n",
       "      <td>0.505685</td>\n",
       "    </tr>\n",
       "    <tr>\n",
       "      <th>2</th>\n",
       "      <td>train_2</td>\n",
       "      <td>0</td>\n",
       "      <td>-0.681113</td>\n",
       "      <td>-0.276066</td>\n",
       "      <td>0.516988</td>\n",
       "      <td>0.536516</td>\n",
       "      <td>-0.305477</td>\n",
       "      <td>-0.511033</td>\n",
       "      <td>1.769839</td>\n",
       "      <td>-0.564749</td>\n",
       "      <td>...</td>\n",
       "      <td>-0.072093</td>\n",
       "      <td>0.777997</td>\n",
       "      <td>-0.174131</td>\n",
       "      <td>-0.412316</td>\n",
       "      <td>1.151591</td>\n",
       "      <td>2.297370</td>\n",
       "      <td>-1.617906</td>\n",
       "      <td>-0.695141</td>\n",
       "      <td>-0.381449</td>\n",
       "      <td>0.356681</td>\n",
       "    </tr>\n",
       "    <tr>\n",
       "      <th>3</th>\n",
       "      <td>train_3</td>\n",
       "      <td>0</td>\n",
       "      <td>0.125158</td>\n",
       "      <td>-0.129426</td>\n",
       "      <td>-0.667575</td>\n",
       "      <td>0.195355</td>\n",
       "      <td>0.927992</td>\n",
       "      <td>0.410672</td>\n",
       "      <td>0.500633</td>\n",
       "      <td>-0.474201</td>\n",
       "      <td>...</td>\n",
       "      <td>0.270216</td>\n",
       "      <td>-0.891456</td>\n",
       "      <td>-0.818468</td>\n",
       "      <td>-0.478548</td>\n",
       "      <td>1.607869</td>\n",
       "      <td>-0.789517</td>\n",
       "      <td>-0.959020</td>\n",
       "      <td>1.501744</td>\n",
       "      <td>0.697118</td>\n",
       "      <td>-0.543502</td>\n",
       "    </tr>\n",
       "    <tr>\n",
       "      <th>4</th>\n",
       "      <td>train_4</td>\n",
       "      <td>0</td>\n",
       "      <td>-0.277303</td>\n",
       "      <td>0.035610</td>\n",
       "      <td>0.817683</td>\n",
       "      <td>-0.077829</td>\n",
       "      <td>0.738607</td>\n",
       "      <td>0.955574</td>\n",
       "      <td>0.613372</td>\n",
       "      <td>0.791544</td>\n",
       "      <td>...</td>\n",
       "      <td>-1.036191</td>\n",
       "      <td>0.688988</td>\n",
       "      <td>-1.405987</td>\n",
       "      <td>1.468536</td>\n",
       "      <td>-1.501101</td>\n",
       "      <td>-0.958473</td>\n",
       "      <td>0.297627</td>\n",
       "      <td>0.645537</td>\n",
       "      <td>0.706318</td>\n",
       "      <td>-0.525375</td>\n",
       "    </tr>\n",
       "  </tbody>\n",
       "</table>\n",
       "<p>5 rows × 202 columns</p>\n",
       "</div>"
      ],
      "text/plain": [
       "   ID_code  target     var_0     var_1     var_2     var_3     var_4  \\\n",
       "0  train_0       0 -0.577102 -1.273737  0.451707 -0.833709  0.235571   \n",
       "1  train_1       0  0.269959 -0.622138  1.190360 -0.688846  0.790975   \n",
       "2  train_2       0 -0.681113 -0.276066  0.516988  0.536516 -0.305477   \n",
       "3  train_3       0  0.125158 -0.129426 -0.667575  0.195355  0.927992   \n",
       "4  train_4       0 -0.277303  0.035610  0.817683 -0.077829  0.738607   \n",
       "\n",
       "      var_5     var_6     var_7    ...      var_190   var_191   var_192  \\\n",
       "0 -0.536430 -0.334926  0.608751    ...     0.263374 -1.149158  0.817469   \n",
       "1  1.539900  0.244461 -0.003525    ...     0.966611  0.093605  0.443623   \n",
       "2 -0.511033  1.769839 -0.564749    ...    -0.072093  0.777997 -0.174131   \n",
       "3  0.410672  0.500633 -0.474201    ...     0.270216 -0.891456 -0.818468   \n",
       "4  0.955574  0.613372  0.791544    ...    -1.036191  0.688988 -1.405987   \n",
       "\n",
       "    var_193   var_194   var_195   var_196   var_197   var_198   var_199  \n",
       "0 -0.411013  0.168705 -1.578117  1.022131 -0.373968 -1.026398  0.214135  \n",
       "1  1.908764 -0.817594  1.522342  1.067654 -0.129400  0.825417  0.505685  \n",
       "2 -0.412316  1.151591  2.297370 -1.617906 -0.695141 -0.381449  0.356681  \n",
       "3 -0.478548  1.607869 -0.789517 -0.959020  1.501744  0.697118 -0.543502  \n",
       "4  1.468536 -1.501101 -0.958473  0.297627  0.645537  0.706318 -0.525375  \n",
       "\n",
       "[5 rows x 202 columns]"
      ]
     },
     "execution_count": 403,
     "metadata": {},
     "output_type": "execute_result"
    }
   ],
   "source": [
    "df_train.head()"
   ]
  },
  {
   "cell_type": "code",
   "execution_count": 379,
   "metadata": {},
   "outputs": [],
   "source": [
    "class classifier(nn.Module):\n",
    "    \n",
    "    def __init__(self, hidden_dim, dropout = 0.3):\n",
    "        super().__init__()\n",
    "        \n",
    "        self.fc1 = nn.Linear(200, hidden_dim)\n",
    "        self.fc2 = nn.Linear(hidden_dim, hidden_dim)\n",
    "        self.fc3 = nn.Linear(hidden_dim, 1)\n",
    "        self.dropout = nn.Dropout(p = dropout)\n",
    "    \n",
    "    \n",
    "    def forward(self,x):\n",
    "        x = self.dropout(F.relu(self.fc1(x)))\n",
    "        x = self.dropout(F.relu(self.fc2(x)))\n",
    "        x = self.fc3(x)\n",
    "        \n",
    "        return x   "
   ]
  },
  {
   "cell_type": "code",
   "execution_count": 380,
   "metadata": {},
   "outputs": [
    {
     "name": "stdout",
     "output_type": "stream",
     "text": [
      "classifier(\n",
      "  (fc1): Linear(in_features=200, out_features=100, bias=True)\n",
      "  (fc2): Linear(in_features=100, out_features=100, bias=True)\n",
      "  (fc3): Linear(in_features=100, out_features=1, bias=True)\n",
      "  (dropout): Dropout(p=0.3)\n",
      ")\n"
     ]
    }
   ],
   "source": [
    "model = classifier(100)\n",
    "print(model)\n",
    "del model"
   ]
  },
  {
   "cell_type": "code",
   "execution_count": 203,
   "metadata": {},
   "outputs": [],
   "source": [
    "batch_size = 1000\n",
    "\n",
    "train_x = torch.from_numpy(df_train[train_cols].values).float().cuda()\n",
    "train_y = torch.from_numpy(y_train.values).float().cuda()\n",
    "\n",
    "test_x = torch.from_numpy(df_test[train_cols].values).float().cuda()"
   ]
  },
  {
   "cell_type": "code",
   "execution_count": 204,
   "metadata": {},
   "outputs": [
    {
     "data": {
      "text/plain": [
       "torch.Tensor"
      ]
     },
     "execution_count": 204,
     "metadata": {},
     "output_type": "execute_result"
    }
   ],
   "source": [
    "type(train_x)"
   ]
  },
  {
   "cell_type": "code",
   "execution_count": 205,
   "metadata": {},
   "outputs": [],
   "source": [
    "train_x_dataset = torch.utils.data.TensorDataset(train_x, train_y)\n",
    "# te_x_dataset = torch.utils.data.TensorDataset(te_x)"
   ]
  },
  {
   "cell_type": "code",
   "execution_count": 206,
   "metadata": {},
   "outputs": [],
   "source": [
    "trainloader = torch.utils.data.DataLoader(train_x_dataset, batch_size = batch_size, shuffle = True)"
   ]
  },
  {
   "cell_type": "code",
   "execution_count": 447,
   "metadata": {},
   "outputs": [
    {
     "name": "stdout",
     "output_type": "stream",
     "text": [
      "classifier(\n",
      "  (fc1): Linear(in_features=200, out_features=100, bias=True)\n",
      "  (fc2): Linear(in_features=100, out_features=100, bias=True)\n",
      "  (fc3): Linear(in_features=100, out_features=1, bias=True)\n",
      "  (dropout): Dropout(p=0.3)\n",
      ")\n"
     ]
    }
   ],
   "source": [
    "model = classifier(100)\n",
    "model.cuda()\n",
    "optimizer = optim.SGD(model.parameters(), lr = 0.005)\n",
    "# criterion = nn.CrossEntropyLoss() # also number of outputs should be 2\n",
    "criterion = nn.BCEWithLogitsLoss()\n",
    "print(model)"
   ]
  },
  {
   "cell_type": "code",
   "execution_count": 448,
   "metadata": {},
   "outputs": [],
   "source": [
    "x,y = next(iter(trainloader))"
   ]
  },
  {
   "cell_type": "code",
   "execution_count": 449,
   "metadata": {},
   "outputs": [
    {
     "data": {
      "text/plain": [
       "tensor([[ 0.2651, -0.0782, -0.6425,  ...,  1.0954,  1.4456, -1.4608],\n",
       "        [-0.2241, -0.4485, -0.9721,  ...,  0.1203, -0.8118, -1.2728],\n",
       "        [ 0.9425,  0.3757, -0.2364,  ...,  0.0755, -0.1102,  0.4335],\n",
       "        ...,\n",
       "        [-0.3833, -1.3038,  0.6323,  ..., -0.1134,  0.7703,  1.1388],\n",
       "        [-1.3360, -0.8418,  0.6823,  ...,  0.0901, -0.5293,  1.5723],\n",
       "        [ 0.9403,  0.9838,  1.2544,  ..., -0.3421, -0.8356,  1.4559]],\n",
       "       device='cuda:0')"
      ]
     },
     "execution_count": 449,
     "metadata": {},
     "output_type": "execute_result"
    }
   ],
   "source": [
    "x"
   ]
  },
  {
   "cell_type": "code",
   "execution_count": 450,
   "metadata": {},
   "outputs": [
    {
     "data": {
      "text/plain": [
       "(torch.Size([1000, 200]),\n",
       " torch.Size([1000, 1, 200]),\n",
       " torch.Size([1000]),\n",
       " torch.Size([1000, 1]))"
      ]
     },
     "execution_count": 450,
     "metadata": {},
     "output_type": "execute_result"
    }
   ],
   "source": [
    "x.shape, x.view(x.shape[0],1,-1).shape, y.shape, y.view(-1,1).shape"
   ]
  },
  {
   "cell_type": "code",
   "execution_count": 451,
   "metadata": {},
   "outputs": [
    {
     "data": {
      "text/plain": [
       "tensor(0.7336, device='cuda:0', grad_fn=<BinaryCrossEntropyWithLogitsBackward>)"
      ]
     },
     "execution_count": 451,
     "metadata": {},
     "output_type": "execute_result"
    }
   ],
   "source": [
    "o = model(x)\n",
    "l = criterion(o, y.view(-1,1))\n",
    "l"
   ]
  },
  {
   "cell_type": "code",
   "execution_count": 232,
   "metadata": {},
   "outputs": [
    {
     "name": "stdout",
     "output_type": "stream",
     "text": [
      "0.49123233556747437\n",
      "0.4669589400291443\n",
      "[12.237966537475586, 11.555702209472656]\n"
     ]
    }
   ],
   "source": [
    "epochs = 2\n",
    "train_losses, test_losses = [],[]\n",
    "\n",
    "for e in range(epochs):\n",
    "    running_loss = 0\n",
    "    for step, (x_batch,y_batch) in enumerate(trainloader):\n",
    "        optimizer.zero_grad()\n",
    "#         print(step)\n",
    "#         print(x_batch)\n",
    "#         print(y_batch)\n",
    "        \n",
    "        model.train()\n",
    "        output = model(x_batch)\n",
    "        loss = criterion(output, y_batch.view(-1,1))\n",
    "        loss.backward()\n",
    "        optimizer.step()\n",
    "        running_loss += loss\n",
    "        \n",
    "        if step % 100 ==0:\n",
    "            print(running_loss.item())\n",
    "        \n",
    "    train_losses.append(running_loss.item())    \n",
    "\n",
    "print(train_losses)        "
   ]
  },
  {
   "cell_type": "code",
   "execution_count": 216,
   "metadata": {},
   "outputs": [
    {
     "name": "stdout",
     "output_type": "stream",
     "text": [
      "torch.Size([25000, 1])\n"
     ]
    }
   ],
   "source": [
    "with torch.no_grad():\n",
    "    model.eval()\n",
    "\n",
    "    pred_y = model(test_x)\n",
    "    print(pred_y.shape)"
   ]
  },
  {
   "cell_type": "code",
   "execution_count": 217,
   "metadata": {},
   "outputs": [
    {
     "data": {
      "text/plain": [
       "tensor([[-0.2346],\n",
       "        [-0.2744],\n",
       "        [-0.4884],\n",
       "        ...,\n",
       "        [-0.3405],\n",
       "        [-0.3741],\n",
       "        [-0.3689]], device='cuda:0')"
      ]
     },
     "execution_count": 217,
     "metadata": {},
     "output_type": "execute_result"
    }
   ],
   "source": [
    "pred_y"
   ]
  },
  {
   "cell_type": "code",
   "execution_count": 218,
   "metadata": {},
   "outputs": [],
   "source": [
    "pred_y = pred_y.cpu().numpy()"
   ]
  },
  {
   "cell_type": "code",
   "execution_count": 227,
   "metadata": {},
   "outputs": [
    {
     "data": {
      "text/plain": [
       "array([-0.23459193, -0.27436283, -0.4884416 , ..., -0.34051102,\n",
       "       -0.3740533 , -0.36889756], dtype=float32)"
      ]
     },
     "execution_count": 227,
     "metadata": {},
     "output_type": "execute_result"
    }
   ],
   "source": [
    "pred_y[:,0]"
   ]
  },
  {
   "cell_type": "code",
   "execution_count": 260,
   "metadata": {},
   "outputs": [
    {
     "data": {
      "text/plain": [
       "(25000,)"
      ]
     },
     "execution_count": 260,
     "metadata": {},
     "output_type": "execute_result"
    }
   ],
   "source": [
    "def sigmoid(x):\n",
    "    return 1 / (1 + np.exp(-x))\n",
    "\n",
    "sigmoid(pred_y).squeeze().shape"
   ]
  },
  {
   "cell_type": "code",
   "execution_count": 161,
   "metadata": {},
   "outputs": [],
   "source": [
    "pred_y = pred_y[:,1]"
   ]
  },
  {
   "cell_type": "code",
   "execution_count": 163,
   "metadata": {},
   "outputs": [
    {
     "data": {
      "text/plain": [
       "(-0.69203746, -0.036253992)"
      ]
     },
     "execution_count": 163,
     "metadata": {},
     "output_type": "execute_result"
    }
   ],
   "source": [
    "min(pred_y), max(pred_y)"
   ]
  },
  {
   "cell_type": "code",
   "execution_count": 164,
   "metadata": {},
   "outputs": [
    {
     "data": {
      "text/plain": [
       "array([0.61048   , 0.41939977, 0.5215119 , ..., 0.24173193, 0.64389914,\n",
       "       0.27249616], dtype=float32)"
      ]
     },
     "execution_count": 164,
     "metadata": {},
     "output_type": "execute_result"
    }
   ],
   "source": [
    "(pred_y-min(pred_y))/(max(pred_y)-min(pred_y))"
   ]
  },
  {
   "cell_type": "markdown",
   "metadata": {},
   "source": [
    "### NN with kfold"
   ]
  },
  {
   "cell_type": "code",
   "execution_count": 382,
   "metadata": {},
   "outputs": [],
   "source": [
    "folds = StratifiedKFold(n_splits = 5, shuffle = True)"
   ]
  },
  {
   "cell_type": "code",
   "execution_count": 383,
   "metadata": {},
   "outputs": [
    {
     "name": "stdout",
     "output_type": "stream",
     "text": [
      "0 (159999,) (40001,)\n",
      "1 (159999,) (40001,)\n",
      "2 (160000,) (40000,)\n",
      "3 (160001,) (39999,)\n",
      "4 (160001,) (39999,)\n"
     ]
    }
   ],
   "source": [
    "for n_fold, (train_idx, val_idx) in enumerate(folds.split(df_train, y_train)):\n",
    "    print(n_fold, train_idx.shape, val_idx.shape)"
   ]
  },
  {
   "cell_type": "code",
   "execution_count": 384,
   "metadata": {},
   "outputs": [],
   "source": [
    "def sigmoid(x):\n",
    "    return 1/(1 + np.exp(-x))"
   ]
  },
  {
   "cell_type": "code",
   "execution_count": 436,
   "metadata": {},
   "outputs": [
    {
     "name": "stdout",
     "output_type": "stream",
     "text": [
      "Fold number:  1\n",
      "Epoch: 1   Training loss: 0.268434   Validation Loss: 0.245510    Val_auc:0.84178\n",
      "Validation loss decresed from inf ----> 0.245510 Saving Model\n",
      "Epoch: 2   Training loss: 0.247812   Validation Loss: 0.243120    Val_auc:0.84311\n",
      "Validation loss decresed from 0.245510 ----> 0.243120 Saving Model\n",
      "Epoch: 3   Training loss: 0.241099   Validation Loss: 0.240043    Val_auc:0.84357\n",
      "Validation loss decresed from 0.243120 ----> 0.240043 Saving Model\n",
      "Epoch: 4   Training loss: 0.237372   Validation Loss: 0.239314    Val_auc:0.84441\n",
      "Validation loss decresed from 0.240043 ----> 0.239314 Saving Model\n",
      "Epoch: 5   Training loss: 0.234464   Validation Loss: 0.238801    Val_auc:0.84421\n",
      "Validation loss decresed from 0.239314 ----> 0.238801 Saving Model\n",
      "Epoch: 6   Training loss: 0.231283   Validation Loss: 0.241705    Val_auc:0.84438\n",
      "Epoch: 7   Training loss: 0.229159   Validation Loss: 0.240279    Val_auc:0.84383\n",
      "Epoch: 8   Training loss: 0.227509   Validation Loss: 0.240172    Val_auc:0.84430\n",
      "Epoch: 9   Training loss: 0.226232   Validation Loss: 0.240551    Val_auc:0.84331\n",
      "Epoch: 10   Training loss: 0.224967   Validation Loss: 0.243024    Val_auc:0.84391\n",
      "Epoch: 11   Training loss: 0.223575   Validation Loss: 0.244590    Val_auc:0.84193\n",
      "Epoch: 12   Training loss: 0.222715   Validation Loss: 0.243531    Val_auc:0.84150\n",
      "Epoch: 13   Training loss: 0.220320   Validation Loss: 0.242965    Val_auc:0.84283\n",
      "Epoch: 14   Training loss: 0.219463   Validation Loss: 0.245945    Val_auc:0.84114\n",
      "Epoch: 15   Training loss: 0.218198   Validation Loss: 0.244979    Val_auc:0.84179\n",
      "Epoch: 16   Training loss: 0.217764   Validation Loss: 0.245584    Val_auc:0.84074\n",
      "Epoch: 17   Training loss: 0.216470   Validation Loss: 0.249159    Val_auc:0.84141\n",
      "Epoch: 18   Training loss: 0.215163   Validation Loss: 0.251899    Val_auc:0.84143\n",
      "Epoch: 19   Training loss: 0.214255   Validation Loss: 0.247673    Val_auc:0.83785\n",
      "Epoch: 20   Training loss: 0.213341   Validation Loss: 0.247521    Val_auc:0.84058\n",
      "Epoch: 21   Training loss: 0.212762   Validation Loss: 0.247252    Val_auc:0.83892\n",
      "Epoch: 22   Training loss: 0.211238   Validation Loss: 0.249863    Val_auc:0.84083\n",
      "Epoch: 23   Training loss: 0.210785   Validation Loss: 0.252874    Val_auc:0.84008\n",
      "Epoch: 24   Training loss: 0.210050   Validation Loss: 0.250074    Val_auc:0.83825\n",
      "Epoch: 25   Training loss: 0.209474   Validation Loss: 0.249448    Val_auc:0.83717\n",
      "Epoch: 26   Training loss: 0.208330   Validation Loss: 0.250601    Val_auc:0.83605\n",
      "Epoch: 27   Training loss: 0.207031   Validation Loss: 0.250553    Val_auc:0.83637\n",
      "Epoch: 28   Training loss: 0.206151   Validation Loss: 0.253094    Val_auc:0.83531\n",
      "Epoch: 29   Training loss: 0.206228   Validation Loss: 0.254128    Val_auc:0.83434\n",
      "Epoch: 30   Training loss: 0.205510   Validation Loss: 0.252193    Val_auc:0.83518\n",
      "Fold 1 metrics:   Avg Training loss: 0.2212   Avg Validation Loss: 0.2462   Val_auc:0.83518\n",
      "Saving test results for best model\n",
      "end of fold:  1 \n",
      "\n",
      "Fold number:  2\n",
      "Epoch: 1   Training loss: 0.267595   Validation Loss: 0.245267    Val_auc:0.84386\n",
      "Validation loss decresed from inf ----> 0.245267 Saving Model\n",
      "Epoch: 2   Training loss: 0.245765   Validation Loss: 0.242567    Val_auc:0.84383\n",
      "Validation loss decresed from 0.245267 ----> 0.242567 Saving Model\n",
      "Epoch: 3   Training loss: 0.240151   Validation Loss: 0.240776    Val_auc:0.84523\n",
      "Validation loss decresed from 0.242567 ----> 0.240776 Saving Model\n",
      "Epoch: 4   Training loss: 0.236230   Validation Loss: 0.243032    Val_auc:0.84435\n",
      "Epoch: 5   Training loss: 0.233808   Validation Loss: 0.240189    Val_auc:0.84512\n",
      "Validation loss decresed from 0.240776 ----> 0.240189 Saving Model\n",
      "Epoch: 6   Training loss: 0.231366   Validation Loss: 0.239807    Val_auc:0.84440\n",
      "Validation loss decresed from 0.240189 ----> 0.239807 Saving Model\n",
      "Epoch: 7   Training loss: 0.229387   Validation Loss: 0.240244    Val_auc:0.84517\n",
      "Epoch: 8   Training loss: 0.227242   Validation Loss: 0.242484    Val_auc:0.84366\n",
      "Epoch: 9   Training loss: 0.225834   Validation Loss: 0.243735    Val_auc:0.84279\n",
      "Epoch: 10   Training loss: 0.224541   Validation Loss: 0.242246    Val_auc:0.84295\n",
      "Epoch: 11   Training loss: 0.222294   Validation Loss: 0.243530    Val_auc:0.84279\n",
      "Epoch: 12   Training loss: 0.221988   Validation Loss: 0.243234    Val_auc:0.84219\n",
      "Epoch: 13   Training loss: 0.220270   Validation Loss: 0.244988    Val_auc:0.84254\n",
      "Epoch: 14   Training loss: 0.219257   Validation Loss: 0.245212    Val_auc:0.83994\n",
      "Epoch: 15   Training loss: 0.217919   Validation Loss: 0.244432    Val_auc:0.84099\n",
      "Epoch: 16   Training loss: 0.215854   Validation Loss: 0.245033    Val_auc:0.84148\n",
      "Epoch: 17   Training loss: 0.214532   Validation Loss: 0.247266    Val_auc:0.83965\n",
      "Epoch: 18   Training loss: 0.215296   Validation Loss: 0.248289    Val_auc:0.83895\n",
      "Epoch: 19   Training loss: 0.213933   Validation Loss: 0.248782    Val_auc:0.83649\n",
      "Epoch: 20   Training loss: 0.212405   Validation Loss: 0.247455    Val_auc:0.83827\n",
      "Epoch: 21   Training loss: 0.211717   Validation Loss: 0.247714    Val_auc:0.83836\n",
      "Epoch: 22   Training loss: 0.210401   Validation Loss: 0.247818    Val_auc:0.83927\n",
      "Epoch: 23   Training loss: 0.209271   Validation Loss: 0.249760    Val_auc:0.83650\n",
      "Epoch: 24   Training loss: 0.208548   Validation Loss: 0.248781    Val_auc:0.83778\n",
      "Epoch: 25   Training loss: 0.208586   Validation Loss: 0.250044    Val_auc:0.83712\n",
      "Epoch: 26   Training loss: 0.206519   Validation Loss: 0.252473    Val_auc:0.83746\n",
      "Epoch: 27   Training loss: 0.206354   Validation Loss: 0.257889    Val_auc:0.83697\n",
      "Epoch: 28   Training loss: 0.206423   Validation Loss: 0.255608    Val_auc:0.83495\n",
      "Epoch: 29   Training loss: 0.205553   Validation Loss: 0.253898    Val_auc:0.83415\n",
      "Epoch: 30   Training loss: 0.205030   Validation Loss: 0.253138    Val_auc:0.83674\n",
      "Fold 2 metrics:   Avg Training loss: 0.2205   Avg Validation Loss: 0.2465   Val_auc:0.83674\n",
      "Saving test results for best model\n",
      "end of fold:  2 \n",
      "\n",
      "Fold number:  3\n",
      "Epoch: 1   Training loss: 0.261679   Validation Loss: 0.246340    Val_auc:0.84848\n",
      "Validation loss decresed from inf ----> 0.246340 Saving Model\n",
      "Epoch: 2   Training loss: 0.243538   Validation Loss: 0.242021    Val_auc:0.84924\n",
      "Validation loss decresed from 0.246340 ----> 0.242021 Saving Model\n",
      "Epoch: 3   Training loss: 0.238399   Validation Loss: 0.241904    Val_auc:0.84828\n",
      "Validation loss decresed from 0.242021 ----> 0.241904 Saving Model\n",
      "Epoch: 4   Training loss: 0.235873   Validation Loss: 0.242035    Val_auc:0.84813\n",
      "Epoch: 5   Training loss: 0.233228   Validation Loss: 0.248737    Val_auc:0.84760\n",
      "Epoch: 6   Training loss: 0.231780   Validation Loss: 0.242346    Val_auc:0.84726\n",
      "Epoch: 7   Training loss: 0.229430   Validation Loss: 0.242437    Val_auc:0.84721\n",
      "Epoch: 8   Training loss: 0.228111   Validation Loss: 0.243345    Val_auc:0.84718\n",
      "Epoch: 9   Training loss: 0.226697   Validation Loss: 0.244259    Val_auc:0.84599\n",
      "Epoch: 10   Training loss: 0.225536   Validation Loss: 0.244779    Val_auc:0.84563\n",
      "Epoch: 11   Training loss: 0.223590   Validation Loss: 0.245530    Val_auc:0.84538\n",
      "Epoch: 12   Training loss: 0.222146   Validation Loss: 0.246071    Val_auc:0.84570\n",
      "Epoch: 13   Training loss: 0.220880   Validation Loss: 0.247273    Val_auc:0.84157\n",
      "Epoch: 14   Training loss: 0.220003   Validation Loss: 0.248040    Val_auc:0.84131\n",
      "Epoch: 15   Training loss: 0.217844   Validation Loss: 0.251326    Val_auc:0.84260\n",
      "Epoch: 16   Training loss: 0.216424   Validation Loss: 0.248192    Val_auc:0.84243\n",
      "Epoch: 17   Training loss: 0.215689   Validation Loss: 0.250037    Val_auc:0.84188\n",
      "Epoch: 18   Training loss: 0.215317   Validation Loss: 0.249619    Val_auc:0.84076\n",
      "Epoch: 19   Training loss: 0.213763   Validation Loss: 0.250673    Val_auc:0.83948\n",
      "Epoch: 20   Training loss: 0.212848   Validation Loss: 0.250705    Val_auc:0.84173\n",
      "Epoch: 21   Training loss: 0.211584   Validation Loss: 0.252131    Val_auc:0.83649\n",
      "Epoch: 22   Training loss: 0.211340   Validation Loss: 0.251604    Val_auc:0.83865\n",
      "Epoch: 23   Training loss: 0.209710   Validation Loss: 0.252901    Val_auc:0.84040\n",
      "Epoch: 24   Training loss: 0.208921   Validation Loss: 0.255634    Val_auc:0.83593\n"
     ]
    },
    {
     "name": "stdout",
     "output_type": "stream",
     "text": [
      "Epoch: 25   Training loss: 0.208138   Validation Loss: 0.254823    Val_auc:0.83611\n",
      "Epoch: 26   Training loss: 0.208096   Validation Loss: 0.253999    Val_auc:0.83795\n",
      "Epoch: 27   Training loss: 0.207036   Validation Loss: 0.255410    Val_auc:0.83637\n",
      "Epoch: 28   Training loss: 0.205843   Validation Loss: 0.257687    Val_auc:0.83211\n",
      "Epoch: 29   Training loss: 0.205931   Validation Loss: 0.256008    Val_auc:0.83341\n",
      "Epoch: 30   Training loss: 0.205232   Validation Loss: 0.257169    Val_auc:0.83246\n",
      "Fold 3 metrics:   Avg Training loss: 0.2205   Avg Validation Loss: 0.2491   Val_auc:0.83246\n",
      "Saving test results for best model\n",
      "end of fold:  3 \n",
      "\n",
      "Fold number:  4\n",
      "Epoch: 1   Training loss: 0.262766   Validation Loss: 0.245623    Val_auc:0.84381\n",
      "Validation loss decresed from inf ----> 0.245623 Saving Model\n",
      "Epoch: 2   Training loss: 0.243006   Validation Loss: 0.244948    Val_auc:0.84457\n",
      "Validation loss decresed from 0.245623 ----> 0.244948 Saving Model\n",
      "Epoch: 3   Training loss: 0.237456   Validation Loss: 0.244296    Val_auc:0.84650\n",
      "Validation loss decresed from 0.244948 ----> 0.244296 Saving Model\n",
      "Epoch: 4   Training loss: 0.234043   Validation Loss: 0.250054    Val_auc:0.84521\n",
      "Epoch: 5   Training loss: 0.232313   Validation Loss: 0.244678    Val_auc:0.84528\n",
      "Epoch: 6   Training loss: 0.231357   Validation Loss: 0.257403    Val_auc:0.84526\n",
      "Epoch: 7   Training loss: 0.231840   Validation Loss: 0.244986    Val_auc:0.84476\n",
      "Epoch: 8   Training loss: 0.226535   Validation Loss: 0.246042    Val_auc:0.84294\n",
      "Epoch: 9   Training loss: 0.236473   Validation Loss: 0.260309    Val_auc:0.84073\n",
      "Epoch: 10   Training loss: 0.233221   Validation Loss: 0.252639    Val_auc:0.84263\n",
      "Epoch: 11   Training loss: 0.226397   Validation Loss: 0.250462    Val_auc:0.84175\n",
      "Epoch: 12   Training loss: 0.224761   Validation Loss: 0.248196    Val_auc:0.84199\n",
      "Epoch: 13   Training loss: 0.222046   Validation Loss: 0.251024    Val_auc:0.84339\n",
      "Epoch: 14   Training loss: 0.219696   Validation Loss: 0.249754    Val_auc:0.84150\n",
      "Epoch: 15   Training loss: 0.218084   Validation Loss: 0.251214    Val_auc:0.84020\n",
      "Epoch: 16   Training loss: 0.218324   Validation Loss: 0.257221    Val_auc:0.84079\n",
      "Epoch: 17   Training loss: 0.218298   Validation Loss: 0.253588    Val_auc:0.84074\n",
      "Epoch: 18   Training loss: 0.237703   Validation Loss: 0.268858    Val_auc:0.83624\n",
      "Epoch: 19   Training loss: 0.229849   Validation Loss: 0.251419    Val_auc:0.84152\n",
      "Epoch: 20   Training loss: 0.260632   Validation Loss: 0.262130    Val_auc:0.83795\n",
      "Epoch: 21   Training loss: 0.234794   Validation Loss: 0.250318    Val_auc:0.84194\n",
      "Epoch: 22   Training loss: 0.223875   Validation Loss: 0.253925    Val_auc:0.84344\n",
      "Epoch: 23   Training loss: 0.220569   Validation Loss: 0.256542    Val_auc:0.84272\n",
      "Epoch: 24   Training loss: 0.219680   Validation Loss: 0.251483    Val_auc:0.84321\n",
      "Epoch: 25   Training loss: 0.216870   Validation Loss: 0.251834    Val_auc:0.84360\n",
      "Epoch: 26   Training loss: 0.214975   Validation Loss: 0.254183    Val_auc:0.84348\n",
      "Epoch: 27   Training loss: 0.213374   Validation Loss: 0.254801    Val_auc:0.84226\n",
      "Epoch: 28   Training loss: 0.211592   Validation Loss: 0.254191    Val_auc:0.84358\n",
      "Epoch: 29   Training loss: 0.210697   Validation Loss: 0.254362    Val_auc:0.84307\n",
      "Epoch: 30   Training loss: 0.208695   Validation Loss: 0.255507    Val_auc:0.84279\n",
      "Fold 4 metrics:   Avg Training loss: 0.2273   Avg Validation Loss: 0.2524   Val_auc:0.84279\n",
      "Saving test results for best model\n",
      "end of fold:  4 \n",
      "\n",
      "Fold number:  5\n",
      "Epoch: 1   Training loss: 0.268793   Validation Loss: 0.248796    Val_auc:0.84770\n",
      "Validation loss decresed from inf ----> 0.248796 Saving Model\n",
      "Epoch: 2   Training loss: 0.247093   Validation Loss: 0.244908    Val_auc:0.84778\n",
      "Validation loss decresed from 0.248796 ----> 0.244908 Saving Model\n",
      "Epoch: 3   Training loss: 0.241238   Validation Loss: 0.246035    Val_auc:0.84862\n",
      "Epoch: 4   Training loss: 0.237444   Validation Loss: 0.246023    Val_auc:0.84816\n",
      "Epoch: 5   Training loss: 0.232555   Validation Loss: 0.243706    Val_auc:0.84862\n",
      "Validation loss decresed from 0.244908 ----> 0.243706 Saving Model\n",
      "Epoch: 6   Training loss: 0.231385   Validation Loss: 0.249308    Val_auc:0.84885\n",
      "Epoch: 7   Training loss: 0.233748   Validation Loss: 0.246171    Val_auc:0.84764\n",
      "Epoch: 8   Training loss: 0.230538   Validation Loss: 0.248296    Val_auc:0.84784\n",
      "Epoch: 9   Training loss: 0.228485   Validation Loss: 0.246183    Val_auc:0.84752\n",
      "Epoch: 10   Training loss: 0.225299   Validation Loss: 0.248321    Val_auc:0.84717\n",
      "Epoch: 11   Training loss: 0.224263   Validation Loss: 0.250473    Val_auc:0.84675\n",
      "Epoch: 12   Training loss: 0.222709   Validation Loss: 0.251933    Val_auc:0.84638\n",
      "Epoch: 13   Training loss: 0.221839   Validation Loss: 0.255942    Val_auc:0.84669\n",
      "Epoch: 14   Training loss: 0.219920   Validation Loss: 0.249093    Val_auc:0.84546\n",
      "Epoch: 15   Training loss: 0.218980   Validation Loss: 0.254571    Val_auc:0.84792\n",
      "Epoch: 16   Training loss: 0.220125   Validation Loss: 0.249729    Val_auc:0.84582\n",
      "Epoch: 17   Training loss: 0.217406   Validation Loss: 0.253038    Val_auc:0.84626\n",
      "Epoch: 18   Training loss: 0.215928   Validation Loss: 0.251428    Val_auc:0.84696\n",
      "Epoch: 19   Training loss: 0.214133   Validation Loss: 0.250401    Val_auc:0.84506\n",
      "Epoch: 20   Training loss: 0.224857   Validation Loss: 0.256836    Val_auc:0.84220\n",
      "Epoch: 21   Training loss: 0.216675   Validation Loss: 0.251885    Val_auc:0.84473\n",
      "Epoch: 22   Training loss: 0.212781   Validation Loss: 0.252024    Val_auc:0.84692\n",
      "Epoch: 23   Training loss: 0.210783   Validation Loss: 0.252974    Val_auc:0.84421\n",
      "Epoch: 24   Training loss: 0.210994   Validation Loss: 0.253502    Val_auc:0.84653\n",
      "Epoch: 25   Training loss: 0.211342   Validation Loss: 0.252606    Val_auc:0.84463\n",
      "Epoch: 26   Training loss: 0.208242   Validation Loss: 0.255047    Val_auc:0.84375\n",
      "Epoch: 27   Training loss: 0.208111   Validation Loss: 0.255138    Val_auc:0.84242\n",
      "Epoch: 28   Training loss: 0.207101   Validation Loss: 0.255484    Val_auc:0.84278\n",
      "Epoch: 29   Training loss: 0.206298   Validation Loss: 0.255797    Val_auc:0.84264\n",
      "Epoch: 30   Training loss: 0.206124   Validation Loss: 0.259759    Val_auc:0.84306\n",
      "Fold 5 metrics:   Avg Training loss: 0.2225   Avg Validation Loss: 0.2512   Val_auc:0.84306\n",
      "Saving test results for best model\n",
      "end of fold:  5 \n",
      "\n",
      "Wall time: 15min 31s\n"
     ]
    }
   ],
   "source": [
    "%%time\n",
    "oof = np.zeros(len(df_train))\n",
    "predictions = np.zeros(len(df_test))\n",
    "n_epochs = 30\n",
    "\n",
    "test_x = torch.from_numpy(df_test[train_cols].values).float()#.cuda()\n",
    "test_dataset = torch.utils.data.TensorDataset(test_x)\n",
    "testloader = torch.utils.data.DataLoader(test_dataset, batch_size = batch_size, shuffle = False)\n",
    "\n",
    "\n",
    "for n_fold, (train_idx, val_idx) in enumerate(folds.split(df_train, y_train)):\n",
    "    running_train_loss, running_val_loss = [],[]\n",
    "    val_loss_min = np.Inf\n",
    "#     print(i, train_idx.shape, val_idx.shape)\n",
    "\n",
    "    print(\"Fold number: \", n_fold+1)\n",
    "    train_x_fold = torch.from_numpy(df_train.iloc[train_idx][train_cols].values).float().cuda()\n",
    "    train_y_fold = torch.from_numpy(y_train[train_idx].values).float().cuda()\n",
    "    train_fold_dataset = torch.utils.data.TensorDataset(train_x_fold,train_y_fold)\n",
    "    trainloader = torch.utils.data.DataLoader(train_fold_dataset, batch_size = batch_size, shuffle = True)\n",
    "    \n",
    "    val_x_fold = torch.from_numpy(df_train.iloc[val_idx][train_cols].values).float().cuda()\n",
    "    val_y_fold = torch.from_numpy(y_train[val_idx].values).float().cuda()\n",
    "    val_fold_dataset = torch.utils.data.TensorDataset(val_x_fold,val_y_fold )\n",
    "    valloader = torch.utils.data.DataLoader(val_fold_dataset, batch_size = batch_size, shuffle = False)\n",
    "    \n",
    "    #Initiating model\n",
    "    model = classifier(100)\n",
    "    model.cuda()\n",
    "    optimizer = optim.Adam(model.parameters(), lr = 0.005)\n",
    "    # criterion = nn.CrossEntropyLoss() # also number of outputs should be 2\n",
    "    criterion = nn.BCEWithLogitsLoss()\n",
    "    \n",
    "    for epoch in range(n_epochs):\n",
    "        train_loss = 0\n",
    "        \n",
    "        for train_x_batch, train_y_batch in trainloader:\n",
    "            model.train()\n",
    "            optimizer.zero_grad()\n",
    "            output = model(train_x_batch)\n",
    "            loss = criterion(output, train_y_batch.view(-1,1))\n",
    "            loss.backward()\n",
    "            optimizer.step()\n",
    "            train_loss += loss.item()/len(trainloader)\n",
    "        \n",
    "        with torch.no_grad():\n",
    "            val_loss = 0\n",
    "            model.eval()\n",
    "            val_preds = []\n",
    "            val_true = []\n",
    "            \n",
    "            for i, (val_x_batch, val_y_batch) in enumerate(valloader):\n",
    "                val_output = model(val_x_batch)\n",
    "                val_loss += (criterion(val_output, val_y_batch.view(-1,1)).item())/len(valloader)\n",
    "                batch_output = sigmoid(val_output.cpu().numpy().squeeze())\n",
    "                try:\n",
    "                    batch_output = list(batch_output)\n",
    "                except TypeError:\n",
    "                    batch_output =[batch_output]\n",
    "                val_preds.extend(batch_output)\n",
    "                \n",
    "#                 batch_true = val_y_batch.cpu().numpy().squeeze()\n",
    "#                 try:\n",
    "#                     batch_true = list(batch_true)\n",
    "#                 except TypeError:\n",
    "#                     batch_true =[batch_true]\n",
    "#                 val_true.extend(batch_true)\n",
    "                \n",
    "        running_train_loss.append(train_loss)\n",
    "        running_val_loss.append(val_loss)\n",
    "        \n",
    "        \n",
    "        print(\"Epoch: {}   Training loss: {:.6f}   Validation Loss: {:.6f}    Val_auc:{:.5f}\".format(epoch+1,\n",
    "                                                                              train_loss,\n",
    "                                                                               val_loss,\n",
    "                                                                               roc_auc_score(y_train[val_idx].values,\n",
    "                                                                                             val_preds))\n",
    "         )\n",
    "        \n",
    "        if val_loss <= val_loss_min:\n",
    "            print(\"Validation loss decresed from {:.6f} ----> {:.6f} Saving Model\".format(val_loss_min,val_loss))\n",
    "            torch.save(model.state_dict(), \"san_cust_tran_torch.pt\")\n",
    "            val_loss_min = val_loss\n",
    "            \n",
    "        \n",
    "    oof[val_idx] = val_preds    \n",
    "    print(\"Fold {} metrics:   Avg Training loss: {:.4f}   Avg Validation Loss: {:.4f}   Val_auc:{:.5f}\".format(n_fold+1,\n",
    "                                                                              np.mean(running_train_loss),\n",
    "                                                                               np.mean(running_val_loss),\n",
    "                                                                               roc_auc_score(y_train[val_idx].values,\n",
    "                                                                                             oof[val_idx])))\n",
    "    y_test_pred_fold = []\n",
    "    print(\"Saving test results for best model\")\n",
    "    for (test_x_batch,) in testloader:\n",
    "        model.load_state_dict(torch.load(\"san_cust_tran_torch.pt\"))\n",
    "        model.cpu()\n",
    "        test_output = model(test_x_batch)\n",
    "        test_batch_output = sigmoid(test_output.detach().numpy().squeeze())\n",
    "        try:\n",
    "            test_batch_output = list(test_batch_output)\n",
    "        except TypeError:\n",
    "            test_batch_output =[test_batch_output]\n",
    "        y_test_pred_fold.extend(test_batch_output)\n",
    "    predictions += np.array(y_test_pred_fold)/folds.n_splits \n",
    "    \n",
    "    print(\"end of fold: \",n_fold+1,\"\\n\")\n",
    "        \n",
    "        "
   ]
  },
  {
   "cell_type": "code",
   "execution_count": 456,
   "metadata": {},
   "outputs": [
    {
     "data": {
      "image/png": "[encoded data removed]",
      "text/plain": [
       "<Figure size 576x288 with 1 Axes>"
      ]
     },
     "metadata": {
      "needs_background": "light"
     },
     "output_type": "display_data"
    }
   ],
   "source": [
    "plt.figure(figsize = (8,4))\n",
    "plt.title(\"Train vs val loss on last epoch\")\n",
    "plt.plot(running_train_loss, label = \"train\")\n",
    "plt.plot(running_val_loss, label = \"val\")\n",
    "plt.legend()\n",
    "plt.show()"
   ]
  },
  {
   "cell_type": "code",
   "execution_count": 445,
   "metadata": {},
   "outputs": [],
   "source": [
    "sub = pd.DataFrame({'ID_code': df_test.ID_code.values,\n",
    "                   'target': predictions})\n",
    "sub.to_csv('sub_pytorch_simplenn.csv', index = False)"
   ]
  },
  {
   "cell_type": "code",
   "execution_count": 243,
   "metadata": {},
   "outputs": [
    {
     "data": {
      "text/plain": [
       "(10,)"
      ]
     },
     "execution_count": 243,
     "metadata": {},
     "output_type": "execute_result"
    }
   ],
   "source": [
    "y_train[np.arange(0,10)].shape"
   ]
  },
  {
   "cell_type": "code",
   "execution_count": 394,
   "metadata": {},
   "outputs": [
    {
     "data": {
      "text/plain": [
       "OrderedDict([('fc1.weight',\n",
       "              tensor([[-0.0652, -0.1257, -0.3529,  ..., -0.0391,  0.2176, -0.1040],\n",
       "                      [-0.0255, -0.3264, -0.1005,  ...,  0.1810,  0.1328, -0.1319],\n",
       "                      [-0.2172, -0.2330, -0.2230,  ...,  0.1334, -0.0833, -0.0727],\n",
       "                      ...,\n",
       "                      [-0.3240, -0.1038, -0.3555,  ..., -0.0988,  0.0431, -0.3935],\n",
       "                      [-0.1193, -0.0127, -0.0562,  ...,  0.0815,  0.0255, -0.1399],\n",
       "                      [-0.1967, -0.1648, -0.1256,  ...,  0.3448, -0.1251, -0.2353]],\n",
       "                     device='cuda:0')),\n",
       "             ('fc1.bias',\n",
       "              tensor([ 0.2211, -0.1639,  0.0224, -0.2023,  0.0124, -0.1206, -0.1440, -0.2307,\n",
       "                       0.1026, -0.1597,  0.1066,  0.0243, -0.6924,  0.1618, -0.2068, -0.0942,\n",
       "                       0.0198, -0.0583,  0.1105,  0.0042,  0.1912,  0.0457,  0.0496,  0.0537,\n",
       "                       0.0404,  0.1532,  0.2986, -0.0159, -0.1630, -0.0023,  0.0543,  0.0579,\n",
       "                      -0.1685,  0.0911,  0.2816,  0.0360, -0.2756,  0.0850, -0.2084,  0.0841,\n",
       "                      -0.0658,  0.0556,  0.1181, -0.0570,  0.1520, -0.0720, -0.2186,  0.0258,\n",
       "                       0.0776,  0.1027, -0.0589, -0.1130,  0.1896,  0.0328, -0.4019,  0.0261,\n",
       "                       0.0817,  0.3004,  0.2027, -0.2699, -0.2552,  0.1272,  0.2042, -0.0661,\n",
       "                       0.0978, -0.0275,  0.1953,  0.0697, -0.0288, -0.0201, -0.2648, -0.0588,\n",
       "                       0.0999,  0.1355,  0.1100,  0.0132,  0.0679, -0.1136,  0.0345,  0.1708,\n",
       "                      -0.0363, -0.1513, -0.0188, -0.1362, -0.1003, -0.0300,  0.0618, -0.7219,\n",
       "                       0.0620, -0.2331,  0.0359,  0.0228, -0.0354, -0.2474, -0.1578, -0.0336,\n",
       "                       0.0549, -0.0373, -0.0770, -0.1512], device='cuda:0')),\n",
       "             ('fc2.weight',\n",
       "              tensor([[ 0.1024,  0.0510,  0.1328,  ...,  0.0793,  0.1247,  0.0654],\n",
       "                      [ 0.0490,  0.1042, -0.0324,  ...,  0.1853,  0.0827,  0.1671],\n",
       "                      [ 0.0475,  0.0278, -0.1452,  ..., -0.0800, -0.1304, -0.0867],\n",
       "                      ...,\n",
       "                      [ 0.0608,  0.1631,  0.0939,  ...,  0.0756,  0.0401,  0.1890],\n",
       "                      [ 0.0253, -0.1895, -0.0651,  ...,  0.0587, -0.0954, -0.1588],\n",
       "                      [ 0.0408,  0.0410, -0.0580,  ...,  0.0868,  0.0280,  0.0392]],\n",
       "                     device='cuda:0')),\n",
       "             ('fc2.bias',\n",
       "              tensor([ 0.0363,  0.1272, -0.0856, -0.0327, -0.0948,  0.7851,  1.0952,  0.1437,\n",
       "                      -0.0572, -0.3034,  0.1534,  0.3754,  0.1722,  0.6218,  0.0835, -0.2487,\n",
       "                      -0.1322,  0.2597,  1.0360,  0.7738,  0.0064,  0.2004,  0.1142,  0.1467,\n",
       "                      -0.1185,  0.0805, -0.0396,  0.1827,  0.1009,  0.1213,  0.0660, -0.0352,\n",
       "                      -0.1462, -0.1486, -0.0137, -0.0920, -0.1105,  0.9389,  0.2354,  0.1214,\n",
       "                      -0.0992,  0.0929, -0.0860,  0.1894, -0.0651, -0.2637,  1.1796,  0.0632,\n",
       "                       0.0125, -0.1716,  0.4705,  0.0427,  0.1332,  0.0939,  0.1284,  0.7005,\n",
       "                       0.1050, -0.1592,  0.2212,  0.1475, -0.3243,  0.1762,  0.1195, -0.0269,\n",
       "                       0.2567,  0.1127,  0.4774,  0.0730,  0.0503,  0.1804,  0.1107,  0.4214,\n",
       "                      -0.1291,  0.8826,  0.2748, -0.0399, -0.0919,  0.1631,  0.1054,  1.1404,\n",
       "                       0.9225, -0.0304, -0.1196,  0.5942,  0.0898, -0.1013,  0.9705,  1.1872,\n",
       "                       0.1302,  0.1685, -0.3345,  0.1752,  0.1393,  0.4277, -0.0927,  0.1124,\n",
       "                      -0.1864,  0.1082, -0.1084,  0.1207], device='cuda:0')),\n",
       "             ('fc3.weight',\n",
       "              tensor([[-0.0248, -0.0253,  0.0172,  0.1856,  0.0150,  0.2358,  0.2436,  0.1155,\n",
       "                       -0.0166,  0.0048, -0.0264,  0.1267, -0.0175,  0.2094,  0.1914,  0.0649,\n",
       "                       -0.0118,  0.0583,  0.3151,  0.2213, -0.0242, -0.0156, -0.0116, -0.0278,\n",
       "                       -0.0217, -0.0222, -0.0266,  0.1101, -0.0274, -0.0056, -0.0108,  0.0099,\n",
       "                       -0.0044, -0.0200,  0.0288, -0.0256,  0.0043,  0.1616, -0.0082, -0.0293,\n",
       "                        0.0761, -0.0330,  0.0872, -0.0186, -0.0426,  0.0745,  0.2083, -0.0204,\n",
       "                        0.0843,  0.1004,  0.3081, -0.0226, -0.0165, -0.0156, -0.0174,  0.1648,\n",
       "                       -0.0108, -0.0239, -0.0215, -0.0159, -0.0312, -0.0326, -0.0036,  0.0969,\n",
       "                        0.1104, -0.0347,  0.1187, -0.0245,  0.0187, -0.0159, -0.0132,  0.1770,\n",
       "                        0.0291,  0.2427,  0.1385, -0.0114,  0.0703,  0.1358, -0.0148,  0.3612,\n",
       "                        0.2583,  0.0775,  0.0884,  0.2218, -0.0442,  0.1009,  0.3392,  0.3024,\n",
       "                       -0.0217, -0.0122,  0.0658, -0.0279,  0.0819,  0.1188,  0.1227, -0.0299,\n",
       "                       -0.0220, -0.0080,  0.0049, -0.0128]], device='cuda:0')),\n",
       "             ('fc3.bias', tensor([-0.8120], device='cuda:0'))])"
      ]
     },
     "execution_count": 394,
     "metadata": {},
     "output_type": "execute_result"
    }
   ],
   "source": [
    "model.state_dict()"
   ]
  },
  {
   "cell_type": "code",
   "execution_count": 279,
   "metadata": {},
   "outputs": [
    {
     "name": "stdout",
     "output_type": "stream",
     "text": [
      "0 torch.Size([1000, 200]) torch.Size([1000])\n",
      "1 torch.Size([1000, 200]) torch.Size([1000])\n",
      "2 torch.Size([1000, 200]) torch.Size([1000])\n",
      "3 torch.Size([1000, 200]) torch.Size([1000])\n",
      "4 torch.Size([1000, 200]) torch.Size([1000])\n",
      "5 torch.Size([1, 200]) torch.Size([1])\n"
     ]
    }
   ],
   "source": [
    "for i, (val_x_batch, val_y_batch) in enumerate(valloader):\n",
    "    print(i, val_x_batch.shape, val_y_batch.shape)"
   ]
  },
  {
   "cell_type": "code",
   "execution_count": 293,
   "metadata": {},
   "outputs": [
    {
     "data": {
      "text/plain": [
       "array([0.49217793], dtype=float32)"
      ]
     },
     "execution_count": 293,
     "metadata": {},
     "output_type": "execute_result"
    }
   ],
   "source": [
    "sigmoid(val_output.cpu().numpy()[:,0])"
   ]
  },
  {
   "cell_type": "code",
   "execution_count": 335,
   "metadata": {},
   "outputs": [
    {
     "name": "stdout",
     "output_type": "stream",
     "text": [
      "10\n",
      "[0 1]\n"
     ]
    }
   ],
   "source": [
    "a = 10\n",
    "print(a)\n",
    "b = np.arange(2)\n",
    "print(b)"
   ]
  },
  {
   "cell_type": "code",
   "execution_count": 336,
   "metadata": {},
   "outputs": [
    {
     "data": {
      "text/plain": [
       "[0, 1]"
      ]
     },
     "execution_count": 336,
     "metadata": {},
     "output_type": "execute_result"
    }
   ],
   "source": [
    "list(b)"
   ]
  },
  {
   "cell_type": "code",
   "execution_count": 342,
   "metadata": {},
   "outputs": [
    {
     "data": {
      "text/plain": [
       "[array([0, 1])]"
      ]
     },
     "execution_count": 342,
     "metadata": {},
     "output_type": "execute_result"
    }
   ],
   "source": [
    "[b]"
   ]
  },
  {
   "cell_type": "code",
   "execution_count": null,
   "metadata": {},
   "outputs": [],
   "source": []
  }
 ],
 "metadata": {
  "kernelspec": {
   "display_name": "Python 3",
   "language": "python",
   "name": "python3"
  },
  "language_info": {
   "codemirror_mode": {
    "name": "ipython",
    "version": 3
   },
   "file_extension": ".py",
   "mimetype": "text/x-python",
   "name": "python",
   "nbconvert_exporter": "python",
   "pygments_lexer": "ipython3",
   "version": "3.7.1"
  }
 },
 "nbformat": 4,
 "nbformat_minor": 2
}
